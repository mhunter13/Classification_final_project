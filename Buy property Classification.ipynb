{
 "cells": [
  {
   "cell_type": "code",
   "execution_count": 78,
   "id": "9a545ace",
   "metadata": {},
   "outputs": [],
   "source": [
    "import warnings\n",
    "warnings.filterwarnings('ignore')\n",
    "\n",
    "import pandas as pd\n",
    "import numpy as np\n",
    "import seaborn as sns\n",
    "import matplotlib.pyplot as plt\n",
    "\n",
    "from sklearn.linear_model import LogisticRegression\n",
    "from sklearn.tree import DecisionTreeClassifier\n",
    "from sklearn.ensemble import RandomForestClassifier\n",
    "from sklearn.neighbors import KNeighborsClassifier\n",
    "from sklearn.naive_bayes import GaussianNB, MultinomialNB\n",
    "from sklearn.svm import SVC\n",
    "\n",
    "from sklearn.metrics import accuracy_score, confusion_matrix, plot_confusion_matrix, classification_report\n",
    "from sklearn.metrics import precision_recall_fscore_support as score\n",
    "from sklearn.metrics import roc_curve\n",
    "from sklearn.metrics import auc\n",
    "from sklearn.metrics import roc_auc_score\n",
    "\n",
    "from sklearn.preprocessing import StandardScaler\n",
    "from sklearn.model_selection import train_test_split\n",
    "from sklearn.model_selection import StratifiedKFold\n",
    "from sklearn.model_selection import cross_val_score\n",
    "from sklearn.model_selection import RandomizedSearchCV, GridSearchCV\n",
    "\n",
    "from xgboost import XGBClassifier\n",
    "\n",
    "# %config InlineBackend.figure_formats =['retina']  # or svg\n",
    "%matplotlib inline"
   ]
  },
  {
   "cell_type": "code",
   "execution_count": null,
   "id": "04b520f4",
   "metadata": {},
   "outputs": [],
   "source": [
    "df_buy = pd.read_csv('lisbon_buy_house_6302.csv')\n",
    "df_buy.head()"
   ]
  },
  {
   "cell_type": "code",
   "execution_count": null,
   "id": "f2c1ebd9",
   "metadata": {},
   "outputs": [],
   "source": [
    "df_buy.tail()"
   ]
  },
  {
   "cell_type": "code",
   "execution_count": null,
   "id": "3bbb8f38",
   "metadata": {},
   "outputs": [],
   "source": [
    "# steps to convert str to int or float, first remove unnecessary characters\n",
    "df_buy['Price'] = df_buy['Price'].str.replace(' ', '')\n",
    "df_buy['Price'] = df_buy['Price'].str.replace('€', '')\n",
    "df_buy['Address'] = df_buy['Address'].str.replace('Lisboa ', '')\n",
    "df_buy['Address'] = df_buy['Address'].str.replace('-', '')\n",
    "df_buy['City'] = df_buy['Address'].str.split(',', expand=True)[0]\n",
    "df_buy['Division'] = df_buy['Address'].str.split(',', expand=True)[1]\n",
    "df_buy['City'] = df_buy['City'].str.strip()  # removing leading and tailing white spaces\n",
    "df_buy['Size'] = df_buy['Size'].str.replace('m2', '')"
   ]
  },
  {
   "cell_type": "code",
   "execution_count": null,
   "id": "93c92938",
   "metadata": {},
   "outputs": [],
   "source": [
    "df_buy.head()"
   ]
  },
  {
   "cell_type": "code",
   "execution_count": null,
   "id": "4abbd536",
   "metadata": {},
   "outputs": [],
   "source": [
    "# convert to int/float\n",
    "df_buy['Price'] = pd.to_numeric(df_buy['Price'], errors='coerce')\n",
    "df_buy['Size'] = pd.to_numeric(df_buy['Size'], errors='coerce')\n",
    "df_buy['Bath'] = pd.to_numeric(df_buy['Bath'], errors='coerce')\n",
    "df_buy['Bed'] = pd.to_numeric(df_buy['Bed'], errors='coerce')\n",
    "print(df_buy.dtypes)"
   ]
  },
  {
   "cell_type": "code",
   "execution_count": null,
   "id": "f333ee06",
   "metadata": {},
   "outputs": [],
   "source": [
    "df_buy.head()"
   ]
  },
  {
   "cell_type": "code",
   "execution_count": null,
   "id": "20476c48",
   "metadata": {},
   "outputs": [],
   "source": [
    "df_buy.to_csv(r'lisbon_buy_6302_052922.csv', index = False, header=True)"
   ]
  },
  {
   "cell_type": "code",
   "execution_count": null,
   "id": "0237dd91",
   "metadata": {},
   "outputs": [],
   "source": [
    "# data cleaned in excel"
   ]
  },
  {
   "cell_type": "code",
   "execution_count": null,
   "id": "fd3c32af",
   "metadata": {},
   "outputs": [],
   "source": [
    "df = pd.read_csv('lisbon_buy_6302_052922_final.csv')"
   ]
  },
  {
   "cell_type": "code",
   "execution_count": null,
   "id": "498ba136",
   "metadata": {},
   "outputs": [],
   "source": [
    "df.head()"
   ]
  },
  {
   "cell_type": "code",
   "execution_count": null,
   "id": "fa477389",
   "metadata": {},
   "outputs": [],
   "source": []
  },
  {
   "cell_type": "code",
   "execution_count": null,
   "id": "1282f715",
   "metadata": {},
   "outputs": [],
   "source": []
  },
  {
   "cell_type": "code",
   "execution_count": null,
   "id": "f70a9bc9",
   "metadata": {},
   "outputs": [],
   "source": []
  },
  {
   "cell_type": "markdown",
   "id": "0418947c",
   "metadata": {},
   "source": [
    "####  Loading csv that has predicted rent and other caluculated cols added\n",
    "Assumptions: <br>\n",
    "-30% downpayment (standard in Portogul)<br>\n",
    "-4% interest rate (r(monthly rate): 0.003333)<br>\n",
    "-30 year fixed rate (n(term): 360)<br>\n",
    "M = P*r(1+r)^n/((1+r)^n) - 1)<br>\n",
    "-1% property tax<br>\n",
    "-0.5% property insurance<br>\n",
    "-0.5% of purchase value for yearly expense<br>\n"
   ]
  },
  {
   "cell_type": "code",
   "execution_count": 2,
   "id": "895ef43f",
   "metadata": {},
   "outputs": [],
   "source": [
    "df1 = pd.read_csv('lisbon_buy_with_rent2.csv', usecols=np.r_[0:12])"
   ]
  },
  {
   "cell_type": "code",
   "execution_count": 3,
   "id": "ada4efcc",
   "metadata": {
    "scrolled": true
   },
   "outputs": [
    {
     "data": {
      "text/html": [
       "<div>\n",
       "<style scoped>\n",
       "    .dataframe tbody tr th:only-of-type {\n",
       "        vertical-align: middle;\n",
       "    }\n",
       "\n",
       "    .dataframe tbody tr th {\n",
       "        vertical-align: top;\n",
       "    }\n",
       "\n",
       "    .dataframe thead th {\n",
       "        text-align: right;\n",
       "    }\n",
       "</style>\n",
       "<table border=\"1\" class=\"dataframe\">\n",
       "  <thead>\n",
       "    <tr style=\"text-align: right;\">\n",
       "      <th></th>\n",
       "      <th>Price</th>\n",
       "      <th>Size</th>\n",
       "      <th>Bath</th>\n",
       "      <th>Bed</th>\n",
       "      <th>City_Lisboa</th>\n",
       "      <th>City_Oeiras</th>\n",
       "      <th>City_Other</th>\n",
       "      <th>City_Sintra</th>\n",
       "      <th>predicted_rent</th>\n",
       "      <th>Monthly_mortgage</th>\n",
       "      <th>Monthly_other</th>\n",
       "      <th>Monthly_profit</th>\n",
       "    </tr>\n",
       "  </thead>\n",
       "  <tbody>\n",
       "    <tr>\n",
       "      <th>0</th>\n",
       "      <td>25000</td>\n",
       "      <td>80</td>\n",
       "      <td>1</td>\n",
       "      <td>3</td>\n",
       "      <td>0</td>\n",
       "      <td>0</td>\n",
       "      <td>1</td>\n",
       "      <td>0</td>\n",
       "      <td>779.06</td>\n",
       "      <td>83.547677</td>\n",
       "      <td>41.666667</td>\n",
       "      <td>653.842518</td>\n",
       "    </tr>\n",
       "    <tr>\n",
       "      <th>1</th>\n",
       "      <td>399900</td>\n",
       "      <td>250</td>\n",
       "      <td>2</td>\n",
       "      <td>5</td>\n",
       "      <td>0</td>\n",
       "      <td>0</td>\n",
       "      <td>0</td>\n",
       "      <td>1</td>\n",
       "      <td>1997.40</td>\n",
       "      <td>1336.428637</td>\n",
       "      <td>666.500000</td>\n",
       "      <td>-5.527533</td>\n",
       "    </tr>\n",
       "    <tr>\n",
       "      <th>2</th>\n",
       "      <td>318000</td>\n",
       "      <td>123</td>\n",
       "      <td>4</td>\n",
       "      <td>4</td>\n",
       "      <td>0</td>\n",
       "      <td>0</td>\n",
       "      <td>0</td>\n",
       "      <td>1</td>\n",
       "      <td>1607.23</td>\n",
       "      <td>1062.726448</td>\n",
       "      <td>530.000000</td>\n",
       "      <td>14.501594</td>\n",
       "    </tr>\n",
       "    <tr>\n",
       "      <th>3</th>\n",
       "      <td>280000</td>\n",
       "      <td>101</td>\n",
       "      <td>1</td>\n",
       "      <td>2</td>\n",
       "      <td>0</td>\n",
       "      <td>0</td>\n",
       "      <td>1</td>\n",
       "      <td>0</td>\n",
       "      <td>865.65</td>\n",
       "      <td>935.733979</td>\n",
       "      <td>466.666667</td>\n",
       "      <td>-536.754338</td>\n",
       "    </tr>\n",
       "    <tr>\n",
       "      <th>4</th>\n",
       "      <td>425000</td>\n",
       "      <td>402</td>\n",
       "      <td>3</td>\n",
       "      <td>4</td>\n",
       "      <td>0</td>\n",
       "      <td>0</td>\n",
       "      <td>1</td>\n",
       "      <td>0</td>\n",
       "      <td>2921.02</td>\n",
       "      <td>1420.310504</td>\n",
       "      <td>708.333333</td>\n",
       "      <td>792.373456</td>\n",
       "    </tr>\n",
       "  </tbody>\n",
       "</table>\n",
       "</div>"
      ],
      "text/plain": [
       "    Price  Size  Bath  Bed  City_Lisboa  City_Oeiras  City_Other  City_Sintra  \\\n",
       "0   25000    80     1    3            0            0           1            0   \n",
       "1  399900   250     2    5            0            0           0            1   \n",
       "2  318000   123     4    4            0            0           0            1   \n",
       "3  280000   101     1    2            0            0           1            0   \n",
       "4  425000   402     3    4            0            0           1            0   \n",
       "\n",
       "   predicted_rent  Monthly_mortgage  Monthly_other  Monthly_profit  \n",
       "0          779.06         83.547677      41.666667      653.842518  \n",
       "1         1997.40       1336.428637     666.500000       -5.527533  \n",
       "2         1607.23       1062.726448     530.000000       14.501594  \n",
       "3          865.65        935.733979     466.666667     -536.754338  \n",
       "4         2921.02       1420.310504     708.333333      792.373456  "
      ]
     },
     "execution_count": 3,
     "metadata": {},
     "output_type": "execute_result"
    }
   ],
   "source": [
    "df1.head()"
   ]
  },
  {
   "cell_type": "code",
   "execution_count": 4,
   "id": "24c98138",
   "metadata": {},
   "outputs": [
    {
     "data": {
      "text/html": [
       "<div>\n",
       "<style scoped>\n",
       "    .dataframe tbody tr th:only-of-type {\n",
       "        vertical-align: middle;\n",
       "    }\n",
       "\n",
       "    .dataframe tbody tr th {\n",
       "        vertical-align: top;\n",
       "    }\n",
       "\n",
       "    .dataframe thead th {\n",
       "        text-align: right;\n",
       "    }\n",
       "</style>\n",
       "<table border=\"1\" class=\"dataframe\">\n",
       "  <thead>\n",
       "    <tr style=\"text-align: right;\">\n",
       "      <th></th>\n",
       "      <th>Price</th>\n",
       "      <th>Size</th>\n",
       "      <th>Bath</th>\n",
       "      <th>Bed</th>\n",
       "      <th>City_Lisboa</th>\n",
       "      <th>City_Oeiras</th>\n",
       "      <th>City_Other</th>\n",
       "      <th>City_Sintra</th>\n",
       "      <th>Monthly_profit</th>\n",
       "    </tr>\n",
       "  </thead>\n",
       "  <tbody>\n",
       "    <tr>\n",
       "      <th>0</th>\n",
       "      <td>25000</td>\n",
       "      <td>80</td>\n",
       "      <td>1</td>\n",
       "      <td>3</td>\n",
       "      <td>0</td>\n",
       "      <td>0</td>\n",
       "      <td>1</td>\n",
       "      <td>0</td>\n",
       "      <td>653.842518</td>\n",
       "    </tr>\n",
       "    <tr>\n",
       "      <th>1</th>\n",
       "      <td>399900</td>\n",
       "      <td>250</td>\n",
       "      <td>2</td>\n",
       "      <td>5</td>\n",
       "      <td>0</td>\n",
       "      <td>0</td>\n",
       "      <td>0</td>\n",
       "      <td>1</td>\n",
       "      <td>-5.527533</td>\n",
       "    </tr>\n",
       "    <tr>\n",
       "      <th>2</th>\n",
       "      <td>318000</td>\n",
       "      <td>123</td>\n",
       "      <td>4</td>\n",
       "      <td>4</td>\n",
       "      <td>0</td>\n",
       "      <td>0</td>\n",
       "      <td>0</td>\n",
       "      <td>1</td>\n",
       "      <td>14.501594</td>\n",
       "    </tr>\n",
       "    <tr>\n",
       "      <th>3</th>\n",
       "      <td>280000</td>\n",
       "      <td>101</td>\n",
       "      <td>1</td>\n",
       "      <td>2</td>\n",
       "      <td>0</td>\n",
       "      <td>0</td>\n",
       "      <td>1</td>\n",
       "      <td>0</td>\n",
       "      <td>-536.754338</td>\n",
       "    </tr>\n",
       "    <tr>\n",
       "      <th>4</th>\n",
       "      <td>425000</td>\n",
       "      <td>402</td>\n",
       "      <td>3</td>\n",
       "      <td>4</td>\n",
       "      <td>0</td>\n",
       "      <td>0</td>\n",
       "      <td>1</td>\n",
       "      <td>0</td>\n",
       "      <td>792.373456</td>\n",
       "    </tr>\n",
       "  </tbody>\n",
       "</table>\n",
       "</div>"
      ],
      "text/plain": [
       "    Price  Size  Bath  Bed  City_Lisboa  City_Oeiras  City_Other  City_Sintra  \\\n",
       "0   25000    80     1    3            0            0           1            0   \n",
       "1  399900   250     2    5            0            0           0            1   \n",
       "2  318000   123     4    4            0            0           0            1   \n",
       "3  280000   101     1    2            0            0           1            0   \n",
       "4  425000   402     3    4            0            0           1            0   \n",
       "\n",
       "   Monthly_profit  \n",
       "0      653.842518  \n",
       "1       -5.527533  \n",
       "2       14.501594  \n",
       "3     -536.754338  \n",
       "4      792.373456  "
      ]
     },
     "execution_count": 4,
     "metadata": {},
     "output_type": "execute_result"
    }
   ],
   "source": [
    "df2 = df1.copy()\n",
    "df2 = df2.drop(columns = ['predicted_rent', 'Monthly_mortgage', 'Monthly_other'])\n",
    "df2.head()"
   ]
  },
  {
   "cell_type": "code",
   "execution_count": 5,
   "id": "e035914f",
   "metadata": {},
   "outputs": [
    {
     "data": {
      "text/html": [
       "<div>\n",
       "<style scoped>\n",
       "    .dataframe tbody tr th:only-of-type {\n",
       "        vertical-align: middle;\n",
       "    }\n",
       "\n",
       "    .dataframe tbody tr th {\n",
       "        vertical-align: top;\n",
       "    }\n",
       "\n",
       "    .dataframe thead th {\n",
       "        text-align: right;\n",
       "    }\n",
       "</style>\n",
       "<table border=\"1\" class=\"dataframe\">\n",
       "  <thead>\n",
       "    <tr style=\"text-align: right;\">\n",
       "      <th></th>\n",
       "      <th>Price</th>\n",
       "      <th>Size</th>\n",
       "      <th>Bath</th>\n",
       "      <th>Bed</th>\n",
       "      <th>City_Lisboa</th>\n",
       "      <th>City_Oeiras</th>\n",
       "      <th>City_Other</th>\n",
       "      <th>City_Sintra</th>\n",
       "      <th>Monthly_profit</th>\n",
       "    </tr>\n",
       "  </thead>\n",
       "  <tbody>\n",
       "    <tr>\n",
       "      <th>count</th>\n",
       "      <td>6.278000e+03</td>\n",
       "      <td>6278.000000</td>\n",
       "      <td>6278.000000</td>\n",
       "      <td>6278.000000</td>\n",
       "      <td>6278.000000</td>\n",
       "      <td>6278.000000</td>\n",
       "      <td>6278.000000</td>\n",
       "      <td>6278.000000</td>\n",
       "      <td>6278.000000</td>\n",
       "    </tr>\n",
       "    <tr>\n",
       "      <th>mean</th>\n",
       "      <td>5.477864e+05</td>\n",
       "      <td>165.968939</td>\n",
       "      <td>2.090634</td>\n",
       "      <td>2.698312</td>\n",
       "      <td>0.400127</td>\n",
       "      <td>0.073112</td>\n",
       "      <td>0.300892</td>\n",
       "      <td>0.119465</td>\n",
       "      <td>-1089.347155</td>\n",
       "    </tr>\n",
       "    <tr>\n",
       "      <th>std</th>\n",
       "      <td>6.499640e+05</td>\n",
       "      <td>1268.506388</td>\n",
       "      <td>1.484959</td>\n",
       "      <td>1.432380</td>\n",
       "      <td>0.489963</td>\n",
       "      <td>0.260342</td>\n",
       "      <td>0.458682</td>\n",
       "      <td>0.324360</td>\n",
       "      <td>7374.259659</td>\n",
       "    </tr>\n",
       "    <tr>\n",
       "      <th>min</th>\n",
       "      <td>1.200000e+04</td>\n",
       "      <td>1.000000</td>\n",
       "      <td>-2.000000</td>\n",
       "      <td>0.000000</td>\n",
       "      <td>0.000000</td>\n",
       "      <td>0.000000</td>\n",
       "      <td>0.000000</td>\n",
       "      <td>0.000000</td>\n",
       "      <td>-50567.042450</td>\n",
       "    </tr>\n",
       "    <tr>\n",
       "      <th>25%</th>\n",
       "      <td>2.100000e+05</td>\n",
       "      <td>75.000000</td>\n",
       "      <td>1.000000</td>\n",
       "      <td>2.000000</td>\n",
       "      <td>0.000000</td>\n",
       "      <td>0.000000</td>\n",
       "      <td>0.000000</td>\n",
       "      <td>0.000000</td>\n",
       "      <td>-1495.456795</td>\n",
       "    </tr>\n",
       "    <tr>\n",
       "      <th>50%</th>\n",
       "      <td>3.700000e+05</td>\n",
       "      <td>107.000000</td>\n",
       "      <td>2.000000</td>\n",
       "      <td>3.000000</td>\n",
       "      <td>0.000000</td>\n",
       "      <td>0.000000</td>\n",
       "      <td>0.000000</td>\n",
       "      <td>0.000000</td>\n",
       "      <td>-478.721613</td>\n",
       "    </tr>\n",
       "    <tr>\n",
       "      <th>75%</th>\n",
       "      <td>6.490000e+05</td>\n",
       "      <td>165.000000</td>\n",
       "      <td>3.000000</td>\n",
       "      <td>3.000000</td>\n",
       "      <td>1.000000</td>\n",
       "      <td>0.000000</td>\n",
       "      <td>1.000000</td>\n",
       "      <td>0.000000</td>\n",
       "      <td>-42.433367</td>\n",
       "    </tr>\n",
       "    <tr>\n",
       "      <th>max</th>\n",
       "      <td>1.250000e+07</td>\n",
       "      <td>80000.000000</td>\n",
       "      <td>24.000000</td>\n",
       "      <td>20.000000</td>\n",
       "      <td>1.000000</td>\n",
       "      <td>1.000000</td>\n",
       "      <td>1.000000</td>\n",
       "      <td>1.000000</td>\n",
       "      <td>438396.769200</td>\n",
       "    </tr>\n",
       "  </tbody>\n",
       "</table>\n",
       "</div>"
      ],
      "text/plain": [
       "              Price          Size         Bath          Bed  City_Lisboa  \\\n",
       "count  6.278000e+03   6278.000000  6278.000000  6278.000000  6278.000000   \n",
       "mean   5.477864e+05    165.968939     2.090634     2.698312     0.400127   \n",
       "std    6.499640e+05   1268.506388     1.484959     1.432380     0.489963   \n",
       "min    1.200000e+04      1.000000    -2.000000     0.000000     0.000000   \n",
       "25%    2.100000e+05     75.000000     1.000000     2.000000     0.000000   \n",
       "50%    3.700000e+05    107.000000     2.000000     3.000000     0.000000   \n",
       "75%    6.490000e+05    165.000000     3.000000     3.000000     1.000000   \n",
       "max    1.250000e+07  80000.000000    24.000000    20.000000     1.000000   \n",
       "\n",
       "       City_Oeiras   City_Other  City_Sintra  Monthly_profit  \n",
       "count  6278.000000  6278.000000  6278.000000     6278.000000  \n",
       "mean      0.073112     0.300892     0.119465    -1089.347155  \n",
       "std       0.260342     0.458682     0.324360     7374.259659  \n",
       "min       0.000000     0.000000     0.000000   -50567.042450  \n",
       "25%       0.000000     0.000000     0.000000    -1495.456795  \n",
       "50%       0.000000     0.000000     0.000000     -478.721613  \n",
       "75%       0.000000     1.000000     0.000000      -42.433367  \n",
       "max       1.000000     1.000000     1.000000   438396.769200  "
      ]
     },
     "execution_count": 5,
     "metadata": {},
     "output_type": "execute_result"
    }
   ],
   "source": [
    "df2.describe()"
   ]
  },
  {
   "cell_type": "code",
   "execution_count": 6,
   "id": "2b418bf7",
   "metadata": {},
   "outputs": [
    {
     "name": "stdout",
     "output_type": "stream",
     "text": [
      "<class 'pandas.core.frame.DataFrame'>\n",
      "RangeIndex: 6278 entries, 0 to 6277\n",
      "Data columns (total 9 columns):\n",
      " #   Column          Non-Null Count  Dtype  \n",
      "---  ------          --------------  -----  \n",
      " 0   Price           6278 non-null   int64  \n",
      " 1   Size            6278 non-null   int64  \n",
      " 2   Bath            6278 non-null   int64  \n",
      " 3   Bed             6278 non-null   int64  \n",
      " 4   City_Lisboa     6278 non-null   int64  \n",
      " 5   City_Oeiras     6278 non-null   int64  \n",
      " 6   City_Other      6278 non-null   int64  \n",
      " 7   City_Sintra     6278 non-null   int64  \n",
      " 8   Monthly_profit  6278 non-null   float64\n",
      "dtypes: float64(1), int64(8)\n",
      "memory usage: 441.5 KB\n"
     ]
    }
   ],
   "source": [
    "df2.info()"
   ]
  },
  {
   "cell_type": "code",
   "execution_count": 7,
   "id": "4943b7e8",
   "metadata": {},
   "outputs": [
    {
     "name": "stdout",
     "output_type": "stream",
     "text": [
      "281\n",
      "136\n"
     ]
    }
   ],
   "source": [
    "# bed and bath being zero\n",
    "print(df2['Bath'].value_counts()[0])\n",
    "print(df2['Bed'].value_counts()[0])"
   ]
  },
  {
   "cell_type": "code",
   "execution_count": 8,
   "id": "a07b074f",
   "metadata": {},
   "outputs": [
    {
     "data": {
      "text/html": [
       "<div>\n",
       "<style scoped>\n",
       "    .dataframe tbody tr th:only-of-type {\n",
       "        vertical-align: middle;\n",
       "    }\n",
       "\n",
       "    .dataframe tbody tr th {\n",
       "        vertical-align: top;\n",
       "    }\n",
       "\n",
       "    .dataframe thead th {\n",
       "        text-align: right;\n",
       "    }\n",
       "</style>\n",
       "<table border=\"1\" class=\"dataframe\">\n",
       "  <thead>\n",
       "    <tr style=\"text-align: right;\">\n",
       "      <th></th>\n",
       "      <th>Price</th>\n",
       "      <th>Size</th>\n",
       "      <th>Bath</th>\n",
       "      <th>Bed</th>\n",
       "      <th>City_Lisboa</th>\n",
       "      <th>City_Oeiras</th>\n",
       "      <th>City_Other</th>\n",
       "      <th>City_Sintra</th>\n",
       "      <th>Monthly_profit</th>\n",
       "    </tr>\n",
       "  </thead>\n",
       "  <tbody>\n",
       "    <tr>\n",
       "      <th>count</th>\n",
       "      <td>5.890000e+03</td>\n",
       "      <td>5890.000000</td>\n",
       "      <td>5890.000000</td>\n",
       "      <td>5890.000000</td>\n",
       "      <td>5890.000000</td>\n",
       "      <td>5890.000000</td>\n",
       "      <td>5890.000000</td>\n",
       "      <td>5890.000000</td>\n",
       "      <td>5890.000000</td>\n",
       "    </tr>\n",
       "    <tr>\n",
       "      <th>mean</th>\n",
       "      <td>5.581942e+05</td>\n",
       "      <td>168.155008</td>\n",
       "      <td>2.208998</td>\n",
       "      <td>2.760102</td>\n",
       "      <td>0.395416</td>\n",
       "      <td>0.074873</td>\n",
       "      <td>0.301188</td>\n",
       "      <td>0.121392</td>\n",
       "      <td>-1108.864602</td>\n",
       "    </tr>\n",
       "    <tr>\n",
       "      <th>std</th>\n",
       "      <td>6.566144e+05</td>\n",
       "      <td>1306.927280</td>\n",
       "      <td>1.450474</td>\n",
       "      <td>1.357359</td>\n",
       "      <td>0.488981</td>\n",
       "      <td>0.263208</td>\n",
       "      <td>0.458813</td>\n",
       "      <td>0.326610</td>\n",
       "      <td>7582.009200</td>\n",
       "    </tr>\n",
       "    <tr>\n",
       "      <th>min</th>\n",
       "      <td>1.250000e+04</td>\n",
       "      <td>1.000000</td>\n",
       "      <td>1.000000</td>\n",
       "      <td>1.000000</td>\n",
       "      <td>0.000000</td>\n",
       "      <td>0.000000</td>\n",
       "      <td>0.000000</td>\n",
       "      <td>0.000000</td>\n",
       "      <td>-50567.042450</td>\n",
       "    </tr>\n",
       "    <tr>\n",
       "      <th>25%</th>\n",
       "      <td>2.200000e+05</td>\n",
       "      <td>77.000000</td>\n",
       "      <td>1.000000</td>\n",
       "      <td>2.000000</td>\n",
       "      <td>0.000000</td>\n",
       "      <td>0.000000</td>\n",
       "      <td>0.000000</td>\n",
       "      <td>0.000000</td>\n",
       "      <td>-1509.340169</td>\n",
       "    </tr>\n",
       "    <tr>\n",
       "      <th>50%</th>\n",
       "      <td>3.800000e+05</td>\n",
       "      <td>109.000000</td>\n",
       "      <td>2.000000</td>\n",
       "      <td>3.000000</td>\n",
       "      <td>0.000000</td>\n",
       "      <td>0.000000</td>\n",
       "      <td>0.000000</td>\n",
       "      <td>0.000000</td>\n",
       "      <td>-488.481351</td>\n",
       "    </tr>\n",
       "    <tr>\n",
       "      <th>75%</th>\n",
       "      <td>6.515000e+05</td>\n",
       "      <td>167.000000</td>\n",
       "      <td>3.000000</td>\n",
       "      <td>3.000000</td>\n",
       "      <td>1.000000</td>\n",
       "      <td>0.000000</td>\n",
       "      <td>1.000000</td>\n",
       "      <td>0.000000</td>\n",
       "      <td>-47.432598</td>\n",
       "    </tr>\n",
       "    <tr>\n",
       "      <th>max</th>\n",
       "      <td>1.250000e+07</td>\n",
       "      <td>80000.000000</td>\n",
       "      <td>24.000000</td>\n",
       "      <td>15.000000</td>\n",
       "      <td>1.000000</td>\n",
       "      <td>1.000000</td>\n",
       "      <td>1.000000</td>\n",
       "      <td>1.000000</td>\n",
       "      <td>438396.769200</td>\n",
       "    </tr>\n",
       "  </tbody>\n",
       "</table>\n",
       "</div>"
      ],
      "text/plain": [
       "              Price          Size         Bath          Bed  City_Lisboa  \\\n",
       "count  5.890000e+03   5890.000000  5890.000000  5890.000000  5890.000000   \n",
       "mean   5.581942e+05    168.155008     2.208998     2.760102     0.395416   \n",
       "std    6.566144e+05   1306.927280     1.450474     1.357359     0.488981   \n",
       "min    1.250000e+04      1.000000     1.000000     1.000000     0.000000   \n",
       "25%    2.200000e+05     77.000000     1.000000     2.000000     0.000000   \n",
       "50%    3.800000e+05    109.000000     2.000000     3.000000     0.000000   \n",
       "75%    6.515000e+05    167.000000     3.000000     3.000000     1.000000   \n",
       "max    1.250000e+07  80000.000000    24.000000    15.000000     1.000000   \n",
       "\n",
       "       City_Oeiras   City_Other  City_Sintra  Monthly_profit  \n",
       "count  5890.000000  5890.000000  5890.000000     5890.000000  \n",
       "mean      0.074873     0.301188     0.121392    -1108.864602  \n",
       "std       0.263208     0.458813     0.326610     7582.009200  \n",
       "min       0.000000     0.000000     0.000000   -50567.042450  \n",
       "25%       0.000000     0.000000     0.000000    -1509.340169  \n",
       "50%       0.000000     0.000000     0.000000     -488.481351  \n",
       "75%       0.000000     1.000000     0.000000      -47.432598  \n",
       "max       1.000000     1.000000     1.000000   438396.769200  "
      ]
     },
     "execution_count": 8,
     "metadata": {},
     "output_type": "execute_result"
    }
   ],
   "source": [
    "# drop rows with bath <0 and bed = 0\n",
    "df2.drop(df2[(df2.Bath ==0) | (df2.Bed ==0)].index, inplace=True)\n",
    "df2.drop(df2[df2.Bath < 0].index, inplace=True)\n",
    "df2.describe()"
   ]
  },
  {
   "cell_type": "code",
   "execution_count": 9,
   "id": "6119734c",
   "metadata": {},
   "outputs": [
    {
     "data": {
      "image/png": "[encoded data removed]",
      "text/plain": [
       "<Figure size 720x360 with 4 Axes>"
      ]
     },
     "metadata": {
      "needs_background": "light"
     },
     "output_type": "display_data"
    }
   ],
   "source": [
    "# Outlier Analysis\n",
    "fig, axs = plt.subplots(2,2, figsize = (10,5))\n",
    "plt1 = sns.boxplot(df2['Price'], ax = axs[0,0])\n",
    "plt2 = sns.boxplot(df2['Size'], ax = axs[0,1])\n",
    "plt1 = sns.boxplot(df2['Bath'], ax = axs[1,0])\n",
    "plt2 = sns.boxplot(df2['Bed'], ax = axs[1,1])\n",
    "\n",
    "plt.tight_layout()"
   ]
  },
  {
   "cell_type": "code",
   "execution_count": 10,
   "id": "654d457b",
   "metadata": {},
   "outputs": [
    {
     "data": {
      "image/png": "[encoded data removed]",
      "text/plain": [
       "<Figure size 432x288 with 1 Axes>"
      ]
     },
     "metadata": {
      "needs_background": "light"
     },
     "output_type": "display_data"
    }
   ],
   "source": [
    "# outlier treatment for Price\n",
    "plt.boxplot(df2.Price)\n",
    "Q1 = df2.Price.quantile(0.25)\n",
    "Q3 = df2.Price.quantile(0.75)\n",
    "IQR = Q3 - Q1\n",
    "df2 = df2[(df2.Price >= Q1 - 1.5*IQR) & (df2.Price <= Q3 + 1.5*IQR)]"
   ]
  },
  {
   "cell_type": "code",
   "execution_count": 11,
   "id": "37a5d7c3",
   "metadata": {},
   "outputs": [
    {
     "data": {
      "image/png": "[encoded data removed]",
      "text/plain": [
       "<Figure size 432x288 with 1 Axes>"
      ]
     },
     "metadata": {
      "needs_background": "light"
     },
     "output_type": "display_data"
    }
   ],
   "source": [
    "# outlier treatment for Size\n",
    "plt.boxplot(df2.Size)\n",
    "Q1 = df2.Size.quantile(0.25)\n",
    "Q3 = df2.Size.quantile(0.75)\n",
    "IQR = Q3 - Q1\n",
    "df2 = df2[(df2.Size >= Q1 - 1.5*IQR) & (df2.Size <= Q3 + 1.5*IQR)]"
   ]
  },
  {
   "cell_type": "code",
   "execution_count": 12,
   "id": "6a941f01",
   "metadata": {},
   "outputs": [
    {
     "data": {
      "image/png": "[encoded data removed]",
      "text/plain": [
       "<Figure size 720x360 with 4 Axes>"
      ]
     },
     "metadata": {
      "needs_background": "light"
     },
     "output_type": "display_data"
    }
   ],
   "source": [
    "# Outlier Analysis\n",
    "fig, axs = plt.subplots(2,2, figsize = (10,5))\n",
    "plt1 = sns.boxplot(df2['Price'], ax = axs[0,0])\n",
    "plt2 = sns.boxplot(df2['Size'], ax = axs[0,1])\n",
    "plt1 = sns.boxplot(df2['Bath'], ax = axs[1,0])\n",
    "plt2 = sns.boxplot(df2['Bed'], ax = axs[1,1])\n",
    "\n",
    "plt.tight_layout()"
   ]
  },
  {
   "cell_type": "code",
   "execution_count": 13,
   "id": "5408a568",
   "metadata": {},
   "outputs": [
    {
     "data": {
      "text/html": [
       "<div>\n",
       "<style scoped>\n",
       "    .dataframe tbody tr th:only-of-type {\n",
       "        vertical-align: middle;\n",
       "    }\n",
       "\n",
       "    .dataframe tbody tr th {\n",
       "        vertical-align: top;\n",
       "    }\n",
       "\n",
       "    .dataframe thead th {\n",
       "        text-align: right;\n",
       "    }\n",
       "</style>\n",
       "<table border=\"1\" class=\"dataframe\">\n",
       "  <thead>\n",
       "    <tr style=\"text-align: right;\">\n",
       "      <th></th>\n",
       "      <th>Price</th>\n",
       "      <th>Size</th>\n",
       "      <th>Bath</th>\n",
       "      <th>Bed</th>\n",
       "      <th>City_Lisboa</th>\n",
       "      <th>City_Oeiras</th>\n",
       "      <th>City_Other</th>\n",
       "      <th>City_Sintra</th>\n",
       "      <th>Monthly_profit</th>\n",
       "    </tr>\n",
       "  </thead>\n",
       "  <tbody>\n",
       "    <tr>\n",
       "      <th>count</th>\n",
       "      <td>5.122000e+03</td>\n",
       "      <td>5122.000000</td>\n",
       "      <td>5122.000000</td>\n",
       "      <td>5122.000000</td>\n",
       "      <td>5122.000000</td>\n",
       "      <td>5122.000000</td>\n",
       "      <td>5122.000000</td>\n",
       "      <td>5122.000000</td>\n",
       "      <td>5122.000000</td>\n",
       "    </tr>\n",
       "    <tr>\n",
       "      <th>mean</th>\n",
       "      <td>4.037081e+05</td>\n",
       "      <td>110.322335</td>\n",
       "      <td>1.875244</td>\n",
       "      <td>2.495900</td>\n",
       "      <td>0.409410</td>\n",
       "      <td>0.075947</td>\n",
       "      <td>0.308668</td>\n",
       "      <td>0.123389</td>\n",
       "      <td>-720.907689</td>\n",
       "    </tr>\n",
       "    <tr>\n",
       "      <th>std</th>\n",
       "      <td>2.596853e+05</td>\n",
       "      <td>49.438374</td>\n",
       "      <td>0.950573</td>\n",
       "      <td>1.050605</td>\n",
       "      <td>0.491773</td>\n",
       "      <td>0.264939</td>\n",
       "      <td>0.461989</td>\n",
       "      <td>0.328916</td>\n",
       "      <td>992.427576</td>\n",
       "    </tr>\n",
       "    <tr>\n",
       "      <th>min</th>\n",
       "      <td>1.250000e+04</td>\n",
       "      <td>1.000000</td>\n",
       "      <td>1.000000</td>\n",
       "      <td>1.000000</td>\n",
       "      <td>0.000000</td>\n",
       "      <td>0.000000</td>\n",
       "      <td>0.000000</td>\n",
       "      <td>0.000000</td>\n",
       "      <td>-4987.107013</td>\n",
       "    </tr>\n",
       "    <tr>\n",
       "      <th>25%</th>\n",
       "      <td>1.990000e+05</td>\n",
       "      <td>73.000000</td>\n",
       "      <td>1.000000</td>\n",
       "      <td>2.000000</td>\n",
       "      <td>0.000000</td>\n",
       "      <td>0.000000</td>\n",
       "      <td>0.000000</td>\n",
       "      <td>0.000000</td>\n",
       "      <td>-1206.515370</td>\n",
       "    </tr>\n",
       "    <tr>\n",
       "      <th>50%</th>\n",
       "      <td>3.392500e+05</td>\n",
       "      <td>100.000000</td>\n",
       "      <td>2.000000</td>\n",
       "      <td>2.000000</td>\n",
       "      <td>0.000000</td>\n",
       "      <td>0.000000</td>\n",
       "      <td>0.000000</td>\n",
       "      <td>0.000000</td>\n",
       "      <td>-393.151975</td>\n",
       "    </tr>\n",
       "    <tr>\n",
       "      <th>75%</th>\n",
       "      <td>5.390000e+05</td>\n",
       "      <td>140.000000</td>\n",
       "      <td>2.000000</td>\n",
       "      <td>3.000000</td>\n",
       "      <td>1.000000</td>\n",
       "      <td>0.000000</td>\n",
       "      <td>1.000000</td>\n",
       "      <td>0.000000</td>\n",
       "      <td>-34.223040</td>\n",
       "    </tr>\n",
       "    <tr>\n",
       "      <th>max</th>\n",
       "      <td>1.295000e+06</td>\n",
       "      <td>262.000000</td>\n",
       "      <td>9.000000</td>\n",
       "      <td>11.000000</td>\n",
       "      <td>1.000000</td>\n",
       "      <td>1.000000</td>\n",
       "      <td>1.000000</td>\n",
       "      <td>1.000000</td>\n",
       "      <td>1588.578531</td>\n",
       "    </tr>\n",
       "  </tbody>\n",
       "</table>\n",
       "</div>"
      ],
      "text/plain": [
       "              Price         Size         Bath          Bed  City_Lisboa  \\\n",
       "count  5.122000e+03  5122.000000  5122.000000  5122.000000  5122.000000   \n",
       "mean   4.037081e+05   110.322335     1.875244     2.495900     0.409410   \n",
       "std    2.596853e+05    49.438374     0.950573     1.050605     0.491773   \n",
       "min    1.250000e+04     1.000000     1.000000     1.000000     0.000000   \n",
       "25%    1.990000e+05    73.000000     1.000000     2.000000     0.000000   \n",
       "50%    3.392500e+05   100.000000     2.000000     2.000000     0.000000   \n",
       "75%    5.390000e+05   140.000000     2.000000     3.000000     1.000000   \n",
       "max    1.295000e+06   262.000000     9.000000    11.000000     1.000000   \n",
       "\n",
       "       City_Oeiras   City_Other  City_Sintra  Monthly_profit  \n",
       "count  5122.000000  5122.000000  5122.000000     5122.000000  \n",
       "mean      0.075947     0.308668     0.123389     -720.907689  \n",
       "std       0.264939     0.461989     0.328916      992.427576  \n",
       "min       0.000000     0.000000     0.000000    -4987.107013  \n",
       "25%       0.000000     0.000000     0.000000    -1206.515370  \n",
       "50%       0.000000     0.000000     0.000000     -393.151975  \n",
       "75%       0.000000     1.000000     0.000000      -34.223040  \n",
       "max       1.000000     1.000000     1.000000     1588.578531  "
      ]
     },
     "execution_count": 13,
     "metadata": {},
     "output_type": "execute_result"
    }
   ],
   "source": [
    "df2.describe()"
   ]
  },
  {
   "cell_type": "code",
   "execution_count": 14,
   "id": "f5e25b4f",
   "metadata": {},
   "outputs": [
    {
     "data": {
      "text/html": [
       "<div>\n",
       "<style scoped>\n",
       "    .dataframe tbody tr th:only-of-type {\n",
       "        vertical-align: middle;\n",
       "    }\n",
       "\n",
       "    .dataframe tbody tr th {\n",
       "        vertical-align: top;\n",
       "    }\n",
       "\n",
       "    .dataframe thead th {\n",
       "        text-align: right;\n",
       "    }\n",
       "</style>\n",
       "<table border=\"1\" class=\"dataframe\">\n",
       "  <thead>\n",
       "    <tr style=\"text-align: right;\">\n",
       "      <th></th>\n",
       "      <th>Price</th>\n",
       "      <th>Size</th>\n",
       "      <th>Bath</th>\n",
       "      <th>Bed</th>\n",
       "      <th>City_Lisboa</th>\n",
       "      <th>City_Oeiras</th>\n",
       "      <th>City_Other</th>\n",
       "      <th>City_Sintra</th>\n",
       "      <th>Monthly_profit</th>\n",
       "    </tr>\n",
       "  </thead>\n",
       "  <tbody>\n",
       "    <tr>\n",
       "      <th>count</th>\n",
       "      <td>5.121000e+03</td>\n",
       "      <td>5121.000000</td>\n",
       "      <td>5121.000000</td>\n",
       "      <td>5121.000000</td>\n",
       "      <td>5121.000000</td>\n",
       "      <td>5121.000000</td>\n",
       "      <td>5121.000000</td>\n",
       "      <td>5121.000000</td>\n",
       "      <td>5121.000000</td>\n",
       "    </tr>\n",
       "    <tr>\n",
       "      <th>mean</th>\n",
       "      <td>4.036551e+05</td>\n",
       "      <td>110.343683</td>\n",
       "      <td>1.874439</td>\n",
       "      <td>2.495411</td>\n",
       "      <td>0.409490</td>\n",
       "      <td>0.075962</td>\n",
       "      <td>0.308533</td>\n",
       "      <td>0.123413</td>\n",
       "      <td>-720.632129</td>\n",
       "    </tr>\n",
       "    <tr>\n",
       "      <th>std</th>\n",
       "      <td>2.596829e+05</td>\n",
       "      <td>49.419587</td>\n",
       "      <td>0.948916</td>\n",
       "      <td>1.050125</td>\n",
       "      <td>0.491788</td>\n",
       "      <td>0.264963</td>\n",
       "      <td>0.461933</td>\n",
       "      <td>0.328943</td>\n",
       "      <td>992.328500</td>\n",
       "    </tr>\n",
       "    <tr>\n",
       "      <th>min</th>\n",
       "      <td>1.250000e+04</td>\n",
       "      <td>17.000000</td>\n",
       "      <td>1.000000</td>\n",
       "      <td>1.000000</td>\n",
       "      <td>0.000000</td>\n",
       "      <td>0.000000</td>\n",
       "      <td>0.000000</td>\n",
       "      <td>0.000000</td>\n",
       "      <td>-4987.107013</td>\n",
       "    </tr>\n",
       "    <tr>\n",
       "      <th>25%</th>\n",
       "      <td>1.990000e+05</td>\n",
       "      <td>73.000000</td>\n",
       "      <td>1.000000</td>\n",
       "      <td>2.000000</td>\n",
       "      <td>0.000000</td>\n",
       "      <td>0.000000</td>\n",
       "      <td>0.000000</td>\n",
       "      <td>0.000000</td>\n",
       "      <td>-1206.261364</td>\n",
       "    </tr>\n",
       "    <tr>\n",
       "      <th>50%</th>\n",
       "      <td>3.390000e+05</td>\n",
       "      <td>100.000000</td>\n",
       "      <td>2.000000</td>\n",
       "      <td>2.000000</td>\n",
       "      <td>0.000000</td>\n",
       "      <td>0.000000</td>\n",
       "      <td>0.000000</td>\n",
       "      <td>0.000000</td>\n",
       "      <td>-393.037994</td>\n",
       "    </tr>\n",
       "    <tr>\n",
       "      <th>75%</th>\n",
       "      <td>5.390000e+05</td>\n",
       "      <td>140.000000</td>\n",
       "      <td>2.000000</td>\n",
       "      <td>3.000000</td>\n",
       "      <td>1.000000</td>\n",
       "      <td>0.000000</td>\n",
       "      <td>1.000000</td>\n",
       "      <td>0.000000</td>\n",
       "      <td>-34.222115</td>\n",
       "    </tr>\n",
       "    <tr>\n",
       "      <th>max</th>\n",
       "      <td>1.295000e+06</td>\n",
       "      <td>262.000000</td>\n",
       "      <td>9.000000</td>\n",
       "      <td>11.000000</td>\n",
       "      <td>1.000000</td>\n",
       "      <td>1.000000</td>\n",
       "      <td>1.000000</td>\n",
       "      <td>1.000000</td>\n",
       "      <td>1588.578531</td>\n",
       "    </tr>\n",
       "  </tbody>\n",
       "</table>\n",
       "</div>"
      ],
      "text/plain": [
       "              Price         Size         Bath          Bed  City_Lisboa  \\\n",
       "count  5.121000e+03  5121.000000  5121.000000  5121.000000  5121.000000   \n",
       "mean   4.036551e+05   110.343683     1.874439     2.495411     0.409490   \n",
       "std    2.596829e+05    49.419587     0.948916     1.050125     0.491788   \n",
       "min    1.250000e+04    17.000000     1.000000     1.000000     0.000000   \n",
       "25%    1.990000e+05    73.000000     1.000000     2.000000     0.000000   \n",
       "50%    3.390000e+05   100.000000     2.000000     2.000000     0.000000   \n",
       "75%    5.390000e+05   140.000000     2.000000     3.000000     1.000000   \n",
       "max    1.295000e+06   262.000000     9.000000    11.000000     1.000000   \n",
       "\n",
       "       City_Oeiras   City_Other  City_Sintra  Monthly_profit  \n",
       "count  5121.000000  5121.000000  5121.000000     5121.000000  \n",
       "mean      0.075962     0.308533     0.123413     -720.632129  \n",
       "std       0.264963     0.461933     0.328943      992.328500  \n",
       "min       0.000000     0.000000     0.000000    -4987.107013  \n",
       "25%       0.000000     0.000000     0.000000    -1206.261364  \n",
       "50%       0.000000     0.000000     0.000000     -393.037994  \n",
       "75%       0.000000     1.000000     0.000000      -34.222115  \n",
       "max       1.000000     1.000000     1.000000     1588.578531  "
      ]
     },
     "execution_count": 14,
     "metadata": {},
     "output_type": "execute_result"
    }
   ],
   "source": [
    "df2.drop(df2[(df2.Size ==1)].index, inplace=True)\n",
    "df2.describe()"
   ]
  },
  {
   "cell_type": "code",
   "execution_count": 15,
   "id": "9148709b",
   "metadata": {},
   "outputs": [],
   "source": [
    "df_class = df2.copy()\n",
    "df_class = df_class.drop(columns = ['Price'])"
   ]
  },
  {
   "cell_type": "code",
   "execution_count": 16,
   "id": "ca05f37b",
   "metadata": {},
   "outputs": [
    {
     "data": {
      "image/png": "[encoded data removed]",
      "text/plain": [
       "<Figure size 1080x360 with 3 Axes>"
      ]
     },
     "metadata": {
      "needs_background": "light"
     },
     "output_type": "display_data"
    }
   ],
   "source": [
    "# histogram and heat map\n",
    "corr = df_class.corr()\n",
    "fig, axs = plt.subplots(1,2, figsize=[15,5])\n",
    "sns.distplot(df_class['Monthly_profit'], ax=axs[0])\n",
    "sns.heatmap(corr, ax=axs[1], annot=True)\n",
    "fig.tight_layout()"
   ]
  },
  {
   "cell_type": "code",
   "execution_count": 17,
   "id": "acd404d8",
   "metadata": {},
   "outputs": [
    {
     "data": {
      "text/html": [
       "<div>\n",
       "<style scoped>\n",
       "    .dataframe tbody tr th:only-of-type {\n",
       "        vertical-align: middle;\n",
       "    }\n",
       "\n",
       "    .dataframe tbody tr th {\n",
       "        vertical-align: top;\n",
       "    }\n",
       "\n",
       "    .dataframe thead th {\n",
       "        text-align: right;\n",
       "    }\n",
       "</style>\n",
       "<table border=\"1\" class=\"dataframe\">\n",
       "  <thead>\n",
       "    <tr style=\"text-align: right;\">\n",
       "      <th></th>\n",
       "      <th>Size</th>\n",
       "      <th>Bath</th>\n",
       "      <th>Bed</th>\n",
       "      <th>City_Lisboa</th>\n",
       "      <th>City_Oeiras</th>\n",
       "      <th>City_Other</th>\n",
       "      <th>City_Sintra</th>\n",
       "      <th>good_prop</th>\n",
       "    </tr>\n",
       "  </thead>\n",
       "  <tbody>\n",
       "    <tr>\n",
       "      <th>0</th>\n",
       "      <td>80</td>\n",
       "      <td>1</td>\n",
       "      <td>3</td>\n",
       "      <td>0</td>\n",
       "      <td>0</td>\n",
       "      <td>1</td>\n",
       "      <td>0</td>\n",
       "      <td>1</td>\n",
       "    </tr>\n",
       "    <tr>\n",
       "      <th>1</th>\n",
       "      <td>250</td>\n",
       "      <td>2</td>\n",
       "      <td>5</td>\n",
       "      <td>0</td>\n",
       "      <td>0</td>\n",
       "      <td>0</td>\n",
       "      <td>1</td>\n",
       "      <td>1</td>\n",
       "    </tr>\n",
       "    <tr>\n",
       "      <th>2</th>\n",
       "      <td>123</td>\n",
       "      <td>4</td>\n",
       "      <td>4</td>\n",
       "      <td>0</td>\n",
       "      <td>0</td>\n",
       "      <td>0</td>\n",
       "      <td>1</td>\n",
       "      <td>1</td>\n",
       "    </tr>\n",
       "    <tr>\n",
       "      <th>3</th>\n",
       "      <td>101</td>\n",
       "      <td>1</td>\n",
       "      <td>2</td>\n",
       "      <td>0</td>\n",
       "      <td>0</td>\n",
       "      <td>1</td>\n",
       "      <td>0</td>\n",
       "      <td>0</td>\n",
       "    </tr>\n",
       "    <tr>\n",
       "      <th>6</th>\n",
       "      <td>118</td>\n",
       "      <td>3</td>\n",
       "      <td>4</td>\n",
       "      <td>0</td>\n",
       "      <td>0</td>\n",
       "      <td>1</td>\n",
       "      <td>0</td>\n",
       "      <td>0</td>\n",
       "    </tr>\n",
       "  </tbody>\n",
       "</table>\n",
       "</div>"
      ],
      "text/plain": [
       "   Size  Bath  Bed  City_Lisboa  City_Oeiras  City_Other  City_Sintra  \\\n",
       "0    80     1    3            0            0           1            0   \n",
       "1   250     2    5            0            0           0            1   \n",
       "2   123     4    4            0            0           0            1   \n",
       "3   101     1    2            0            0           1            0   \n",
       "6   118     3    4            0            0           1            0   \n",
       "\n",
       "   good_prop  \n",
       "0          1  \n",
       "1          1  \n",
       "2          1  \n",
       "3          0  \n",
       "6          0  "
      ]
     },
     "execution_count": 17,
     "metadata": {},
     "output_type": "execute_result"
    }
   ],
   "source": [
    "df_class['good_prop'] = np.where(df_class['Monthly_profit'] > -300, 1, 0)  # good if monthly expense is less than 300\n",
    "df_class = df_class.drop(columns = ['Monthly_profit'])\n",
    "df_class.head()"
   ]
  },
  {
   "cell_type": "code",
   "execution_count": 18,
   "id": "c5c37a1a",
   "metadata": {},
   "outputs": [
    {
     "data": {
      "text/html": [
       "<div>\n",
       "<style scoped>\n",
       "    .dataframe tbody tr th:only-of-type {\n",
       "        vertical-align: middle;\n",
       "    }\n",
       "\n",
       "    .dataframe tbody tr th {\n",
       "        vertical-align: top;\n",
       "    }\n",
       "\n",
       "    .dataframe thead th {\n",
       "        text-align: right;\n",
       "    }\n",
       "</style>\n",
       "<table border=\"1\" class=\"dataframe\">\n",
       "  <thead>\n",
       "    <tr style=\"text-align: right;\">\n",
       "      <th></th>\n",
       "      <th>Size</th>\n",
       "      <th>Bath</th>\n",
       "      <th>Bed</th>\n",
       "      <th>City_Lisboa</th>\n",
       "      <th>City_Oeiras</th>\n",
       "      <th>City_Other</th>\n",
       "      <th>City_Sintra</th>\n",
       "      <th>good_prop</th>\n",
       "    </tr>\n",
       "  </thead>\n",
       "  <tbody>\n",
       "    <tr>\n",
       "      <th>count</th>\n",
       "      <td>5121.000000</td>\n",
       "      <td>5121.000000</td>\n",
       "      <td>5121.000000</td>\n",
       "      <td>5121.000000</td>\n",
       "      <td>5121.000000</td>\n",
       "      <td>5121.000000</td>\n",
       "      <td>5121.000000</td>\n",
       "      <td>5121.000000</td>\n",
       "    </tr>\n",
       "    <tr>\n",
       "      <th>mean</th>\n",
       "      <td>110.343683</td>\n",
       "      <td>1.874439</td>\n",
       "      <td>2.495411</td>\n",
       "      <td>0.409490</td>\n",
       "      <td>0.075962</td>\n",
       "      <td>0.308533</td>\n",
       "      <td>0.123413</td>\n",
       "      <td>0.446592</td>\n",
       "    </tr>\n",
       "    <tr>\n",
       "      <th>std</th>\n",
       "      <td>49.419587</td>\n",
       "      <td>0.948916</td>\n",
       "      <td>1.050125</td>\n",
       "      <td>0.491788</td>\n",
       "      <td>0.264963</td>\n",
       "      <td>0.461933</td>\n",
       "      <td>0.328943</td>\n",
       "      <td>0.497188</td>\n",
       "    </tr>\n",
       "    <tr>\n",
       "      <th>min</th>\n",
       "      <td>17.000000</td>\n",
       "      <td>1.000000</td>\n",
       "      <td>1.000000</td>\n",
       "      <td>0.000000</td>\n",
       "      <td>0.000000</td>\n",
       "      <td>0.000000</td>\n",
       "      <td>0.000000</td>\n",
       "      <td>0.000000</td>\n",
       "    </tr>\n",
       "    <tr>\n",
       "      <th>25%</th>\n",
       "      <td>73.000000</td>\n",
       "      <td>1.000000</td>\n",
       "      <td>2.000000</td>\n",
       "      <td>0.000000</td>\n",
       "      <td>0.000000</td>\n",
       "      <td>0.000000</td>\n",
       "      <td>0.000000</td>\n",
       "      <td>0.000000</td>\n",
       "    </tr>\n",
       "    <tr>\n",
       "      <th>50%</th>\n",
       "      <td>100.000000</td>\n",
       "      <td>2.000000</td>\n",
       "      <td>2.000000</td>\n",
       "      <td>0.000000</td>\n",
       "      <td>0.000000</td>\n",
       "      <td>0.000000</td>\n",
       "      <td>0.000000</td>\n",
       "      <td>0.000000</td>\n",
       "    </tr>\n",
       "    <tr>\n",
       "      <th>75%</th>\n",
       "      <td>140.000000</td>\n",
       "      <td>2.000000</td>\n",
       "      <td>3.000000</td>\n",
       "      <td>1.000000</td>\n",
       "      <td>0.000000</td>\n",
       "      <td>1.000000</td>\n",
       "      <td>0.000000</td>\n",
       "      <td>1.000000</td>\n",
       "    </tr>\n",
       "    <tr>\n",
       "      <th>max</th>\n",
       "      <td>262.000000</td>\n",
       "      <td>9.000000</td>\n",
       "      <td>11.000000</td>\n",
       "      <td>1.000000</td>\n",
       "      <td>1.000000</td>\n",
       "      <td>1.000000</td>\n",
       "      <td>1.000000</td>\n",
       "      <td>1.000000</td>\n",
       "    </tr>\n",
       "  </tbody>\n",
       "</table>\n",
       "</div>"
      ],
      "text/plain": [
       "              Size         Bath          Bed  City_Lisboa  City_Oeiras  \\\n",
       "count  5121.000000  5121.000000  5121.000000  5121.000000  5121.000000   \n",
       "mean    110.343683     1.874439     2.495411     0.409490     0.075962   \n",
       "std      49.419587     0.948916     1.050125     0.491788     0.264963   \n",
       "min      17.000000     1.000000     1.000000     0.000000     0.000000   \n",
       "25%      73.000000     1.000000     2.000000     0.000000     0.000000   \n",
       "50%     100.000000     2.000000     2.000000     0.000000     0.000000   \n",
       "75%     140.000000     2.000000     3.000000     1.000000     0.000000   \n",
       "max     262.000000     9.000000    11.000000     1.000000     1.000000   \n",
       "\n",
       "        City_Other  City_Sintra    good_prop  \n",
       "count  5121.000000  5121.000000  5121.000000  \n",
       "mean      0.308533     0.123413     0.446592  \n",
       "std       0.461933     0.328943     0.497188  \n",
       "min       0.000000     0.000000     0.000000  \n",
       "25%       0.000000     0.000000     0.000000  \n",
       "50%       0.000000     0.000000     0.000000  \n",
       "75%       1.000000     0.000000     1.000000  \n",
       "max       1.000000     1.000000     1.000000  "
      ]
     },
     "execution_count": 18,
     "metadata": {},
     "output_type": "execute_result"
    }
   ],
   "source": [
    "df_class.describe()"
   ]
  },
  {
   "cell_type": "code",
   "execution_count": 22,
   "id": "882feeb4",
   "metadata": {},
   "outputs": [],
   "source": [
    "df_class.to_csv(r'df_class_final.csv', index = False, header=True)"
   ]
  },
  {
   "cell_type": "code",
   "execution_count": 24,
   "id": "f8e88a19",
   "metadata": {},
   "outputs": [],
   "source": [
    "df_class = pd.read_csv('df_class_final.csv')"
   ]
  },
  {
   "cell_type": "code",
   "execution_count": 25,
   "id": "6cbec1ba",
   "metadata": {},
   "outputs": [
    {
     "data": {
      "image/png": "[encoded data removed]",
      "text/plain": [
       "<Figure size 1440x1440 with 72 Axes>"
      ]
     },
     "metadata": {
      "needs_background": "light"
     },
     "output_type": "display_data"
    }
   ],
   "source": [
    "sns.pairplot(df_class)\n",
    "plt.show()"
   ]
  },
  {
   "cell_type": "code",
   "execution_count": 196,
   "id": "820578b5",
   "metadata": {},
   "outputs": [
    {
     "data": {
      "text/plain": [
       "Text(0, 0.5, 'Count')"
      ]
     },
     "execution_count": 196,
     "metadata": {},
     "output_type": "execute_result"
    },
    {
     "data": {
      "image/png": "[encoded data removed]",
      "text/plain": [
       "<Figure size 288x432 with 1 Axes>"
      ]
     },
     "metadata": {
      "needs_background": "light"
     },
     "output_type": "display_data"
    }
   ],
   "source": [
    "plt.figure(figsize=(4,6))\n",
    "\n",
    "sns.countplot(x='good_prop', data=df_class)\n",
    "plt.xlabel('Good Property', fontsize=13)\n",
    "plt.ylabel('Count', fontsize=13)"
   ]
  },
  {
   "cell_type": "code",
   "execution_count": 27,
   "id": "5156eee7",
   "metadata": {},
   "outputs": [
    {
     "name": "stdout",
     "output_type": "stream",
     "text": [
      "not good: 55.00000000000001%\n",
      "good: 45.0%\n"
     ]
    }
   ],
   "source": [
    "# Check proportion of minor vs. major\n",
    "print('not good: {}%'.format(round((df_class['good_prop'].value_counts()[0] / df_class.shape[0]), 2)*100))\n",
    "print('good: {}%'.format(round((df_class['good_prop'].value_counts()[1] / df_class.shape[0]), 2)*100))"
   ]
  },
  {
   "cell_type": "code",
   "execution_count": null,
   "id": "37ca88b7",
   "metadata": {},
   "outputs": [],
   "source": []
  },
  {
   "cell_type": "code",
   "execution_count": null,
   "id": "98ca2689",
   "metadata": {},
   "outputs": [],
   "source": [
    "# Ready for classification model"
   ]
  },
  {
   "cell_type": "code",
   "execution_count": 93,
   "id": "3b85c6ad",
   "metadata": {},
   "outputs": [],
   "source": [
    "X = df_class.drop(columns = ['good_prop'])\n",
    "predictors = X.columns\n",
    "y = df_class['good_prop']"
   ]
  },
  {
   "cell_type": "markdown",
   "id": "dc06fcad",
   "metadata": {},
   "source": [
    "### Logistic Regression"
   ]
  },
  {
   "cell_type": "code",
   "execution_count": 94,
   "id": "a83f3690",
   "metadata": {},
   "outputs": [],
   "source": [
    "X_train, X_test, y_train, y_test = train_test_split(X,y, test_size=0.2)\n",
    "\n",
    "z = StandardScaler()\n",
    "z.fit(X_train[['Size']])  # size is the only continuous var\n",
    "\n",
    "X_train['Size'] = z.transform(X_train[['Size']])\n",
    "X_test['Size'] = z.transform(X_test[['Size']])\n"
   ]
  },
  {
   "cell_type": "code",
   "execution_count": 95,
   "id": "fef154a1",
   "metadata": {},
   "outputs": [],
   "source": [
    "lr = LogisticRegression()"
   ]
  },
  {
   "cell_type": "code",
   "execution_count": 96,
   "id": "439e497a",
   "metadata": {},
   "outputs": [
    {
     "data": {
      "text/html": [
       "<style>#sk-container-id-6 {color: black;background-color: white;}#sk-container-id-6 pre{padding: 0;}#sk-container-id-6 div.sk-toggleable {background-color: white;}#sk-container-id-6 label.sk-toggleable__label {cursor: pointer;display: block;width: 100%;margin-bottom: 0;padding: 0.3em;box-sizing: border-box;text-align: center;}#sk-container-id-6 label.sk-toggleable__label-arrow:before {content: \"▸\";float: left;margin-right: 0.25em;color: #696969;}#sk-container-id-6 label.sk-toggleable__label-arrow:hover:before {color: black;}#sk-container-id-6 div.sk-estimator:hover label.sk-toggleable__label-arrow:before {color: black;}#sk-container-id-6 div.sk-toggleable__content {max-height: 0;max-width: 0;overflow: hidden;text-align: left;background-color: #f0f8ff;}#sk-container-id-6 div.sk-toggleable__content pre {margin: 0.2em;color: black;border-radius: 0.25em;background-color: #f0f8ff;}#sk-container-id-6 input.sk-toggleable__control:checked~div.sk-toggleable__content {max-height: 200px;max-width: 100%;overflow: auto;}#sk-container-id-6 input.sk-toggleable__control:checked~label.sk-toggleable__label-arrow:before {content: \"▾\";}#sk-container-id-6 div.sk-estimator input.sk-toggleable__control:checked~label.sk-toggleable__label {background-color: #d4ebff;}#sk-container-id-6 div.sk-label input.sk-toggleable__control:checked~label.sk-toggleable__label {background-color: #d4ebff;}#sk-container-id-6 input.sk-hidden--visually {border: 0;clip: rect(1px 1px 1px 1px);clip: rect(1px, 1px, 1px, 1px);height: 1px;margin: -1px;overflow: hidden;padding: 0;position: absolute;width: 1px;}#sk-container-id-6 div.sk-estimator {font-family: monospace;background-color: #f0f8ff;border: 1px dotted black;border-radius: 0.25em;box-sizing: border-box;margin-bottom: 0.5em;}#sk-container-id-6 div.sk-estimator:hover {background-color: #d4ebff;}#sk-container-id-6 div.sk-parallel-item::after {content: \"\";width: 100%;border-bottom: 1px solid gray;flex-grow: 1;}#sk-container-id-6 div.sk-label:hover label.sk-toggleable__label {background-color: #d4ebff;}#sk-container-id-6 div.sk-serial::before {content: \"\";position: absolute;border-left: 1px solid gray;box-sizing: border-box;top: 0;bottom: 0;left: 50%;z-index: 0;}#sk-container-id-6 div.sk-serial {display: flex;flex-direction: column;align-items: center;background-color: white;padding-right: 0.2em;padding-left: 0.2em;position: relative;}#sk-container-id-6 div.sk-item {position: relative;z-index: 1;}#sk-container-id-6 div.sk-parallel {display: flex;align-items: stretch;justify-content: center;background-color: white;position: relative;}#sk-container-id-6 div.sk-item::before, #sk-container-id-6 div.sk-parallel-item::before {content: \"\";position: absolute;border-left: 1px solid gray;box-sizing: border-box;top: 0;bottom: 0;left: 50%;z-index: -1;}#sk-container-id-6 div.sk-parallel-item {display: flex;flex-direction: column;z-index: 1;position: relative;background-color: white;}#sk-container-id-6 div.sk-parallel-item:first-child::after {align-self: flex-end;width: 50%;}#sk-container-id-6 div.sk-parallel-item:last-child::after {align-self: flex-start;width: 50%;}#sk-container-id-6 div.sk-parallel-item:only-child::after {width: 0;}#sk-container-id-6 div.sk-dashed-wrapped {border: 1px dashed gray;margin: 0 0.4em 0.5em 0.4em;box-sizing: border-box;padding-bottom: 0.4em;background-color: white;}#sk-container-id-6 div.sk-label label {font-family: monospace;font-weight: bold;display: inline-block;line-height: 1.2em;}#sk-container-id-6 div.sk-label-container {text-align: center;}#sk-container-id-6 div.sk-container {/* jupyter's `normalize.less` sets `[hidden] { display: none; }` but bootstrap.min.css set `[hidden] { display: none !important; }` so we also need the `!important` here to be able to override the default hidden behavior on the sphinx rendered scikit-learn.org. See: https://github.com/scikit-learn/scikit-learn/issues/21755 */display: inline-block !important;position: relative;}#sk-container-id-6 div.sk-text-repr-fallback {display: none;}</style><div id=\"sk-container-id-6\" class=\"sk-top-container\"><div class=\"sk-text-repr-fallback\"><pre>LogisticRegression()</pre><b>In a Jupyter environment, please rerun this cell to show the HTML representation or trust the notebook. <br />On GitHub, the HTML representation is unable to render, please try loading this page with nbviewer.org.</b></div><div class=\"sk-container\" hidden><div class=\"sk-item\"><div class=\"sk-estimator sk-toggleable\"><input class=\"sk-toggleable__control sk-hidden--visually\" id=\"sk-estimator-id-6\" type=\"checkbox\" checked><label for=\"sk-estimator-id-6\" class=\"sk-toggleable__label sk-toggleable__label-arrow\">LogisticRegression</label><div class=\"sk-toggleable__content\"><pre>LogisticRegression()</pre></div></div></div></div></div>"
      ],
      "text/plain": [
       "LogisticRegression()"
      ]
     },
     "execution_count": 96,
     "metadata": {},
     "output_type": "execute_result"
    }
   ],
   "source": [
    "lr.fit(X_train, y_train)"
   ]
  },
  {
   "cell_type": "code",
   "execution_count": 97,
   "id": "cfa2a0cc",
   "metadata": {},
   "outputs": [],
   "source": [
    "lr_pred = lr.predict(X_test)"
   ]
  },
  {
   "cell_type": "code",
   "execution_count": 98,
   "id": "78f3f3a1",
   "metadata": {},
   "outputs": [
    {
     "data": {
      "text/plain": [
       "0.7404878048780488"
      ]
     },
     "execution_count": 98,
     "metadata": {},
     "output_type": "execute_result"
    }
   ],
   "source": [
    "accuracy_score(y_test, lr_pred)"
   ]
  },
  {
   "cell_type": "code",
   "execution_count": 99,
   "id": "49b080c7",
   "metadata": {},
   "outputs": [
    {
     "name": "stdout",
     "output_type": "stream",
     "text": [
      "Precision : 0.7402551737994776\n",
      "Recall    : 0.7305282436861384\n",
      "F-score   : 0.7326960784313725\n"
     ]
    }
   ],
   "source": [
    "precision, recall, fscore, support = score(y_test, lr_pred, average='macro')\n",
    "print(f'Precision : {precision}')\n",
    "print(f'Recall    : {recall}')\n",
    "print(f'F-score   : {fscore}')"
   ]
  },
  {
   "cell_type": "code",
   "execution_count": 100,
   "id": "ccab4c60",
   "metadata": {},
   "outputs": [
    {
     "data": {
      "text/plain": [
       "<sklearn.metrics._plot.confusion_matrix.ConfusionMatrixDisplay at 0x7f86ba03fc70>"
      ]
     },
     "execution_count": 100,
     "metadata": {},
     "output_type": "execute_result"
    },
    {
     "data": {
      "image/png": "[encoded data removed]",
      "text/plain": [
       "<Figure size 432x288 with 2 Axes>"
      ]
     },
     "metadata": {
      "needs_background": "light"
     },
     "output_type": "display_data"
    }
   ],
   "source": [
    "plot_confusion_matrix(lr, X_test, y_test)"
   ]
  },
  {
   "cell_type": "code",
   "execution_count": 101,
   "id": "e55d1602",
   "metadata": {},
   "outputs": [],
   "source": [
    "# LR Coef interpretation\n",
    "coef = pd.DataFrame({\"Coefs\": lr.coef_[0],  #[0] needed for Logistic Regression\n",
    "                    \"Names\": predictors})  \n",
    "coef = coef.append({\"Coefs\": lr.intercept_[0],  \n",
    "                    \"Names\": \"intercept\"}, ignore_index = True)"
   ]
  },
  {
   "cell_type": "code",
   "execution_count": 102,
   "id": "0e4b8041",
   "metadata": {},
   "outputs": [
    {
     "data": {
      "text/html": [
       "<div>\n",
       "<style scoped>\n",
       "    .dataframe tbody tr th:only-of-type {\n",
       "        vertical-align: middle;\n",
       "    }\n",
       "\n",
       "    .dataframe tbody tr th {\n",
       "        vertical-align: top;\n",
       "    }\n",
       "\n",
       "    .dataframe thead th {\n",
       "        text-align: right;\n",
       "    }\n",
       "</style>\n",
       "<table border=\"1\" class=\"dataframe\">\n",
       "  <thead>\n",
       "    <tr style=\"text-align: right;\">\n",
       "      <th></th>\n",
       "      <th>Coefs</th>\n",
       "      <th>Names</th>\n",
       "      <th>Odds Coefs</th>\n",
       "    </tr>\n",
       "  </thead>\n",
       "  <tbody>\n",
       "    <tr>\n",
       "      <th>0</th>\n",
       "      <td>-1.081393</td>\n",
       "      <td>Size</td>\n",
       "      <td>0.339123</td>\n",
       "    </tr>\n",
       "    <tr>\n",
       "      <th>1</th>\n",
       "      <td>-0.707064</td>\n",
       "      <td>Bath</td>\n",
       "      <td>0.493090</td>\n",
       "    </tr>\n",
       "    <tr>\n",
       "      <th>2</th>\n",
       "      <td>0.479945</td>\n",
       "      <td>Bed</td>\n",
       "      <td>1.615985</td>\n",
       "    </tr>\n",
       "    <tr>\n",
       "      <th>3</th>\n",
       "      <td>-0.992404</td>\n",
       "      <td>City_Lisboa</td>\n",
       "      <td>0.370684</td>\n",
       "    </tr>\n",
       "    <tr>\n",
       "      <th>4</th>\n",
       "      <td>-0.170498</td>\n",
       "      <td>City_Oeiras</td>\n",
       "      <td>0.843245</td>\n",
       "    </tr>\n",
       "    <tr>\n",
       "      <th>5</th>\n",
       "      <td>1.373707</td>\n",
       "      <td>City_Other</td>\n",
       "      <td>3.949968</td>\n",
       "    </tr>\n",
       "    <tr>\n",
       "      <th>6</th>\n",
       "      <td>2.413477</td>\n",
       "      <td>City_Sintra</td>\n",
       "      <td>11.172741</td>\n",
       "    </tr>\n",
       "    <tr>\n",
       "      <th>7</th>\n",
       "      <td>-0.528060</td>\n",
       "      <td>intercept</td>\n",
       "      <td>0.589748</td>\n",
       "    </tr>\n",
       "  </tbody>\n",
       "</table>\n",
       "</div>"
      ],
      "text/plain": [
       "      Coefs        Names  Odds Coefs\n",
       "0 -1.081393         Size    0.339123\n",
       "1 -0.707064         Bath    0.493090\n",
       "2  0.479945          Bed    1.615985\n",
       "3 -0.992404  City_Lisboa    0.370684\n",
       "4 -0.170498  City_Oeiras    0.843245\n",
       "5  1.373707   City_Other    3.949968\n",
       "6  2.413477  City_Sintra   11.172741\n",
       "7 -0.528060    intercept    0.589748"
      ]
     },
     "execution_count": 102,
     "metadata": {},
     "output_type": "execute_result"
    }
   ],
   "source": [
    "# adding odds\n",
    "coef['Odds Coefs'] = np.exp(coef['Coefs'])\n",
    "coef"
   ]
  },
  {
   "cell_type": "code",
   "execution_count": null,
   "id": "18367e96",
   "metadata": {},
   "outputs": [],
   "source": []
  },
  {
   "cell_type": "code",
   "execution_count": 103,
   "id": "d0f38788",
   "metadata": {},
   "outputs": [],
   "source": [
    "ypred_prob = lr.predict_proba(X)"
   ]
  },
  {
   "cell_type": "code",
   "execution_count": 104,
   "id": "714c5537",
   "metadata": {},
   "outputs": [],
   "source": [
    "ypred_prob1 = ypred_prob[:, 1]"
   ]
  },
  {
   "cell_type": "code",
   "execution_count": 105,
   "id": "295c091b",
   "metadata": {},
   "outputs": [
    {
     "data": {
      "text/plain": [
       "0.5534075375903144"
      ]
     },
     "execution_count": 105,
     "metadata": {},
     "output_type": "execute_result"
    }
   ],
   "source": [
    "thresh = 0.5\n",
    "\n",
    "ypred_prob_thresh = (ypred_prob1 > thresh) * 1\n",
    "accuracy_score(y, ypred_prob_thresh)"
   ]
  },
  {
   "cell_type": "code",
   "execution_count": 106,
   "id": "3e63e8ac",
   "metadata": {},
   "outputs": [
    {
     "data": {
      "text/html": [
       "<style>#sk-container-id-7 {color: black;background-color: white;}#sk-container-id-7 pre{padding: 0;}#sk-container-id-7 div.sk-toggleable {background-color: white;}#sk-container-id-7 label.sk-toggleable__label {cursor: pointer;display: block;width: 100%;margin-bottom: 0;padding: 0.3em;box-sizing: border-box;text-align: center;}#sk-container-id-7 label.sk-toggleable__label-arrow:before {content: \"▸\";float: left;margin-right: 0.25em;color: #696969;}#sk-container-id-7 label.sk-toggleable__label-arrow:hover:before {color: black;}#sk-container-id-7 div.sk-estimator:hover label.sk-toggleable__label-arrow:before {color: black;}#sk-container-id-7 div.sk-toggleable__content {max-height: 0;max-width: 0;overflow: hidden;text-align: left;background-color: #f0f8ff;}#sk-container-id-7 div.sk-toggleable__content pre {margin: 0.2em;color: black;border-radius: 0.25em;background-color: #f0f8ff;}#sk-container-id-7 input.sk-toggleable__control:checked~div.sk-toggleable__content {max-height: 200px;max-width: 100%;overflow: auto;}#sk-container-id-7 input.sk-toggleable__control:checked~label.sk-toggleable__label-arrow:before {content: \"▾\";}#sk-container-id-7 div.sk-estimator input.sk-toggleable__control:checked~label.sk-toggleable__label {background-color: #d4ebff;}#sk-container-id-7 div.sk-label input.sk-toggleable__control:checked~label.sk-toggleable__label {background-color: #d4ebff;}#sk-container-id-7 input.sk-hidden--visually {border: 0;clip: rect(1px 1px 1px 1px);clip: rect(1px, 1px, 1px, 1px);height: 1px;margin: -1px;overflow: hidden;padding: 0;position: absolute;width: 1px;}#sk-container-id-7 div.sk-estimator {font-family: monospace;background-color: #f0f8ff;border: 1px dotted black;border-radius: 0.25em;box-sizing: border-box;margin-bottom: 0.5em;}#sk-container-id-7 div.sk-estimator:hover {background-color: #d4ebff;}#sk-container-id-7 div.sk-parallel-item::after {content: \"\";width: 100%;border-bottom: 1px solid gray;flex-grow: 1;}#sk-container-id-7 div.sk-label:hover label.sk-toggleable__label {background-color: #d4ebff;}#sk-container-id-7 div.sk-serial::before {content: \"\";position: absolute;border-left: 1px solid gray;box-sizing: border-box;top: 0;bottom: 0;left: 50%;z-index: 0;}#sk-container-id-7 div.sk-serial {display: flex;flex-direction: column;align-items: center;background-color: white;padding-right: 0.2em;padding-left: 0.2em;position: relative;}#sk-container-id-7 div.sk-item {position: relative;z-index: 1;}#sk-container-id-7 div.sk-parallel {display: flex;align-items: stretch;justify-content: center;background-color: white;position: relative;}#sk-container-id-7 div.sk-item::before, #sk-container-id-7 div.sk-parallel-item::before {content: \"\";position: absolute;border-left: 1px solid gray;box-sizing: border-box;top: 0;bottom: 0;left: 50%;z-index: -1;}#sk-container-id-7 div.sk-parallel-item {display: flex;flex-direction: column;z-index: 1;position: relative;background-color: white;}#sk-container-id-7 div.sk-parallel-item:first-child::after {align-self: flex-end;width: 50%;}#sk-container-id-7 div.sk-parallel-item:last-child::after {align-self: flex-start;width: 50%;}#sk-container-id-7 div.sk-parallel-item:only-child::after {width: 0;}#sk-container-id-7 div.sk-dashed-wrapped {border: 1px dashed gray;margin: 0 0.4em 0.5em 0.4em;box-sizing: border-box;padding-bottom: 0.4em;background-color: white;}#sk-container-id-7 div.sk-label label {font-family: monospace;font-weight: bold;display: inline-block;line-height: 1.2em;}#sk-container-id-7 div.sk-label-container {text-align: center;}#sk-container-id-7 div.sk-container {/* jupyter's `normalize.less` sets `[hidden] { display: none; }` but bootstrap.min.css set `[hidden] { display: none !important; }` so we also need the `!important` here to be able to override the default hidden behavior on the sphinx rendered scikit-learn.org. See: https://github.com/scikit-learn/scikit-learn/issues/21755 */display: inline-block !important;position: relative;}#sk-container-id-7 div.sk-text-repr-fallback {display: none;}</style><div id=\"sk-container-id-7\" class=\"sk-top-container\"><div class=\"sk-text-repr-fallback\"><pre>LogisticRegression(penalty=&#x27;none&#x27;)</pre><b>In a Jupyter environment, please rerun this cell to show the HTML representation or trust the notebook. <br />On GitHub, the HTML representation is unable to render, please try loading this page with nbviewer.org.</b></div><div class=\"sk-container\" hidden><div class=\"sk-item\"><div class=\"sk-estimator sk-toggleable\"><input class=\"sk-toggleable__control sk-hidden--visually\" id=\"sk-estimator-id-7\" type=\"checkbox\" checked><label for=\"sk-estimator-id-7\" class=\"sk-toggleable__label sk-toggleable__label-arrow\">LogisticRegression</label><div class=\"sk-toggleable__content\"><pre>LogisticRegression(penalty=&#x27;none&#x27;)</pre></div></div></div></div></div>"
      ],
      "text/plain": [
       "LogisticRegression(penalty='none')"
      ]
     },
     "execution_count": 106,
     "metadata": {},
     "output_type": "execute_result"
    }
   ],
   "source": [
    "# regularization\n",
    "\n",
    "lr_reg = LogisticRegression(penalty = 'none')\n",
    "lr_reg.fit(X_train, y_train)"
   ]
  },
  {
   "cell_type": "code",
   "execution_count": 107,
   "id": "5227ba19",
   "metadata": {},
   "outputs": [
    {
     "data": {
      "text/plain": [
       "0.7404878048780488"
      ]
     },
     "execution_count": 107,
     "metadata": {},
     "output_type": "execute_result"
    }
   ],
   "source": [
    "lr_reg_pred = lr_reg.predict(X_test)\n",
    "accuracy_score(y_test, lr_reg_pred)"
   ]
  },
  {
   "cell_type": "markdown",
   "id": "c85ccfe6",
   "metadata": {},
   "source": [
    "### Decision Tree"
   ]
  },
  {
   "cell_type": "code",
   "execution_count": 108,
   "id": "9ec871d9",
   "metadata": {},
   "outputs": [
    {
     "data": {
      "text/html": [
       "<style>#sk-container-id-8 {color: black;background-color: white;}#sk-container-id-8 pre{padding: 0;}#sk-container-id-8 div.sk-toggleable {background-color: white;}#sk-container-id-8 label.sk-toggleable__label {cursor: pointer;display: block;width: 100%;margin-bottom: 0;padding: 0.3em;box-sizing: border-box;text-align: center;}#sk-container-id-8 label.sk-toggleable__label-arrow:before {content: \"▸\";float: left;margin-right: 0.25em;color: #696969;}#sk-container-id-8 label.sk-toggleable__label-arrow:hover:before {color: black;}#sk-container-id-8 div.sk-estimator:hover label.sk-toggleable__label-arrow:before {color: black;}#sk-container-id-8 div.sk-toggleable__content {max-height: 0;max-width: 0;overflow: hidden;text-align: left;background-color: #f0f8ff;}#sk-container-id-8 div.sk-toggleable__content pre {margin: 0.2em;color: black;border-radius: 0.25em;background-color: #f0f8ff;}#sk-container-id-8 input.sk-toggleable__control:checked~div.sk-toggleable__content {max-height: 200px;max-width: 100%;overflow: auto;}#sk-container-id-8 input.sk-toggleable__control:checked~label.sk-toggleable__label-arrow:before {content: \"▾\";}#sk-container-id-8 div.sk-estimator input.sk-toggleable__control:checked~label.sk-toggleable__label {background-color: #d4ebff;}#sk-container-id-8 div.sk-label input.sk-toggleable__control:checked~label.sk-toggleable__label {background-color: #d4ebff;}#sk-container-id-8 input.sk-hidden--visually {border: 0;clip: rect(1px 1px 1px 1px);clip: rect(1px, 1px, 1px, 1px);height: 1px;margin: -1px;overflow: hidden;padding: 0;position: absolute;width: 1px;}#sk-container-id-8 div.sk-estimator {font-family: monospace;background-color: #f0f8ff;border: 1px dotted black;border-radius: 0.25em;box-sizing: border-box;margin-bottom: 0.5em;}#sk-container-id-8 div.sk-estimator:hover {background-color: #d4ebff;}#sk-container-id-8 div.sk-parallel-item::after {content: \"\";width: 100%;border-bottom: 1px solid gray;flex-grow: 1;}#sk-container-id-8 div.sk-label:hover label.sk-toggleable__label {background-color: #d4ebff;}#sk-container-id-8 div.sk-serial::before {content: \"\";position: absolute;border-left: 1px solid gray;box-sizing: border-box;top: 0;bottom: 0;left: 50%;z-index: 0;}#sk-container-id-8 div.sk-serial {display: flex;flex-direction: column;align-items: center;background-color: white;padding-right: 0.2em;padding-left: 0.2em;position: relative;}#sk-container-id-8 div.sk-item {position: relative;z-index: 1;}#sk-container-id-8 div.sk-parallel {display: flex;align-items: stretch;justify-content: center;background-color: white;position: relative;}#sk-container-id-8 div.sk-item::before, #sk-container-id-8 div.sk-parallel-item::before {content: \"\";position: absolute;border-left: 1px solid gray;box-sizing: border-box;top: 0;bottom: 0;left: 50%;z-index: -1;}#sk-container-id-8 div.sk-parallel-item {display: flex;flex-direction: column;z-index: 1;position: relative;background-color: white;}#sk-container-id-8 div.sk-parallel-item:first-child::after {align-self: flex-end;width: 50%;}#sk-container-id-8 div.sk-parallel-item:last-child::after {align-self: flex-start;width: 50%;}#sk-container-id-8 div.sk-parallel-item:only-child::after {width: 0;}#sk-container-id-8 div.sk-dashed-wrapped {border: 1px dashed gray;margin: 0 0.4em 0.5em 0.4em;box-sizing: border-box;padding-bottom: 0.4em;background-color: white;}#sk-container-id-8 div.sk-label label {font-family: monospace;font-weight: bold;display: inline-block;line-height: 1.2em;}#sk-container-id-8 div.sk-label-container {text-align: center;}#sk-container-id-8 div.sk-container {/* jupyter's `normalize.less` sets `[hidden] { display: none; }` but bootstrap.min.css set `[hidden] { display: none !important; }` so we also need the `!important` here to be able to override the default hidden behavior on the sphinx rendered scikit-learn.org. See: https://github.com/scikit-learn/scikit-learn/issues/21755 */display: inline-block !important;position: relative;}#sk-container-id-8 div.sk-text-repr-fallback {display: none;}</style><div id=\"sk-container-id-8\" class=\"sk-top-container\"><div class=\"sk-text-repr-fallback\"><pre>DecisionTreeClassifier()</pre><b>In a Jupyter environment, please rerun this cell to show the HTML representation or trust the notebook. <br />On GitHub, the HTML representation is unable to render, please try loading this page with nbviewer.org.</b></div><div class=\"sk-container\" hidden><div class=\"sk-item\"><div class=\"sk-estimator sk-toggleable\"><input class=\"sk-toggleable__control sk-hidden--visually\" id=\"sk-estimator-id-8\" type=\"checkbox\" checked><label for=\"sk-estimator-id-8\" class=\"sk-toggleable__label sk-toggleable__label-arrow\">DecisionTreeClassifier</label><div class=\"sk-toggleable__content\"><pre>DecisionTreeClassifier()</pre></div></div></div></div></div>"
      ],
      "text/plain": [
       "DecisionTreeClassifier()"
      ]
     },
     "execution_count": 108,
     "metadata": {},
     "output_type": "execute_result"
    }
   ],
   "source": [
    "tree = DecisionTreeClassifier()\n",
    "tree.fit(X_train, y_train)"
   ]
  },
  {
   "cell_type": "code",
   "execution_count": 109,
   "id": "4ccd3c7a",
   "metadata": {},
   "outputs": [
    {
     "data": {
      "text/plain": [
       "0.7541463414634146"
      ]
     },
     "execution_count": 109,
     "metadata": {},
     "output_type": "execute_result"
    }
   ],
   "source": [
    "tree_pred = tree.predict(X_test)\n",
    "\n",
    "accuracy_score(y_test, tree_pred)"
   ]
  },
  {
   "cell_type": "code",
   "execution_count": 110,
   "id": "f33dc3ed",
   "metadata": {},
   "outputs": [
    {
     "data": {
      "text/plain": [
       "<sklearn.metrics._plot.confusion_matrix.ConfusionMatrixDisplay at 0x7f86ad27b0d0>"
      ]
     },
     "execution_count": 110,
     "metadata": {},
     "output_type": "execute_result"
    },
    {
     "data": {
      "image/png": "[encoded data removed]",
      "text/plain": [
       "<Figure size 432x288 with 2 Axes>"
      ]
     },
     "metadata": {
      "needs_background": "light"
     },
     "output_type": "display_data"
    }
   ],
   "source": [
    "plot_confusion_matrix(tree, X_test, y_test)"
   ]
  },
  {
   "cell_type": "code",
   "execution_count": 111,
   "id": "e5a70bec",
   "metadata": {},
   "outputs": [
    {
     "data": {
      "text/plain": [
       "25"
      ]
     },
     "execution_count": 111,
     "metadata": {},
     "output_type": "execute_result"
    }
   ],
   "source": [
    "tree.get_depth()"
   ]
  },
  {
   "cell_type": "code",
   "execution_count": 112,
   "id": "44c97fc3",
   "metadata": {},
   "outputs": [
    {
     "data": {
      "text/plain": [
       "913"
      ]
     },
     "execution_count": 112,
     "metadata": {},
     "output_type": "execute_result"
    }
   ],
   "source": [
    "tree.get_n_leaves()"
   ]
  },
  {
   "cell_type": "code",
   "execution_count": 113,
   "id": "d97e91d1",
   "metadata": {},
   "outputs": [
    {
     "data": {
      "text/plain": [
       "0.7541463414634146"
      ]
     },
     "execution_count": 113,
     "metadata": {},
     "output_type": "execute_result"
    }
   ],
   "source": [
    "# reducing tree depth\n",
    "tree15 = DecisionTreeClassifier(max_depth =15)\n",
    "tree15.fit(X_train, y_train)\n",
    "tree15_pred = tree.predict(X_test)\n",
    "accuracy_score(y_test, tree15_pred)"
   ]
  },
  {
   "cell_type": "code",
   "execution_count": 114,
   "id": "cb406834",
   "metadata": {},
   "outputs": [
    {
     "data": {
      "text/plain": [
       "<sklearn.metrics._plot.confusion_matrix.ConfusionMatrixDisplay at 0x7f86884d2ca0>"
      ]
     },
     "execution_count": 114,
     "metadata": {},
     "output_type": "execute_result"
    },
    {
     "data": {
      "image/png": "[encoded data removed]",
      "text/plain": [
       "<Figure size 432x288 with 2 Axes>"
      ]
     },
     "metadata": {
      "needs_background": "light"
     },
     "output_type": "display_data"
    }
   ],
   "source": [
    "plot_confusion_matrix(tree15, X_test, y_test)"
   ]
  },
  {
   "cell_type": "code",
   "execution_count": 115,
   "id": "c90a2c99",
   "metadata": {},
   "outputs": [
    {
     "data": {
      "text/plain": [
       "array([0.42334769, 0.2348195 , 0.1004928 , 0.16366762, 0.01140144,\n",
       "       0.03167702, 0.03459393])"
      ]
     },
     "execution_count": 115,
     "metadata": {},
     "output_type": "execute_result"
    }
   ],
   "source": [
    "tree15.feature_importances_"
   ]
  },
  {
   "cell_type": "code",
   "execution_count": null,
   "id": "90f33ab6",
   "metadata": {},
   "outputs": [],
   "source": []
  },
  {
   "cell_type": "markdown",
   "id": "9b5664b7",
   "metadata": {},
   "source": [
    "### Model Comparison"
   ]
  },
  {
   "cell_type": "markdown",
   "id": "039e2391",
   "metadata": {},
   "source": [
    "Testing 6 different algorithms: <br>\n",
    "Logistic Regression (LR) <br>\n",
    "K-Nearest Neighbors (KNN) <br>\n",
    "Random Forest (RF) <br>\n",
    "Decision Trees (DT) <br>\n",
    "Gaussian Naive Bayes (NB) <br>\n",
    "Support Vector Machines (SVM)"
   ]
  },
  {
   "cell_type": "code",
   "execution_count": 148,
   "id": "51790da0",
   "metadata": {},
   "outputs": [],
   "source": [
    "X_train, X_test, y_train, y_test = train_test_split(X,y, test_size=0.2)\n",
    "\n",
    "z = StandardScaler()\n",
    "z.fit(X_train[['Size']])  # size is the only continuous var\n",
    "\n",
    "X_train['Size'] = z.transform(X_train[['Size']])\n",
    "X_test['Size'] = z.transform(X_test[['Size']])\n"
   ]
  },
  {
   "cell_type": "code",
   "execution_count": 149,
   "id": "7b2aa8cd",
   "metadata": {},
   "outputs": [
    {
     "name": "stdout",
     "output_type": "stream",
     "text": [
      "LR: 0.759763 (0.010495)\n",
      "KNN: 0.770513 (0.012539)\n",
      "RF: 0.754407 (0.018004)\n",
      "DT: 0.738298 (0.018056)\n",
      "NB: 0.734373 (0.015546)\n",
      "SVM: 0.774900 (0.010670)\n",
      "XGBoost: 0.776619 (0.015374)\n"
     ]
    }
   ],
   "source": [
    "# Algorithms\n",
    "models = []\n",
    "models.append(('LR', LogisticRegression(solver='liblinear', multi_class='ovr')))\n",
    "models.append(('KNN', KNeighborsClassifier()))\n",
    "models.append(('RF', RandomForestClassifier()))\n",
    "models.append(('DT', DecisionTreeClassifier()))\n",
    "models.append(('NB', GaussianNB()))\n",
    "models.append(('SVM', SVC(probability=True)))\n",
    "models.append(('XGBoost', XGBClassifier(eval_metric='logloss')))\n",
    "\n",
    "# Evaluate each model\n",
    "results = []\n",
    "names = []\n",
    "for name, model in models:\n",
    "    kfold = StratifiedKFold(n_splits=10, random_state=1, shuffle=True)\n",
    "    cv_results = cross_val_score(model, X_train, y_train, cv=kfold, scoring='accuracy')\n",
    "    results.append(cv_results)\n",
    "    names.append(name)\n",
    "    \n",
    "    print('%s: %f (%f)' % (name, cv_results.mean(), cv_results.std()))"
   ]
  },
  {
   "cell_type": "code",
   "execution_count": 150,
   "id": "7cbbe4d9",
   "metadata": {},
   "outputs": [
    {
     "data": {
      "image/png": "[encoded data removed]",
      "text/plain": [
       "<Figure size 432x288 with 1 Axes>"
      ]
     },
     "metadata": {
      "needs_background": "light"
     },
     "output_type": "display_data"
    }
   ],
   "source": [
    "# Compare Algorithms\n",
    "plt.boxplot(results, labels=names)\n",
    "plt.title('Algorithm Comparison')\n",
    "plt.show()"
   ]
  },
  {
   "cell_type": "code",
   "execution_count": null,
   "id": "b09b4f0e",
   "metadata": {},
   "outputs": [],
   "source": []
  },
  {
   "cell_type": "code",
   "execution_count": 151,
   "id": "31c4cd68",
   "metadata": {},
   "outputs": [],
   "source": [
    "# Create list of model and accuracy dicts\n",
    "summaryList = []\n",
    "\n",
    "# List for storing scores\n",
    "scores = []"
   ]
  },
  {
   "cell_type": "code",
   "execution_count": 152,
   "id": "21a2b476",
   "metadata": {},
   "outputs": [],
   "source": [
    "# function to evaluate model and store scores\n",
    "\n",
    "def model_eval(algorithm, name, X_train, y_train):\n",
    "\n",
    "    class_model = algorithm\n",
    "\n",
    "    # Calculate accuracy of train\n",
    "    acc = cross_val_score(class_model, X_train, y_train).mean()\n",
    "\n",
    "    class_model.fit(X_train, y_train)\n",
    "\n",
    "    # Get predictions and probabilities\n",
    "    y_preds = class_model.predict(X_test)\n",
    "    y_score = class_model.predict_proba(X_test)\n",
    "\n",
    "    # Calculate accuracy of test\n",
    "    acc_test = round(accuracy_score(y_test, y_preds), 3)\n",
    "\n",
    "    # Get precision, recall, f1-score\n",
    "    precision, recall, fscore, support = score(y_test, y_preds, average='macro')\n",
    "\n",
    "    # Add model and accuracy dict to list\n",
    "    summaryList.append(dict([\n",
    "        ('Model', name),\n",
    "        ('Train Accuracy', round(acc, 3)),\n",
    "        ('Test Accuracy', acc_test),\n",
    "        ('Precision', round(precision, 3)),\n",
    "        ('Recall', round(recall, 3)),\n",
    "        ('F1', round(fscore, 3))\n",
    "         ]))\n",
    "\n",
    "    # Add y_score to list\n",
    "    scores.append(y_score)"
   ]
  },
  {
   "cell_type": "code",
   "execution_count": 153,
   "id": "cd1a41bb",
   "metadata": {},
   "outputs": [],
   "source": [
    "model_eval(LogisticRegression(), 'LR', X_train, y_train)\n",
    "model_eval(KNeighborsClassifier(), 'KNN', X_train, y_train)\n",
    "model_eval(RandomForestClassifier(), 'Random Forest', X_train, y_train)\n",
    "model_eval(DecisionTreeClassifier(), 'Dec Tree', X_train, y_train)\n",
    "model_eval(GaussianNB(), 'Gaussian NB', X_train, y_train)\n",
    "model_eval(SVC(probability=True), 'SVM', X_train, y_train)\n",
    "model_eval(XGBClassifier(eval_metric='auc'), 'XGBoost', X_train, y_train)"
   ]
  },
  {
   "cell_type": "code",
   "execution_count": 154,
   "id": "5824992f",
   "metadata": {},
   "outputs": [
    {
     "data": {
      "text/html": [
       "<div>\n",
       "<style scoped>\n",
       "    .dataframe tbody tr th:only-of-type {\n",
       "        vertical-align: middle;\n",
       "    }\n",
       "\n",
       "    .dataframe tbody tr th {\n",
       "        vertical-align: top;\n",
       "    }\n",
       "\n",
       "    .dataframe thead th {\n",
       "        text-align: right;\n",
       "    }\n",
       "</style>\n",
       "<table border=\"1\" class=\"dataframe\">\n",
       "  <thead>\n",
       "    <tr style=\"text-align: right;\">\n",
       "      <th></th>\n",
       "      <th>Model</th>\n",
       "      <th>Train Accuracy</th>\n",
       "      <th>Test Accuracy</th>\n",
       "      <th>Precision</th>\n",
       "      <th>Recall</th>\n",
       "      <th>F1</th>\n",
       "    </tr>\n",
       "  </thead>\n",
       "  <tbody>\n",
       "    <tr>\n",
       "      <th>0</th>\n",
       "      <td>LR</td>\n",
       "      <td>0.756</td>\n",
       "      <td>0.769</td>\n",
       "      <td>0.767</td>\n",
       "      <td>0.757</td>\n",
       "      <td>0.760</td>\n",
       "    </tr>\n",
       "    <tr>\n",
       "      <th>1</th>\n",
       "      <td>KNN</td>\n",
       "      <td>0.771</td>\n",
       "      <td>0.791</td>\n",
       "      <td>0.787</td>\n",
       "      <td>0.788</td>\n",
       "      <td>0.787</td>\n",
       "    </tr>\n",
       "    <tr>\n",
       "      <th>2</th>\n",
       "      <td>Random Forest</td>\n",
       "      <td>0.759</td>\n",
       "      <td>0.766</td>\n",
       "      <td>0.761</td>\n",
       "      <td>0.760</td>\n",
       "      <td>0.761</td>\n",
       "    </tr>\n",
       "    <tr>\n",
       "      <th>3</th>\n",
       "      <td>Dec Tree</td>\n",
       "      <td>0.747</td>\n",
       "      <td>0.755</td>\n",
       "      <td>0.751</td>\n",
       "      <td>0.747</td>\n",
       "      <td>0.748</td>\n",
       "    </tr>\n",
       "    <tr>\n",
       "      <th>4</th>\n",
       "      <td>Gaussian NB</td>\n",
       "      <td>0.735</td>\n",
       "      <td>0.749</td>\n",
       "      <td>0.749</td>\n",
       "      <td>0.735</td>\n",
       "      <td>0.738</td>\n",
       "    </tr>\n",
       "    <tr>\n",
       "      <th>5</th>\n",
       "      <td>SVM</td>\n",
       "      <td>0.774</td>\n",
       "      <td>0.790</td>\n",
       "      <td>0.787</td>\n",
       "      <td>0.783</td>\n",
       "      <td>0.785</td>\n",
       "    </tr>\n",
       "    <tr>\n",
       "      <th>6</th>\n",
       "      <td>XGBoost</td>\n",
       "      <td>0.784</td>\n",
       "      <td>0.794</td>\n",
       "      <td>0.791</td>\n",
       "      <td>0.788</td>\n",
       "      <td>0.789</td>\n",
       "    </tr>\n",
       "  </tbody>\n",
       "</table>\n",
       "</div>"
      ],
      "text/plain": [
       "           Model  Train Accuracy  Test Accuracy  Precision  Recall     F1\n",
       "0             LR           0.756          0.769      0.767   0.757  0.760\n",
       "1            KNN           0.771          0.791      0.787   0.788  0.787\n",
       "2  Random Forest           0.759          0.766      0.761   0.760  0.761\n",
       "3       Dec Tree           0.747          0.755      0.751   0.747  0.748\n",
       "4    Gaussian NB           0.735          0.749      0.749   0.735  0.738\n",
       "5            SVM           0.774          0.790      0.787   0.783  0.785\n",
       "6        XGBoost           0.784          0.794      0.791   0.788  0.789"
      ]
     },
     "execution_count": 154,
     "metadata": {},
     "output_type": "execute_result"
    }
   ],
   "source": [
    "model_summary = pd.DataFrame(data=summaryList)\n",
    "model_summary = model_summary[['Model', 'Train Accuracy', 'Test Accuracy', 'Precision', 'Recall', 'F1']]\n",
    "model_summary.drop_duplicates(inplace=True)\n",
    "model_summary"
   ]
  },
  {
   "cell_type": "code",
   "execution_count": 155,
   "id": "af576bf0",
   "metadata": {},
   "outputs": [],
   "source": [
    "def plot_roc_curves():\n",
    "    plt.figure(figsize=(10,6))\n",
    "    lw = 2\n",
    "    \n",
    "    # Logistic Regression\n",
    "    fpr, tpr, thresholds = roc_curve(y_test, scores[0][:,1], pos_label=1)\n",
    "    auc_lr = roc_auc_score(y_test, scores[0][:,1])\n",
    "    plt.plot(fpr, tpr, color='r',\n",
    "             lw=lw, label='LR, AUC=%.3f' % auc_lr)\n",
    "        \n",
    "    # KNN\n",
    "    fpr, tpr, thresholds = roc_curve(y_test, scores[1][:,1], pos_label=1)\n",
    "    auc_knn = roc_auc_score(y_test, scores[1][:,1])\n",
    "    plt.plot(fpr, tpr, color='y',\n",
    "             lw=lw, label='KNN, AUC=%.3f' % auc_knn)\n",
    "    \n",
    "    # Random Forest\n",
    "    fpr, tpr, thresholds = roc_curve(y_test, scores[2][:,1], pos_label=1)\n",
    "    auc_rf = roc_auc_score(y_test, scores[2][:,1])\n",
    "    plt.plot(fpr, tpr, color='b',\n",
    "             lw=lw, label='Random Forest, AUC=%.3f' % auc_rf)\n",
    "    \n",
    "    # Decision Tree\n",
    "    fpr, tpr, thresholds = roc_curve(y_test, scores[3][:,1], pos_label=1)\n",
    "    auc_dt = roc_auc_score(y_test, scores[3][:,1])\n",
    "    plt.plot(fpr, tpr, color='g',\n",
    "             lw=lw, label='Decision Tree, AUC=%.3f' % auc_dt)\n",
    "    \n",
    "    # Gaussian NB\n",
    "    fpr, tpr, thresholds = roc_curve(y_test, scores[4][:,1], pos_label=1)\n",
    "    auc_nb = roc_auc_score(y_test, scores[4][:,1])\n",
    "    plt.plot(fpr, tpr, color='c',\n",
    "             lw=lw, label='Gaussian NB, AUC=%.3f' % auc_nb)\n",
    "    \n",
    "    # SVM\n",
    "    fpr, tpr, thresholds = roc_curve(y_test, scores[5][:,1], pos_label=1)\n",
    "    auc_svm = roc_auc_score(y_test, scores[5][:,1])\n",
    "    plt.plot(fpr, tpr, color='m',\n",
    "             lw=lw, label='SVM, AUC=%.3f' % auc_svm)    \n",
    "    \n",
    "    # XGBoost\n",
    "    fpr, tpr, thresholds = roc_curve(y_test, scores[6][:,1], pos_label=1)\n",
    "    auc_xgb = roc_auc_score(y_test, scores[6][:,1])\n",
    "    plt.plot(fpr, tpr, color='lime',\n",
    "             lw=lw, label='XGBoost, AUC=%.3f' % auc_xgb)\n",
    "    \n",
    "    \n",
    "    # Formatting\n",
    "    plt.plot([0, 1], [0, 1], color='k', lw=lw, linestyle='--')\n",
    "    plt.xlim([-0.01, 1.0])\n",
    "    plt.ylim([0.0, 1.05])\n",
    "    plt.xlabel('False Positive Rate', fontsize=12)\n",
    "    plt.ylabel('True Positive Rate', fontsize=12)\n",
    "    plt.title('ROC Curve', fontsize=12)\n",
    "    plt.legend(loc=\"lower right\")\n",
    "    plt.show()"
   ]
  },
  {
   "cell_type": "code",
   "execution_count": 156,
   "id": "a67584bb",
   "metadata": {},
   "outputs": [
    {
     "data": {
      "image/png": "[encoded data removed]",
      "text/plain": [
       "<Figure size 720x432 with 1 Axes>"
      ]
     },
     "metadata": {
      "needs_background": "light"
     },
     "output_type": "display_data"
    }
   ],
   "source": [
    "plot_roc_curves()"
   ]
  },
  {
   "cell_type": "code",
   "execution_count": null,
   "id": "793853a3",
   "metadata": {},
   "outputs": [],
   "source": []
  },
  {
   "cell_type": "markdown",
   "id": "756fe32c",
   "metadata": {},
   "source": [
    "### Hyperparameter Grid Search for XGBoost"
   ]
  },
  {
   "cell_type": "code",
   "execution_count": 157,
   "id": "3784e0fc",
   "metadata": {},
   "outputs": [],
   "source": [
    "from datetime import datetime"
   ]
  },
  {
   "cell_type": "code",
   "execution_count": 158,
   "id": "8270afd4",
   "metadata": {},
   "outputs": [],
   "source": [
    "def timer(start_time=None):\n",
    "    if not start_time:\n",
    "        start_time = datetime.now()\n",
    "        return start_time\n",
    "    elif start_time:\n",
    "        thour, temp_sec = divmod((datetime.now() - start_time).total_seconds(), 3600)\n",
    "        tmin, tsec = divmod(temp_sec, 60)\n",
    "        print('\\n Time taken: %i hours %i minutes and %s seconds.' % (thour, tmin, round(tsec, 2)))"
   ]
  },
  {
   "cell_type": "code",
   "execution_count": 187,
   "id": "90932022",
   "metadata": {},
   "outputs": [],
   "source": [
    "# A parameter grid for XGBoost\n",
    "params = {\n",
    "        'min_child_weight': [1, 5, 10, 20, 50], #[0, ∞]\n",
    "        'gamma': [0.2, 0.4, 0.5, 1, 1.5, 2, 5, 10, 20, 50],   #[0, ∞]\n",
    "        'subsample': [0.2, 0.4,0.5,0.6, 0.8, 1.0],   #[0,1]\n",
    "        'colsample_bytree': [0.2, 0.4, 0.6, 0.8, 1.0],   #[0,1]\n",
    "        'max_depth': [3, 4, 5, 6, 7, 8, 9, 10],   #[0, ∞] default=6\n",
    "        'eta': [0.1, 0.2, 0.4, 0.8],         #[0,1]\n",
    "        }"
   ]
  },
  {
   "cell_type": "code",
   "execution_count": 188,
   "id": "fd54383a",
   "metadata": {},
   "outputs": [],
   "source": [
    "xgb = XGBClassifier(learning_rate=0.001, n_estimators=600, objective='binary:logistic',\n",
    "                    silent=True, nthread=1)"
   ]
  },
  {
   "cell_type": "code",
   "execution_count": 189,
   "id": "1584cfa8",
   "metadata": {},
   "outputs": [
    {
     "name": "stdout",
     "output_type": "stream",
     "text": [
      "Fitting 5 folds for each of 5 candidates, totalling 25 fits\n",
      "\n",
      " Time taken: 0 hours 0 minutes and 6.1 seconds.\n"
     ]
    }
   ],
   "source": [
    "folds = 5\n",
    "param_comb = 5\n",
    "\n",
    "skf = StratifiedKFold(n_splits=folds, shuffle = True, random_state = 1001)\n",
    "\n",
    "random_search = RandomizedSearchCV(xgb, param_distributions=params, n_iter=param_comb, scoring='roc_auc', n_jobs=4, cv=skf.split(X_train,y_train), verbose=3, random_state=1001 )\n",
    "\n",
    "start_time = timer(None) # timing starts from this point for \"start_time\" variable\n",
    "random_search.fit(X_train, y_train)\n",
    "timer(start_time) # timing ends here for \"start_time\" variable"
   ]
  },
  {
   "cell_type": "code",
   "execution_count": 190,
   "id": "d75b11a6",
   "metadata": {},
   "outputs": [
    {
     "name": "stdout",
     "output_type": "stream",
     "text": [
      "\n",
      " All results:\n",
      "{'mean_fit_time': array([0.63358412, 0.47826104, 0.56116753, 0.74175582, 0.29434924]), 'std_fit_time': array([0.02767038, 0.00346141, 0.00902513, 0.00331756, 0.00444593]), 'mean_score_time': array([0.01339417, 0.00793185, 0.00593657, 0.00530763, 0.00627699]), 'std_score_time': array([0.00210792, 0.0007584 , 0.00059949, 0.00017532, 0.00020946]), 'param_subsample': masked_array(data=[0.6, 0.4, 0.4, 0.5, 0.2],\n",
      "             mask=[False, False, False, False, False],\n",
      "       fill_value='?',\n",
      "            dtype=object), 'param_min_child_weight': masked_array(data=[1, 1, 50, 50, 1],\n",
      "             mask=[False, False, False, False, False],\n",
      "       fill_value='?',\n",
      "            dtype=object), 'param_max_depth': masked_array(data=[6, 5, 6, 10, 7],\n",
      "             mask=[False, False, False, False, False],\n",
      "       fill_value='?',\n",
      "            dtype=object), 'param_gamma': masked_array(data=[1, 5, 10, 20, 2],\n",
      "             mask=[False, False, False, False, False],\n",
      "       fill_value='?',\n",
      "            dtype=object), 'param_eta': masked_array(data=[0.4, 0.2, 0.2, 0.2, 0.4],\n",
      "             mask=[False, False, False, False, False],\n",
      "       fill_value='?',\n",
      "            dtype=object), 'param_colsample_bytree': masked_array(data=[0.4, 0.4, 0.8, 1.0, 0.2],\n",
      "             mask=[False, False, False, False, False],\n",
      "       fill_value='?',\n",
      "            dtype=object), 'params': [{'subsample': 0.6, 'min_child_weight': 1, 'max_depth': 6, 'gamma': 1, 'eta': 0.4, 'colsample_bytree': 0.4}, {'subsample': 0.4, 'min_child_weight': 1, 'max_depth': 5, 'gamma': 5, 'eta': 0.2, 'colsample_bytree': 0.4}, {'subsample': 0.4, 'min_child_weight': 50, 'max_depth': 6, 'gamma': 10, 'eta': 0.2, 'colsample_bytree': 0.8}, {'subsample': 0.5, 'min_child_weight': 50, 'max_depth': 10, 'gamma': 20, 'eta': 0.2, 'colsample_bytree': 1.0}, {'subsample': 0.2, 'min_child_weight': 1, 'max_depth': 7, 'gamma': 2, 'eta': 0.4, 'colsample_bytree': 0.2}], 'split0_test_score': array([0.82969369, 0.8287027 , 0.81003604, 0.80945946, 0.81721622]), 'split1_test_score': array([0.87445047, 0.87247215, 0.84396868, 0.84831075, 0.85811201]), 'split2_test_score': array([0.84286661, 0.84239988, 0.81104185, 0.82088226, 0.82593195]), 'split3_test_score': array([0.84894911, 0.84862993, 0.82820837, 0.82837097, 0.82896718]), 'split4_test_score': array([0.84817525, 0.84934959, 0.82447757, 0.8352424 , 0.8237308 ]), 'mean_test_score': array([0.84882703, 0.84831085, 0.8235465 , 0.82845317, 0.83079163]), 'std_test_score': array([0.01455068, 0.01417299, 0.0124785 , 0.01310346, 0.01419504]), 'rank_test_score': array([1, 2, 5, 4, 3], dtype=int32)}\n",
      "\n",
      " Best estimator:\n",
      "XGBClassifier(base_score=0.5, booster='gbtree', colsample_bylevel=1,\n",
      "              colsample_bynode=1, colsample_bytree=0.4,\n",
      "              enable_categorical=False, eta=0.4, gamma=1, gpu_id=-1,\n",
      "              importance_type=None, interaction_constraints='',\n",
      "              learning_rate=0.001, max_delta_step=0, max_depth=6,\n",
      "              min_child_weight=1, missing=nan, monotone_constraints='()',\n",
      "              n_estimators=600, n_jobs=1, nthread=1, num_parallel_tree=1,\n",
      "              predictor='auto', random_state=0, reg_alpha=0, reg_lambda=1,\n",
      "              scale_pos_weight=1, silent=True, subsample=0.6,\n",
      "              tree_method='exact', validate_parameters=1, ...)\n",
      "\n",
      " Best normalized gini score for 5-fold search with 5 parameter combinations:\n",
      "0.6976540507987665\n",
      "\n",
      " Best hyperparameters:\n",
      "{'subsample': 0.6, 'min_child_weight': 1, 'max_depth': 6, 'gamma': 1, 'eta': 0.4, 'colsample_bytree': 0.4}\n"
     ]
    }
   ],
   "source": [
    "print('\\n All results:')\n",
    "print(random_search.cv_results_)\n",
    "print('\\n Best estimator:')\n",
    "print(random_search.best_estimator_)\n",
    "print('\\n Best normalized gini score for %d-fold search with %d parameter combinations:' % (folds, param_comb))\n",
    "print(random_search.best_score_ * 2 - 1)\n",
    "print('\\n Best hyperparameters:')\n",
    "print(random_search.best_params_)\n",
    "results = pd.DataFrame(random_search.cv_results_)\n",
    "results.to_csv('xgb-random-grid-search-results-01.csv', index=False)"
   ]
  },
  {
   "cell_type": "code",
   "execution_count": 191,
   "id": "0f9658f8",
   "metadata": {},
   "outputs": [],
   "source": [
    "# optimized model\n",
    "xgb_opt = XGBClassifier(learning_rate=0.001, n_estimators=600, objective='binary:logistic', eval_metric='auc', verbosity=0,\n",
    "                    silent=True, nthread=1, subsample=0.6, min_child_weight=1, max_depth=6, gamma=1, eta=0.4, colsample_bytree=0.4)"
   ]
  },
  {
   "cell_type": "code",
   "execution_count": 192,
   "id": "e12bee2b",
   "metadata": {},
   "outputs": [],
   "source": [
    "model_eval(xgb_opt, 'XGBoost-opt', X_train, y_train)"
   ]
  },
  {
   "cell_type": "code",
   "execution_count": 193,
   "id": "bbac758a",
   "metadata": {},
   "outputs": [
    {
     "data": {
      "text/html": [
       "<div>\n",
       "<style scoped>\n",
       "    .dataframe tbody tr th:only-of-type {\n",
       "        vertical-align: middle;\n",
       "    }\n",
       "\n",
       "    .dataframe tbody tr th {\n",
       "        vertical-align: top;\n",
       "    }\n",
       "\n",
       "    .dataframe thead th {\n",
       "        text-align: right;\n",
       "    }\n",
       "</style>\n",
       "<table border=\"1\" class=\"dataframe\">\n",
       "  <thead>\n",
       "    <tr style=\"text-align: right;\">\n",
       "      <th></th>\n",
       "      <th>Model</th>\n",
       "      <th>Train Accuracy</th>\n",
       "      <th>Test Accuracy</th>\n",
       "      <th>Precision</th>\n",
       "      <th>Recall</th>\n",
       "      <th>F1</th>\n",
       "    </tr>\n",
       "  </thead>\n",
       "  <tbody>\n",
       "    <tr>\n",
       "      <th>0</th>\n",
       "      <td>LR</td>\n",
       "      <td>0.756</td>\n",
       "      <td>0.769</td>\n",
       "      <td>0.767</td>\n",
       "      <td>0.757</td>\n",
       "      <td>0.760</td>\n",
       "    </tr>\n",
       "    <tr>\n",
       "      <th>1</th>\n",
       "      <td>KNN</td>\n",
       "      <td>0.771</td>\n",
       "      <td>0.791</td>\n",
       "      <td>0.787</td>\n",
       "      <td>0.788</td>\n",
       "      <td>0.787</td>\n",
       "    </tr>\n",
       "    <tr>\n",
       "      <th>2</th>\n",
       "      <td>Random Forest</td>\n",
       "      <td>0.759</td>\n",
       "      <td>0.766</td>\n",
       "      <td>0.761</td>\n",
       "      <td>0.760</td>\n",
       "      <td>0.761</td>\n",
       "    </tr>\n",
       "    <tr>\n",
       "      <th>3</th>\n",
       "      <td>Dec Tree</td>\n",
       "      <td>0.747</td>\n",
       "      <td>0.755</td>\n",
       "      <td>0.751</td>\n",
       "      <td>0.747</td>\n",
       "      <td>0.748</td>\n",
       "    </tr>\n",
       "    <tr>\n",
       "      <th>4</th>\n",
       "      <td>Gaussian NB</td>\n",
       "      <td>0.735</td>\n",
       "      <td>0.749</td>\n",
       "      <td>0.749</td>\n",
       "      <td>0.735</td>\n",
       "      <td>0.738</td>\n",
       "    </tr>\n",
       "    <tr>\n",
       "      <th>5</th>\n",
       "      <td>SVM</td>\n",
       "      <td>0.774</td>\n",
       "      <td>0.790</td>\n",
       "      <td>0.787</td>\n",
       "      <td>0.783</td>\n",
       "      <td>0.785</td>\n",
       "    </tr>\n",
       "    <tr>\n",
       "      <th>6</th>\n",
       "      <td>XGBoost</td>\n",
       "      <td>0.784</td>\n",
       "      <td>0.794</td>\n",
       "      <td>0.791</td>\n",
       "      <td>0.788</td>\n",
       "      <td>0.789</td>\n",
       "    </tr>\n",
       "    <tr>\n",
       "      <th>7</th>\n",
       "      <td>XGBoost-opt</td>\n",
       "      <td>0.788</td>\n",
       "      <td>0.815</td>\n",
       "      <td>0.812</td>\n",
       "      <td>0.808</td>\n",
       "      <td>0.810</td>\n",
       "    </tr>\n",
       "    <tr>\n",
       "      <th>10</th>\n",
       "      <td>XGBoost-opt</td>\n",
       "      <td>0.791</td>\n",
       "      <td>0.809</td>\n",
       "      <td>0.806</td>\n",
       "      <td>0.802</td>\n",
       "      <td>0.804</td>\n",
       "    </tr>\n",
       "    <tr>\n",
       "      <th>11</th>\n",
       "      <td>XGBoost-opt</td>\n",
       "      <td>0.761</td>\n",
       "      <td>0.773</td>\n",
       "      <td>0.781</td>\n",
       "      <td>0.754</td>\n",
       "      <td>0.759</td>\n",
       "    </tr>\n",
       "  </tbody>\n",
       "</table>\n",
       "</div>"
      ],
      "text/plain": [
       "            Model  Train Accuracy  Test Accuracy  Precision  Recall     F1\n",
       "0              LR           0.756          0.769      0.767   0.757  0.760\n",
       "1             KNN           0.771          0.791      0.787   0.788  0.787\n",
       "2   Random Forest           0.759          0.766      0.761   0.760  0.761\n",
       "3        Dec Tree           0.747          0.755      0.751   0.747  0.748\n",
       "4     Gaussian NB           0.735          0.749      0.749   0.735  0.738\n",
       "5             SVM           0.774          0.790      0.787   0.783  0.785\n",
       "6         XGBoost           0.784          0.794      0.791   0.788  0.789\n",
       "7     XGBoost-opt           0.788          0.815      0.812   0.808  0.810\n",
       "10    XGBoost-opt           0.791          0.809      0.806   0.802  0.804\n",
       "11    XGBoost-opt           0.761          0.773      0.781   0.754  0.759"
      ]
     },
     "execution_count": 193,
     "metadata": {},
     "output_type": "execute_result"
    }
   ],
   "source": [
    "model_summary = pd.DataFrame(data=summaryList)\n",
    "model_summary = model_summary[['Model', 'Train Accuracy', 'Test Accuracy', 'Precision', 'Recall', 'F1']]\n",
    "model_summary.drop_duplicates(inplace=True)\n",
    "model_summary"
   ]
  },
  {
   "cell_type": "code",
   "execution_count": 166,
   "id": "4a5b2c2d",
   "metadata": {},
   "outputs": [],
   "source": [
    "xgb_opt_pred = xgb_opt.predict(X_test)"
   ]
  },
  {
   "cell_type": "code",
   "execution_count": 167,
   "id": "035244f1",
   "metadata": {},
   "outputs": [
    {
     "data": {
      "text/plain": [
       "<sklearn.metrics._plot.confusion_matrix.ConfusionMatrixDisplay at 0x7f86b8402b50>"
      ]
     },
     "execution_count": 167,
     "metadata": {},
     "output_type": "execute_result"
    },
    {
     "data": {
      "image/png": "[encoded data removed]",
      "text/plain": [
       "<Figure size 432x288 with 2 Axes>"
      ]
     },
     "metadata": {
      "needs_background": "light"
     },
     "output_type": "display_data"
    }
   ],
   "source": [
    "plot_confusion_matrix(xgb_opt, X_test, y_test)"
   ]
  },
  {
   "cell_type": "code",
   "execution_count": 169,
   "id": "5c271bdb",
   "metadata": {},
   "outputs": [
    {
     "data": {
      "image/png": "[encoded data removed]",
      "text/plain": [
       "<Figure size 720x432 with 1 Axes>"
      ]
     },
     "metadata": {
      "needs_background": "light"
     },
     "output_type": "display_data"
    }
   ],
   "source": [
    "plt.figure(figsize=(10,6))\n",
    "lw = 2\n",
    "\n",
    "fpr, tpr, thresholds = roc_curve(y_test, scores[6][:,1], pos_label=1)\n",
    "auc_xgb = roc_auc_score(y_test, scores[7][:,1])\n",
    "plt.plot(fpr, tpr, color='r',\n",
    "         lw=lw, label='XGBoost-opt, AUC=%.3f' % auc_xgb)\n",
    "\n",
    "# Formatting\n",
    "plt.plot([0, 1], [0, 1], color='k', lw=lw, linestyle='--')\n",
    "plt.xlim([-0.01, 1.0])\n",
    "plt.ylim([0.0, 1.05])\n",
    "plt.xlabel('False Positive Rate', fontsize=12)\n",
    "plt.ylabel('True Positive Rate', fontsize=12)\n",
    "plt.title('ROC Curve', fontsize=12)\n",
    "plt.legend(loc=\"lower right\")\n",
    "plt.show()"
   ]
  },
  {
   "cell_type": "code",
   "execution_count": 194,
   "id": "a3eb1f0a",
   "metadata": {},
   "outputs": [
    {
     "data": {
      "text/plain": [
       "array([0.02518307, 0.1638107 , 0.02788493, 0.38232392, 0.01934228,\n",
       "       0.19256428, 0.18889073], dtype=float32)"
      ]
     },
     "execution_count": 194,
     "metadata": {},
     "output_type": "execute_result"
    }
   ],
   "source": [
    "xgb_opt.feature_importances_"
   ]
  },
  {
   "cell_type": "code",
   "execution_count": null,
   "id": "5d7cf3c8",
   "metadata": {},
   "outputs": [],
   "source": []
  }
 ],
 "metadata": {
  "kernelspec": {
   "display_name": "Python 3",
   "language": "python",
   "name": "python3"
  },
  "language_info": {
   "codemirror_mode": {
    "name": "ipython",
    "version": 3
   },
   "file_extension": ".py",
   "mimetype": "text/x-python",
   "name": "python",
   "nbconvert_exporter": "python",
   "pygments_lexer": "ipython3",
   "version": "3.8.5"
  }
 },
 "nbformat": 4,
 "nbformat_minor": 5
}
