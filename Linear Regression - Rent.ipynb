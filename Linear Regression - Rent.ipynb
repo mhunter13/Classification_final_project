{
 "cells": [
  {
   "cell_type": "code",
   "execution_count": 668,
   "id": "ca229420",
   "metadata": {},
   "outputs": [],
   "source": [
    "import warnings\n",
    "warnings.filterwarnings('ignore')\n",
    "\n",
    "import pandas as pd\n",
    "import numpy as np\n",
    "from numpy import random\n",
    "import seaborn as sns\n",
    "import matplotlib.pyplot as plt\n",
    "import plotly.express as px # data visualization\n",
    "\n",
    "from sklearn.linear_model import LinearRegression\n",
    "from sklearn.metrics import r2_score, mean_squared_error, mean_absolute_error\n",
    "from sklearn.preprocessing import StandardScaler\n",
    "from sklearn.preprocessing import MinMaxScaler\n",
    "from sklearn.preprocessing import RobustScaler\n",
    "from sklearn.model_selection import train_test_split\n",
    "from sklearn.model_selection import KFold\n",
    "from sklearn.model_selection import LeaveOneOut\n",
    "import statsmodels.api as sm\n",
    "\n",
    "# %config InlineBackend.figure_formats =['retina']  # or svg\n",
    "%matplotlib inline\n"
   ]
  },
  {
   "cell_type": "code",
   "execution_count": 833,
   "id": "73c56784",
   "metadata": {},
   "outputs": [],
   "source": [
    "df_rent = pd.read_csv('lisbon_rent_1267.csv')"
   ]
  },
  {
   "cell_type": "code",
   "execution_count": 834,
   "id": "42e06a53",
   "metadata": {},
   "outputs": [
    {
     "data": {
      "text/html": [
       "<div>\n",
       "<style scoped>\n",
       "    .dataframe tbody tr th:only-of-type {\n",
       "        vertical-align: middle;\n",
       "    }\n",
       "\n",
       "    .dataframe tbody tr th {\n",
       "        vertical-align: top;\n",
       "    }\n",
       "\n",
       "    .dataframe thead th {\n",
       "        text-align: right;\n",
       "    }\n",
       "</style>\n",
       "<table border=\"1\" class=\"dataframe\">\n",
       "  <thead>\n",
       "    <tr style=\"text-align: right;\">\n",
       "      <th></th>\n",
       "      <th>Price</th>\n",
       "      <th>Address</th>\n",
       "      <th>Prop_type</th>\n",
       "      <th>Size</th>\n",
       "      <th>Bath</th>\n",
       "      <th>Bed</th>\n",
       "    </tr>\n",
       "  </thead>\n",
       "  <tbody>\n",
       "    <tr>\n",
       "      <th>0</th>\n",
       "      <td>950 €  /  Monthly</td>\n",
       "      <td>Lisboa -   Amadora, Venteira</td>\n",
       "      <td>Condo/Apartment</td>\n",
       "      <td>115 m2</td>\n",
       "      <td>2</td>\n",
       "      <td>3</td>\n",
       "    </tr>\n",
       "    <tr>\n",
       "      <th>1</th>\n",
       "      <td>750 €  /  Monthly</td>\n",
       "      <td>Lisboa -   Lisboa, Belém</td>\n",
       "      <td>Condo/Apartment</td>\n",
       "      <td>40 m2</td>\n",
       "      <td>1</td>\n",
       "      <td>1</td>\n",
       "    </tr>\n",
       "    <tr>\n",
       "      <th>2</th>\n",
       "      <td>1 000 €  /  Monthly</td>\n",
       "      <td>Lisboa -   Lisboa, Lumiar</td>\n",
       "      <td>Condo/Apartment</td>\n",
       "      <td>73 m2</td>\n",
       "      <td>1</td>\n",
       "      <td>1</td>\n",
       "    </tr>\n",
       "    <tr>\n",
       "      <th>3</th>\n",
       "      <td>750 €  /  Monthly</td>\n",
       "      <td>Lisboa -   Lisboa, Penha de França</td>\n",
       "      <td>Condo/Apartment</td>\n",
       "      <td>48 m2</td>\n",
       "      <td>1</td>\n",
       "      <td>2</td>\n",
       "    </tr>\n",
       "    <tr>\n",
       "      <th>4</th>\n",
       "      <td>1 150 €  /  Monthly</td>\n",
       "      <td>Lisboa -   Oeiras, Oeiras e São Julião da Bar...</td>\n",
       "      <td>Condo/Apartment</td>\n",
       "      <td>90 m2</td>\n",
       "      <td>2</td>\n",
       "      <td>3</td>\n",
       "    </tr>\n",
       "  </tbody>\n",
       "</table>\n",
       "</div>"
      ],
      "text/plain": [
       "                    Price                                            Address  \\\n",
       "0     950 €  /  Monthly                       Lisboa -   Amadora, Venteira     \n",
       "1     750 €  /  Monthly                           Lisboa -   Lisboa, Belém     \n",
       "2   1 000 €  /  Monthly                          Lisboa -   Lisboa, Lumiar     \n",
       "3     750 €  /  Monthly                 Lisboa -   Lisboa, Penha de França     \n",
       "4   1 150 €  /  Monthly     Lisboa -   Oeiras, Oeiras e São Julião da Bar...   \n",
       "\n",
       "         Prop_type       Size  Bath   Bed  \n",
       "0  Condo/Apartment    115 m2     2     3   \n",
       "1  Condo/Apartment     40 m2     1     1   \n",
       "2  Condo/Apartment     73 m2     1     1   \n",
       "3  Condo/Apartment     48 m2     1     2   \n",
       "4  Condo/Apartment     90 m2     2     3   "
      ]
     },
     "execution_count": 834,
     "metadata": {},
     "output_type": "execute_result"
    }
   ],
   "source": [
    "df_rent.head()"
   ]
  },
  {
   "cell_type": "code",
   "execution_count": 835,
   "id": "8095f584",
   "metadata": {},
   "outputs": [
    {
     "name": "stdout",
     "output_type": "stream",
     "text": [
      "<class 'pandas.core.frame.DataFrame'>\n",
      "RangeIndex: 1268 entries, 0 to 1267\n",
      "Data columns (total 6 columns):\n",
      " #   Column     Non-Null Count  Dtype \n",
      "---  ------     --------------  ----- \n",
      " 0   Price      1268 non-null   object\n",
      " 1   Address    1268 non-null   object\n",
      " 2   Prop_type  1268 non-null   object\n",
      " 3   Size       1268 non-null   object\n",
      " 4   Bath       1268 non-null   object\n",
      " 5   Bed        1268 non-null   object\n",
      "dtypes: object(6)\n",
      "memory usage: 59.6+ KB\n"
     ]
    }
   ],
   "source": [
    "df_rent.info()"
   ]
  },
  {
   "cell_type": "code",
   "execution_count": 836,
   "id": "9a4bcf5b",
   "metadata": {},
   "outputs": [],
   "source": [
    "# steps to convert str to int or float, first remove unnecessary characters\n",
    "df_rent['Price'] = df_rent['Price'].str.replace(' ', '')\n",
    "df_rent[['Price', 'Term']] = df_rent['Price'].str.split(pat='€', expand=True)\n",
    "df_rent['Address'] = df_rent['Address'].str.replace('Lisboa ', '')\n",
    "df_rent['Address'] = df_rent['Address'].str.replace('-', '')\n",
    "df_rent['City'] = df_rent['Address'].str.split(',', expand=True)[0]\n",
    "df_rent['Division'] = df_rent['Address'].str.split(',', expand=True)[1]\n",
    "df_rent['City'] = df_rent['City'].str.strip()  # removing leading and tailing white spaces\n",
    "df_rent['Size'] = df_rent['Size'].str.replace('m2', '')"
   ]
  },
  {
   "cell_type": "code",
   "execution_count": 837,
   "id": "7a44ffdc",
   "metadata": {},
   "outputs": [
    {
     "data": {
      "text/html": [
       "<div>\n",
       "<style scoped>\n",
       "    .dataframe tbody tr th:only-of-type {\n",
       "        vertical-align: middle;\n",
       "    }\n",
       "\n",
       "    .dataframe tbody tr th {\n",
       "        vertical-align: top;\n",
       "    }\n",
       "\n",
       "    .dataframe thead th {\n",
       "        text-align: right;\n",
       "    }\n",
       "</style>\n",
       "<table border=\"1\" class=\"dataframe\">\n",
       "  <thead>\n",
       "    <tr style=\"text-align: right;\">\n",
       "      <th></th>\n",
       "      <th>Price</th>\n",
       "      <th>Address</th>\n",
       "      <th>Prop_type</th>\n",
       "      <th>Size</th>\n",
       "      <th>Bath</th>\n",
       "      <th>Bed</th>\n",
       "      <th>Term</th>\n",
       "      <th>City</th>\n",
       "      <th>Division</th>\n",
       "    </tr>\n",
       "  </thead>\n",
       "  <tbody>\n",
       "    <tr>\n",
       "      <th>0</th>\n",
       "      <td>950</td>\n",
       "      <td>Amadora, Venteira</td>\n",
       "      <td>Condo/Apartment</td>\n",
       "      <td>115</td>\n",
       "      <td>2</td>\n",
       "      <td>3</td>\n",
       "      <td>/ Monthly</td>\n",
       "      <td>Amadora</td>\n",
       "      <td>Venteira</td>\n",
       "    </tr>\n",
       "    <tr>\n",
       "      <th>1</th>\n",
       "      <td>750</td>\n",
       "      <td>Lisboa, Belém</td>\n",
       "      <td>Condo/Apartment</td>\n",
       "      <td>40</td>\n",
       "      <td>1</td>\n",
       "      <td>1</td>\n",
       "      <td>/ Monthly</td>\n",
       "      <td>Lisboa</td>\n",
       "      <td>Belém</td>\n",
       "    </tr>\n",
       "    <tr>\n",
       "      <th>2</th>\n",
       "      <td>1000</td>\n",
       "      <td>Lisboa, Lumiar</td>\n",
       "      <td>Condo/Apartment</td>\n",
       "      <td>73</td>\n",
       "      <td>1</td>\n",
       "      <td>1</td>\n",
       "      <td>/ Monthly</td>\n",
       "      <td>Lisboa</td>\n",
       "      <td>Lumiar</td>\n",
       "    </tr>\n",
       "    <tr>\n",
       "      <th>3</th>\n",
       "      <td>750</td>\n",
       "      <td>Lisboa, Penha de França</td>\n",
       "      <td>Condo/Apartment</td>\n",
       "      <td>48</td>\n",
       "      <td>1</td>\n",
       "      <td>2</td>\n",
       "      <td>/ Monthly</td>\n",
       "      <td>Lisboa</td>\n",
       "      <td>Penha de França</td>\n",
       "    </tr>\n",
       "    <tr>\n",
       "      <th>4</th>\n",
       "      <td>1150</td>\n",
       "      <td>Oeiras, Oeiras e São Julião da Barra, Paço...</td>\n",
       "      <td>Condo/Apartment</td>\n",
       "      <td>90</td>\n",
       "      <td>2</td>\n",
       "      <td>3</td>\n",
       "      <td>/ Monthly</td>\n",
       "      <td>Oeiras</td>\n",
       "      <td>Oeiras e São Julião da Barra</td>\n",
       "    </tr>\n",
       "  </tbody>\n",
       "</table>\n",
       "</div>"
      ],
      "text/plain": [
       "  Price                                            Address        Prop_type  \\\n",
       "0   950                                Amadora, Venteira    Condo/Apartment   \n",
       "1   750                                    Lisboa, Belém    Condo/Apartment   \n",
       "2  1000                                   Lisboa, Lumiar    Condo/Apartment   \n",
       "3   750                          Lisboa, Penha de França    Condo/Apartment   \n",
       "4  1150      Oeiras, Oeiras e São Julião da Barra, Paço...  Condo/Apartment   \n",
       "\n",
       "      Size  Bath   Bed       Term     City                       Division  \n",
       "0    115      2     3   / Monthly  Amadora                     Venteira    \n",
       "1     40      1     1   / Monthly   Lisboa                        Belém    \n",
       "2     73      1     1   / Monthly   Lisboa                       Lumiar    \n",
       "3     48      1     2   / Monthly   Lisboa              Penha de França    \n",
       "4     90      2     3   / Monthly   Oeiras   Oeiras e São Julião da Barra  "
      ]
     },
     "execution_count": 837,
     "metadata": {},
     "output_type": "execute_result"
    }
   ],
   "source": [
    "df_rent.head()"
   ]
  },
  {
   "cell_type": "code",
   "execution_count": 838,
   "id": "0e2f1538",
   "metadata": {},
   "outputs": [
    {
     "name": "stdout",
     "output_type": "stream",
     "text": [
      "Price          int64\n",
      "Address       object\n",
      "Prop_type     object\n",
      "Size           int64\n",
      "Bath         float64\n",
      "Bed          float64\n",
      "Term          object\n",
      "City          object\n",
      "Division      object\n",
      "dtype: object\n"
     ]
    }
   ],
   "source": [
    "# convert to int/float\n",
    "df_rent['Price'] = pd.to_numeric(df_rent['Price'], errors='coerce')\n",
    "df_rent['Size'] = pd.to_numeric(df_rent['Size'], errors='coerce')\n",
    "df_rent['Bath'] = pd.to_numeric(df_rent['Bath'], errors='coerce')\n",
    "df_rent['Bed'] = pd.to_numeric(df_rent['Bed'], errors='coerce')\n",
    "print(df_rent.dtypes)"
   ]
  },
  {
   "cell_type": "code",
   "execution_count": 839,
   "id": "823984d7",
   "metadata": {},
   "outputs": [
    {
     "data": {
      "text/html": [
       "<div>\n",
       "<style scoped>\n",
       "    .dataframe tbody tr th:only-of-type {\n",
       "        vertical-align: middle;\n",
       "    }\n",
       "\n",
       "    .dataframe tbody tr th {\n",
       "        vertical-align: top;\n",
       "    }\n",
       "\n",
       "    .dataframe thead th {\n",
       "        text-align: right;\n",
       "    }\n",
       "</style>\n",
       "<table border=\"1\" class=\"dataframe\">\n",
       "  <thead>\n",
       "    <tr style=\"text-align: right;\">\n",
       "      <th></th>\n",
       "      <th>Price</th>\n",
       "      <th>Address</th>\n",
       "      <th>Prop_type</th>\n",
       "      <th>Size</th>\n",
       "      <th>Bath</th>\n",
       "      <th>Bed</th>\n",
       "      <th>Term</th>\n",
       "      <th>City</th>\n",
       "      <th>Division</th>\n",
       "    </tr>\n",
       "  </thead>\n",
       "  <tbody>\n",
       "    <tr>\n",
       "      <th>0</th>\n",
       "      <td>950</td>\n",
       "      <td>Amadora, Venteira</td>\n",
       "      <td>Condo/Apartment</td>\n",
       "      <td>115</td>\n",
       "      <td>2.0</td>\n",
       "      <td>3.0</td>\n",
       "      <td>/ Monthly</td>\n",
       "      <td>Amadora</td>\n",
       "      <td>Venteira</td>\n",
       "    </tr>\n",
       "    <tr>\n",
       "      <th>1</th>\n",
       "      <td>750</td>\n",
       "      <td>Lisboa, Belém</td>\n",
       "      <td>Condo/Apartment</td>\n",
       "      <td>40</td>\n",
       "      <td>1.0</td>\n",
       "      <td>1.0</td>\n",
       "      <td>/ Monthly</td>\n",
       "      <td>Lisboa</td>\n",
       "      <td>Belém</td>\n",
       "    </tr>\n",
       "    <tr>\n",
       "      <th>2</th>\n",
       "      <td>1000</td>\n",
       "      <td>Lisboa, Lumiar</td>\n",
       "      <td>Condo/Apartment</td>\n",
       "      <td>73</td>\n",
       "      <td>1.0</td>\n",
       "      <td>1.0</td>\n",
       "      <td>/ Monthly</td>\n",
       "      <td>Lisboa</td>\n",
       "      <td>Lumiar</td>\n",
       "    </tr>\n",
       "    <tr>\n",
       "      <th>3</th>\n",
       "      <td>750</td>\n",
       "      <td>Lisboa, Penha de França</td>\n",
       "      <td>Condo/Apartment</td>\n",
       "      <td>48</td>\n",
       "      <td>1.0</td>\n",
       "      <td>2.0</td>\n",
       "      <td>/ Monthly</td>\n",
       "      <td>Lisboa</td>\n",
       "      <td>Penha de França</td>\n",
       "    </tr>\n",
       "    <tr>\n",
       "      <th>4</th>\n",
       "      <td>1150</td>\n",
       "      <td>Oeiras, Oeiras e São Julião da Barra, Paço...</td>\n",
       "      <td>Condo/Apartment</td>\n",
       "      <td>90</td>\n",
       "      <td>2.0</td>\n",
       "      <td>3.0</td>\n",
       "      <td>/ Monthly</td>\n",
       "      <td>Oeiras</td>\n",
       "      <td>Oeiras e São Julião da Barra</td>\n",
       "    </tr>\n",
       "  </tbody>\n",
       "</table>\n",
       "</div>"
      ],
      "text/plain": [
       "   Price                                            Address        Prop_type  \\\n",
       "0    950                                Amadora, Venteira    Condo/Apartment   \n",
       "1    750                                    Lisboa, Belém    Condo/Apartment   \n",
       "2   1000                                   Lisboa, Lumiar    Condo/Apartment   \n",
       "3    750                          Lisboa, Penha de França    Condo/Apartment   \n",
       "4   1150      Oeiras, Oeiras e São Julião da Barra, Paço...  Condo/Apartment   \n",
       "\n",
       "   Size  Bath  Bed       Term     City                       Division  \n",
       "0   115   2.0  3.0  / Monthly  Amadora                     Venteira    \n",
       "1    40   1.0  1.0  / Monthly   Lisboa                        Belém    \n",
       "2    73   1.0  1.0  / Monthly   Lisboa                       Lumiar    \n",
       "3    48   1.0  2.0  / Monthly   Lisboa              Penha de França    \n",
       "4    90   2.0  3.0  / Monthly   Oeiras   Oeiras e São Julião da Barra  "
      ]
     },
     "execution_count": 839,
     "metadata": {},
     "output_type": "execute_result"
    }
   ],
   "source": [
    "df_rent.head()"
   ]
  },
  {
   "cell_type": "code",
   "execution_count": 416,
   "id": "0314526b",
   "metadata": {},
   "outputs": [],
   "source": [
    "df_rent.to_csv(r'lisbon_rent_1267_052922.csv', index = False, header=True)"
   ]
  },
  {
   "cell_type": "code",
   "execution_count": 841,
   "id": "16e63175",
   "metadata": {},
   "outputs": [
    {
     "name": "stdout",
     "output_type": "stream",
     "text": [
      "<class 'pandas.core.frame.DataFrame'>\n",
      "RangeIndex: 1268 entries, 0 to 1267\n",
      "Data columns (total 9 columns):\n",
      " #   Column     Non-Null Count  Dtype  \n",
      "---  ------     --------------  -----  \n",
      " 0   Price      1268 non-null   int64  \n",
      " 1   Address    1268 non-null   object \n",
      " 2   Prop_type  1268 non-null   object \n",
      " 3   Size       1268 non-null   int64  \n",
      " 4   Bath       1260 non-null   float64\n",
      " 5   Bed        869 non-null    float64\n",
      " 6   Term       1268 non-null   object \n",
      " 7   City       1268 non-null   object \n",
      " 8   Division   1268 non-null   object \n",
      "dtypes: float64(2), int64(2), object(5)\n",
      "memory usage: 89.3+ KB\n"
     ]
    }
   ],
   "source": [
    "df_rent.info()"
   ]
  },
  {
   "cell_type": "code",
   "execution_count": 417,
   "id": "02ef2d73",
   "metadata": {},
   "outputs": [],
   "source": [
    "# Data cleaned in Excel"
   ]
  },
  {
   "cell_type": "code",
   "execution_count": 975,
   "id": "5e2bef03",
   "metadata": {},
   "outputs": [],
   "source": [
    "df = pd.read_csv('lisbon_rent_1267_052922_final.csv')"
   ]
  },
  {
   "cell_type": "code",
   "execution_count": 976,
   "id": "e8185cc1",
   "metadata": {},
   "outputs": [
    {
     "data": {
      "text/html": [
       "<div>\n",
       "<style scoped>\n",
       "    .dataframe tbody tr th:only-of-type {\n",
       "        vertical-align: middle;\n",
       "    }\n",
       "\n",
       "    .dataframe tbody tr th {\n",
       "        vertical-align: top;\n",
       "    }\n",
       "\n",
       "    .dataframe thead th {\n",
       "        text-align: right;\n",
       "    }\n",
       "</style>\n",
       "<table border=\"1\" class=\"dataframe\">\n",
       "  <thead>\n",
       "    <tr style=\"text-align: right;\">\n",
       "      <th></th>\n",
       "      <th>Price</th>\n",
       "      <th>Prop_type</th>\n",
       "      <th>Size</th>\n",
       "      <th>Bath</th>\n",
       "      <th>Bed</th>\n",
       "      <th>City</th>\n",
       "      <th>Division</th>\n",
       "    </tr>\n",
       "  </thead>\n",
       "  <tbody>\n",
       "    <tr>\n",
       "      <th>0</th>\n",
       "      <td>470</td>\n",
       "      <td>Condo/Apartment</td>\n",
       "      <td>60</td>\n",
       "      <td>1.0</td>\n",
       "      <td>1</td>\n",
       "      <td>Odivelas</td>\n",
       "      <td>Odivelas</td>\n",
       "    </tr>\n",
       "    <tr>\n",
       "      <th>1</th>\n",
       "      <td>500</td>\n",
       "      <td>Condo/Apartment</td>\n",
       "      <td>30</td>\n",
       "      <td>0.0</td>\n",
       "      <td>0</td>\n",
       "      <td>Amadora</td>\n",
       "      <td>Mina de Água</td>\n",
       "    </tr>\n",
       "    <tr>\n",
       "      <th>2</th>\n",
       "      <td>500</td>\n",
       "      <td>Condo/Apartment</td>\n",
       "      <td>57</td>\n",
       "      <td>1.0</td>\n",
       "      <td>2</td>\n",
       "      <td>Azambuja</td>\n",
       "      <td>Vila Nova da Rainha</td>\n",
       "    </tr>\n",
       "    <tr>\n",
       "      <th>3</th>\n",
       "      <td>500</td>\n",
       "      <td>Condo/Apartment</td>\n",
       "      <td>51</td>\n",
       "      <td>1.0</td>\n",
       "      <td>1</td>\n",
       "      <td>Lisboa</td>\n",
       "      <td>Ajuda</td>\n",
       "    </tr>\n",
       "    <tr>\n",
       "      <th>4</th>\n",
       "      <td>500</td>\n",
       "      <td>Condo/Apartment</td>\n",
       "      <td>43</td>\n",
       "      <td>1.0</td>\n",
       "      <td>0</td>\n",
       "      <td>Sintra</td>\n",
       "      <td>Cacém e São Marcos</td>\n",
       "    </tr>\n",
       "  </tbody>\n",
       "</table>\n",
       "</div>"
      ],
      "text/plain": [
       "   Price        Prop_type  Size  Bath  Bed      City             Division\n",
       "0    470  Condo/Apartment    60   1.0    1  Odivelas             Odivelas\n",
       "1    500  Condo/Apartment    30   0.0    0   Amadora         Mina de Água\n",
       "2    500  Condo/Apartment    57   1.0    2  Azambuja  Vila Nova da Rainha\n",
       "3    500  Condo/Apartment    51   1.0    1    Lisboa                Ajuda\n",
       "4    500  Condo/Apartment    43   1.0    0    Sintra   Cacém e São Marcos"
      ]
     },
     "execution_count": 976,
     "metadata": {},
     "output_type": "execute_result"
    }
   ],
   "source": [
    "df.head()"
   ]
  },
  {
   "cell_type": "code",
   "execution_count": 977,
   "id": "8b1ec2c0",
   "metadata": {},
   "outputs": [
    {
     "name": "stdout",
     "output_type": "stream",
     "text": [
      "<class 'pandas.core.frame.DataFrame'>\n",
      "RangeIndex: 697 entries, 0 to 696\n",
      "Data columns (total 7 columns):\n",
      " #   Column     Non-Null Count  Dtype  \n",
      "---  ------     --------------  -----  \n",
      " 0   Price      697 non-null    int64  \n",
      " 1   Prop_type  697 non-null    object \n",
      " 2   Size       697 non-null    int64  \n",
      " 3   Bath       696 non-null    float64\n",
      " 4   Bed        697 non-null    int64  \n",
      " 5   City       697 non-null    object \n",
      " 6   Division   697 non-null    object \n",
      "dtypes: float64(1), int64(3), object(3)\n",
      "memory usage: 38.2+ KB\n"
     ]
    }
   ],
   "source": [
    "df.info()"
   ]
  },
  {
   "cell_type": "code",
   "execution_count": 978,
   "id": "79f4d158",
   "metadata": {},
   "outputs": [
    {
     "data": {
      "text/html": [
       "<div>\n",
       "<style scoped>\n",
       "    .dataframe tbody tr th:only-of-type {\n",
       "        vertical-align: middle;\n",
       "    }\n",
       "\n",
       "    .dataframe tbody tr th {\n",
       "        vertical-align: top;\n",
       "    }\n",
       "\n",
       "    .dataframe thead th {\n",
       "        text-align: right;\n",
       "    }\n",
       "</style>\n",
       "<table border=\"1\" class=\"dataframe\">\n",
       "  <thead>\n",
       "    <tr style=\"text-align: right;\">\n",
       "      <th></th>\n",
       "      <th>Price</th>\n",
       "      <th>Prop_type</th>\n",
       "      <th>Size</th>\n",
       "      <th>Bath</th>\n",
       "      <th>Bed</th>\n",
       "      <th>City</th>\n",
       "      <th>Division</th>\n",
       "    </tr>\n",
       "  </thead>\n",
       "  <tbody>\n",
       "    <tr>\n",
       "      <th>568</th>\n",
       "      <td>1850</td>\n",
       "      <td>Condo/Apartment</td>\n",
       "      <td>116</td>\n",
       "      <td>NaN</td>\n",
       "      <td>3</td>\n",
       "      <td>Lisboa</td>\n",
       "      <td>Parque das Nações</td>\n",
       "    </tr>\n",
       "  </tbody>\n",
       "</table>\n",
       "</div>"
      ],
      "text/plain": [
       "     Price        Prop_type  Size  Bath  Bed    City           Division\n",
       "568   1850  Condo/Apartment   116   NaN    3  Lisboa  Parque das Nações"
      ]
     },
     "execution_count": 978,
     "metadata": {},
     "output_type": "execute_result"
    }
   ],
   "source": [
    "# finding row that's missing Bath data\n",
    "df[df['Bath'].isnull()]"
   ]
  },
  {
   "cell_type": "code",
   "execution_count": 1233,
   "id": "76243dc5",
   "metadata": {},
   "outputs": [],
   "source": [
    "df = df.dropna(subset = ['Bath'])"
   ]
  },
  {
   "cell_type": "code",
   "execution_count": 1234,
   "id": "3a0328fa",
   "metadata": {},
   "outputs": [
    {
     "data": {
      "text/html": [
       "<div>\n",
       "<style scoped>\n",
       "    .dataframe tbody tr th:only-of-type {\n",
       "        vertical-align: middle;\n",
       "    }\n",
       "\n",
       "    .dataframe tbody tr th {\n",
       "        vertical-align: top;\n",
       "    }\n",
       "\n",
       "    .dataframe thead th {\n",
       "        text-align: right;\n",
       "    }\n",
       "</style>\n",
       "<table border=\"1\" class=\"dataframe\">\n",
       "  <thead>\n",
       "    <tr style=\"text-align: right;\">\n",
       "      <th></th>\n",
       "      <th>Price</th>\n",
       "      <th>Prop_type</th>\n",
       "      <th>Size</th>\n",
       "      <th>Bath</th>\n",
       "      <th>Bed</th>\n",
       "      <th>City</th>\n",
       "      <th>Division</th>\n",
       "    </tr>\n",
       "  </thead>\n",
       "  <tbody>\n",
       "  </tbody>\n",
       "</table>\n",
       "</div>"
      ],
      "text/plain": [
       "Empty DataFrame\n",
       "Columns: [Price, Prop_type, Size, Bath, Bed, City, Division]\n",
       "Index: []"
      ]
     },
     "execution_count": 1234,
     "metadata": {},
     "output_type": "execute_result"
    }
   ],
   "source": [
    "# finding row that's missing Bath data\n",
    "df[df['Bath'].isnull()]"
   ]
  },
  {
   "cell_type": "code",
   "execution_count": null,
   "id": "a5709d76",
   "metadata": {},
   "outputs": [],
   "source": []
  },
  {
   "cell_type": "code",
   "execution_count": 980,
   "id": "bd84787d",
   "metadata": {},
   "outputs": [
    {
     "name": "stdout",
     "output_type": "stream",
     "text": [
      "24\n",
      "12\n"
     ]
    },
    {
     "data": {
      "text/html": [
       "<div>\n",
       "<style scoped>\n",
       "    .dataframe tbody tr th:only-of-type {\n",
       "        vertical-align: middle;\n",
       "    }\n",
       "\n",
       "    .dataframe tbody tr th {\n",
       "        vertical-align: top;\n",
       "    }\n",
       "\n",
       "    .dataframe thead th {\n",
       "        text-align: right;\n",
       "    }\n",
       "</style>\n",
       "<table border=\"1\" class=\"dataframe\">\n",
       "  <thead>\n",
       "    <tr style=\"text-align: right;\">\n",
       "      <th></th>\n",
       "      <th>Price</th>\n",
       "      <th>Prop_type</th>\n",
       "      <th>Size</th>\n",
       "      <th>Bath</th>\n",
       "      <th>Bed</th>\n",
       "      <th>City</th>\n",
       "      <th>Division</th>\n",
       "    </tr>\n",
       "  </thead>\n",
       "  <tbody>\n",
       "    <tr>\n",
       "      <th>0</th>\n",
       "      <td>470</td>\n",
       "      <td>Condo/Apartment</td>\n",
       "      <td>60</td>\n",
       "      <td>1.0</td>\n",
       "      <td>1</td>\n",
       "      <td>Odivelas</td>\n",
       "      <td>Odivelas</td>\n",
       "    </tr>\n",
       "    <tr>\n",
       "      <th>1</th>\n",
       "      <td>500</td>\n",
       "      <td>Condo/Apartment</td>\n",
       "      <td>30</td>\n",
       "      <td>0.0</td>\n",
       "      <td>0</td>\n",
       "      <td>Amadora</td>\n",
       "      <td>Mina de Água</td>\n",
       "    </tr>\n",
       "    <tr>\n",
       "      <th>2</th>\n",
       "      <td>500</td>\n",
       "      <td>Condo/Apartment</td>\n",
       "      <td>57</td>\n",
       "      <td>1.0</td>\n",
       "      <td>2</td>\n",
       "      <td>Azambuja</td>\n",
       "      <td>Vila Nova da Rainha</td>\n",
       "    </tr>\n",
       "    <tr>\n",
       "      <th>3</th>\n",
       "      <td>500</td>\n",
       "      <td>Condo/Apartment</td>\n",
       "      <td>51</td>\n",
       "      <td>1.0</td>\n",
       "      <td>1</td>\n",
       "      <td>Lisboa</td>\n",
       "      <td>Ajuda</td>\n",
       "    </tr>\n",
       "    <tr>\n",
       "      <th>4</th>\n",
       "      <td>500</td>\n",
       "      <td>Condo/Apartment</td>\n",
       "      <td>43</td>\n",
       "      <td>1.0</td>\n",
       "      <td>0</td>\n",
       "      <td>Sintra</td>\n",
       "      <td>Cacém e São Marcos</td>\n",
       "    </tr>\n",
       "  </tbody>\n",
       "</table>\n",
       "</div>"
      ],
      "text/plain": [
       "   Price        Prop_type  Size  Bath  Bed      City             Division\n",
       "0    470  Condo/Apartment    60   1.0    1  Odivelas             Odivelas\n",
       "1    500  Condo/Apartment    30   0.0    0   Amadora         Mina de Água\n",
       "2    500  Condo/Apartment    57   1.0    2  Azambuja  Vila Nova da Rainha\n",
       "3    500  Condo/Apartment    51   1.0    1    Lisboa                Ajuda\n",
       "4    500  Condo/Apartment    43   1.0    0    Sintra   Cacém e São Marcos"
      ]
     },
     "execution_count": 980,
     "metadata": {},
     "output_type": "execute_result"
    }
   ],
   "source": [
    "# bed and bath being zero\n",
    "print(df['Bath'].value_counts()[0])\n",
    "print(df['Bed'].value_counts()[0])\n",
    "df1 = df.copy()\n",
    "df1.head()"
   ]
  },
  {
   "cell_type": "code",
   "execution_count": 981,
   "id": "e93d395e",
   "metadata": {},
   "outputs": [
    {
     "data": {
      "text/html": [
       "<div>\n",
       "<style scoped>\n",
       "    .dataframe tbody tr th:only-of-type {\n",
       "        vertical-align: middle;\n",
       "    }\n",
       "\n",
       "    .dataframe tbody tr th {\n",
       "        vertical-align: top;\n",
       "    }\n",
       "\n",
       "    .dataframe thead th {\n",
       "        text-align: right;\n",
       "    }\n",
       "</style>\n",
       "<table border=\"1\" class=\"dataframe\">\n",
       "  <thead>\n",
       "    <tr style=\"text-align: right;\">\n",
       "      <th></th>\n",
       "      <th>Price</th>\n",
       "      <th>Size</th>\n",
       "      <th>Bath</th>\n",
       "      <th>Bed</th>\n",
       "    </tr>\n",
       "  </thead>\n",
       "  <tbody>\n",
       "    <tr>\n",
       "      <th>count</th>\n",
       "      <td>663.000000</td>\n",
       "      <td>663.000000</td>\n",
       "      <td>663.000000</td>\n",
       "      <td>663.000000</td>\n",
       "    </tr>\n",
       "    <tr>\n",
       "      <th>mean</th>\n",
       "      <td>1508.808446</td>\n",
       "      <td>287.024133</td>\n",
       "      <td>1.726998</td>\n",
       "      <td>2.377074</td>\n",
       "    </tr>\n",
       "    <tr>\n",
       "      <th>std</th>\n",
       "      <td>1538.403682</td>\n",
       "      <td>4426.743687</td>\n",
       "      <td>0.951693</td>\n",
       "      <td>1.130283</td>\n",
       "    </tr>\n",
       "    <tr>\n",
       "      <th>min</th>\n",
       "      <td>400.000000</td>\n",
       "      <td>28.000000</td>\n",
       "      <td>1.000000</td>\n",
       "      <td>1.000000</td>\n",
       "    </tr>\n",
       "    <tr>\n",
       "      <th>25%</th>\n",
       "      <td>900.000000</td>\n",
       "      <td>72.000000</td>\n",
       "      <td>1.000000</td>\n",
       "      <td>2.000000</td>\n",
       "    </tr>\n",
       "    <tr>\n",
       "      <th>50%</th>\n",
       "      <td>1200.000000</td>\n",
       "      <td>90.000000</td>\n",
       "      <td>2.000000</td>\n",
       "      <td>2.000000</td>\n",
       "    </tr>\n",
       "    <tr>\n",
       "      <th>75%</th>\n",
       "      <td>1600.000000</td>\n",
       "      <td>120.000000</td>\n",
       "      <td>2.000000</td>\n",
       "      <td>3.000000</td>\n",
       "    </tr>\n",
       "    <tr>\n",
       "      <th>max</th>\n",
       "      <td>25000.000000</td>\n",
       "      <td>114000.000000</td>\n",
       "      <td>9.000000</td>\n",
       "      <td>10.000000</td>\n",
       "    </tr>\n",
       "  </tbody>\n",
       "</table>\n",
       "</div>"
      ],
      "text/plain": [
       "              Price           Size        Bath         Bed\n",
       "count    663.000000     663.000000  663.000000  663.000000\n",
       "mean    1508.808446     287.024133    1.726998    2.377074\n",
       "std     1538.403682    4426.743687    0.951693    1.130283\n",
       "min      400.000000      28.000000    1.000000    1.000000\n",
       "25%      900.000000      72.000000    1.000000    2.000000\n",
       "50%     1200.000000      90.000000    2.000000    2.000000\n",
       "75%     1600.000000     120.000000    2.000000    3.000000\n",
       "max    25000.000000  114000.000000    9.000000   10.000000"
      ]
     },
     "execution_count": 981,
     "metadata": {},
     "output_type": "execute_result"
    }
   ],
   "source": [
    "# 36 rows are not significant, so drop all\n",
    "df1.drop(df1[(df1.Bath ==0) | (df1.Bed ==0)].index, inplace=True)\n",
    "df1.describe()"
   ]
  },
  {
   "cell_type": "code",
   "execution_count": 985,
   "id": "8cebed82",
   "metadata": {},
   "outputs": [
    {
     "data": {
      "image/png": "[encoded data removed]",
      "text/plain": [
       "<Figure size 720x360 with 4 Axes>"
      ]
     },
     "metadata": {
      "needs_background": "light"
     },
     "output_type": "display_data"
    }
   ],
   "source": [
    "# Outlier Analysis\n",
    "fig, axs = plt.subplots(2,2, figsize = (10,5))\n",
    "plt1 = sns.boxplot(df1['Price'], ax = axs[0,0])\n",
    "plt2 = sns.boxplot(df1['Size'], ax = axs[0,1])\n",
    "plt1 = sns.boxplot(df1['Bath'], ax = axs[1,0])\n",
    "plt2 = sns.boxplot(df1['Bed'], ax = axs[1,1])\n",
    "\n",
    "plt.tight_layout()"
   ]
  },
  {
   "cell_type": "code",
   "execution_count": 986,
   "id": "2c8b58e8",
   "metadata": {},
   "outputs": [
    {
     "data": {
      "image/png": "[encoded data removed]",
      "text/plain": [
       "<Figure size 432x288 with 1 Axes>"
      ]
     },
     "metadata": {
      "needs_background": "light"
     },
     "output_type": "display_data"
    }
   ],
   "source": [
    "# outlier treatment for Price\n",
    "plt.boxplot(df1.Price)\n",
    "Q1 = df1.Price.quantile(0.25)\n",
    "Q3 = df1.Price.quantile(0.75)\n",
    "IQR = Q3 - Q1\n",
    "df1 = df1[(df1.Price >= Q1 - 1.5*IQR) & (df1.Price <= Q3 + 1.5*IQR)]"
   ]
  },
  {
   "cell_type": "code",
   "execution_count": 987,
   "id": "964a3f49",
   "metadata": {},
   "outputs": [
    {
     "data": {
      "image/png": "[encoded data removed]",
      "text/plain": [
       "<Figure size 432x288 with 1 Axes>"
      ]
     },
     "metadata": {
      "needs_background": "light"
     },
     "output_type": "display_data"
    }
   ],
   "source": [
    "# outlier treatment for Size\n",
    "plt.boxplot(df1.Size)\n",
    "Q1 = df1.Size.quantile(0.25)\n",
    "Q3 = df1.Size.quantile(0.75)\n",
    "IQR = Q3 - Q1\n",
    "df1 = df1[(df1.Size >= Q1 - 1.5*IQR) & (df1.Size <= Q3 + 1.5*IQR)]"
   ]
  },
  {
   "cell_type": "code",
   "execution_count": 988,
   "id": "7ea314c1",
   "metadata": {},
   "outputs": [
    {
     "data": {
      "image/png": "[encoded data removed]",
      "text/plain": [
       "<Figure size 720x360 with 4 Axes>"
      ]
     },
     "metadata": {
      "needs_background": "light"
     },
     "output_type": "display_data"
    }
   ],
   "source": [
    "# Outlier Analysis\n",
    "fig, axs = plt.subplots(2,2, figsize = (10,5))\n",
    "plt1 = sns.boxplot(df1['Price'], ax = axs[0,0])\n",
    "plt2 = sns.boxplot(df1['Size'], ax = axs[0,1])\n",
    "plt1 = sns.boxplot(df1['Bath'], ax = axs[1,0])\n",
    "plt2 = sns.boxplot(df1['Bed'], ax = axs[1,1])\n",
    "\n",
    "plt.tight_layout()"
   ]
  },
  {
   "cell_type": "code",
   "execution_count": 989,
   "id": "079c9468",
   "metadata": {},
   "outputs": [
    {
     "data": {
      "image/png": "[encoded data removed]",
      "text/plain": [
       "<Figure size 720x720 with 20 Axes>"
      ]
     },
     "metadata": {
      "needs_background": "light"
     },
     "output_type": "display_data"
    }
   ],
   "source": [
    "sns.pairplot(df1)\n",
    "plt.show()"
   ]
  },
  {
   "cell_type": "code",
   "execution_count": 1090,
   "id": "fbbd4fed",
   "metadata": {},
   "outputs": [
    {
     "data": {
      "image/png": "[encoded data removed]",
      "text/plain": [
       "<Figure size 1440x1080 with 3 Axes>"
      ]
     },
     "metadata": {
      "needs_background": "light"
     },
     "output_type": "display_data"
    }
   ],
   "source": [
    "plt.figure(figsize=(20, 15))\n",
    "\n",
    "plt.subplot(3,1,1)\n",
    "sns.boxplot(x = 'City', y = 'Price', data = df1)\n",
    "plt.xticks(rotation='vertical')\n",
    "plt.subplot(3,1,2)\n",
    "sns.boxplot(x = 'Division', y = 'Price', data = df1)\n",
    "plt.xticks(rotation='vertical')\n",
    "plt.subplot(3,1,3)\n",
    "sns.boxplot(x = 'Prop_type', y = 'Price', data = df1)\n",
    "plt.show()"
   ]
  },
  {
   "cell_type": "code",
   "execution_count": 1091,
   "id": "9f54d2e5",
   "metadata": {},
   "outputs": [],
   "source": [
    "# dropping prop_type\n",
    "df1.drop('Prop_type',1, inplace=True) "
   ]
  },
  {
   "cell_type": "code",
   "execution_count": null,
   "id": "13dabac5",
   "metadata": {},
   "outputs": [],
   "source": []
  },
  {
   "cell_type": "code",
   "execution_count": 1143,
   "id": "f8c5abb4",
   "metadata": {},
   "outputs": [
    {
     "data": {
      "text/plain": [
       "Lisboa                 329\n",
       "Cascais                 54\n",
       "Oeiras                  47\n",
       "Sintra                  34\n",
       "Odivelas                32\n",
       "Amadora                 28\n",
       "Loures                  27\n",
       "Vila Franca de Xira     17\n",
       "Mafra                    9\n",
       "Torres Vedras            3\n",
       "Name: City, dtype: int64"
      ]
     },
     "execution_count": 1143,
     "metadata": {},
     "output_type": "execute_result"
    }
   ],
   "source": [
    "df2 = df1.copy()\n",
    "city_count = df1['City'].value_counts()\n",
    "city_count.head(10)"
   ]
  },
  {
   "cell_type": "code",
   "execution_count": 1144,
   "id": "3e38d518",
   "metadata": {},
   "outputs": [
    {
     "data": {
      "text/plain": [
       "Lisboa     329\n",
       "Other      123\n",
       "Cascais     54\n",
       "Oeiras      47\n",
       "Sintra      34\n",
       "Name: City, dtype: int64"
      ]
     },
     "execution_count": 1144,
     "metadata": {},
     "output_type": "execute_result"
    }
   ],
   "source": [
    "# categorize minor divisions as 'other'\n",
    "minor_city = list(city_count[city_count <= 33].index)\n",
    "df2['City'] = df2['City'].replace(minor_city, 'Other')\n",
    "df2['City'].value_counts()"
   ]
  },
  {
   "cell_type": "code",
   "execution_count": 1145,
   "id": "5ca36db0",
   "metadata": {},
   "outputs": [
    {
     "data": {
      "text/plain": [
       "<AxesSubplot:xlabel='City', ylabel='Price'>"
      ]
     },
     "execution_count": 1145,
     "metadata": {},
     "output_type": "execute_result"
    },
    {
     "data": {
      "image/png": "[encoded data removed]",
      "text/plain": [
       "<Figure size 864x432 with 1 Axes>"
      ]
     },
     "metadata": {
      "needs_background": "light"
     },
     "output_type": "display_data"
    }
   ],
   "source": [
    "plt.figure(figsize=(12, 6))\n",
    "sns.boxplot(x = 'City', y = 'Price', data = df2)"
   ]
  },
  {
   "cell_type": "code",
   "execution_count": 1146,
   "id": "83545aac",
   "metadata": {},
   "outputs": [],
   "source": [
    "# creating dummy variables for Division\n",
    "df2.drop('Division',1, inplace=True) # dropping Division column\n",
    "df2 = pd.get_dummies(df2, drop_first = True)"
   ]
  },
  {
   "cell_type": "code",
   "execution_count": 1147,
   "id": "aad51859",
   "metadata": {},
   "outputs": [
    {
     "data": {
      "text/html": [
       "<div>\n",
       "<style scoped>\n",
       "    .dataframe tbody tr th:only-of-type {\n",
       "        vertical-align: middle;\n",
       "    }\n",
       "\n",
       "    .dataframe tbody tr th {\n",
       "        vertical-align: top;\n",
       "    }\n",
       "\n",
       "    .dataframe thead th {\n",
       "        text-align: right;\n",
       "    }\n",
       "</style>\n",
       "<table border=\"1\" class=\"dataframe\">\n",
       "  <thead>\n",
       "    <tr style=\"text-align: right;\">\n",
       "      <th></th>\n",
       "      <th>Price</th>\n",
       "      <th>Size</th>\n",
       "      <th>Bath</th>\n",
       "      <th>Bed</th>\n",
       "      <th>City_Lisboa</th>\n",
       "      <th>City_Oeiras</th>\n",
       "      <th>City_Other</th>\n",
       "      <th>City_Sintra</th>\n",
       "    </tr>\n",
       "  </thead>\n",
       "  <tbody>\n",
       "    <tr>\n",
       "      <th>0</th>\n",
       "      <td>470</td>\n",
       "      <td>60</td>\n",
       "      <td>1.0</td>\n",
       "      <td>1</td>\n",
       "      <td>0</td>\n",
       "      <td>0</td>\n",
       "      <td>1</td>\n",
       "      <td>0</td>\n",
       "    </tr>\n",
       "    <tr>\n",
       "      <th>2</th>\n",
       "      <td>500</td>\n",
       "      <td>57</td>\n",
       "      <td>1.0</td>\n",
       "      <td>2</td>\n",
       "      <td>0</td>\n",
       "      <td>0</td>\n",
       "      <td>1</td>\n",
       "      <td>0</td>\n",
       "    </tr>\n",
       "    <tr>\n",
       "      <th>3</th>\n",
       "      <td>500</td>\n",
       "      <td>51</td>\n",
       "      <td>1.0</td>\n",
       "      <td>1</td>\n",
       "      <td>1</td>\n",
       "      <td>0</td>\n",
       "      <td>0</td>\n",
       "      <td>0</td>\n",
       "    </tr>\n",
       "    <tr>\n",
       "      <th>5</th>\n",
       "      <td>500</td>\n",
       "      <td>80</td>\n",
       "      <td>1.0</td>\n",
       "      <td>2</td>\n",
       "      <td>0</td>\n",
       "      <td>0</td>\n",
       "      <td>1</td>\n",
       "      <td>0</td>\n",
       "    </tr>\n",
       "    <tr>\n",
       "      <th>6</th>\n",
       "      <td>550</td>\n",
       "      <td>70</td>\n",
       "      <td>1.0</td>\n",
       "      <td>2</td>\n",
       "      <td>0</td>\n",
       "      <td>0</td>\n",
       "      <td>1</td>\n",
       "      <td>0</td>\n",
       "    </tr>\n",
       "  </tbody>\n",
       "</table>\n",
       "</div>"
      ],
      "text/plain": [
       "   Price  Size  Bath  Bed  City_Lisboa  City_Oeiras  City_Other  City_Sintra\n",
       "0    470    60   1.0    1            0            0           1            0\n",
       "2    500    57   1.0    2            0            0           1            0\n",
       "3    500    51   1.0    1            1            0           0            0\n",
       "5    500    80   1.0    2            0            0           1            0\n",
       "6    550    70   1.0    2            0            0           1            0"
      ]
     },
     "execution_count": 1147,
     "metadata": {},
     "output_type": "execute_result"
    }
   ],
   "source": [
    "df2.head()"
   ]
  },
  {
   "cell_type": "code",
   "execution_count": 1148,
   "id": "fa245f31",
   "metadata": {},
   "outputs": [
    {
     "data": {
      "text/html": [
       "<div>\n",
       "<style scoped>\n",
       "    .dataframe tbody tr th:only-of-type {\n",
       "        vertical-align: middle;\n",
       "    }\n",
       "\n",
       "    .dataframe tbody tr th {\n",
       "        vertical-align: top;\n",
       "    }\n",
       "\n",
       "    .dataframe thead th {\n",
       "        text-align: right;\n",
       "    }\n",
       "</style>\n",
       "<table border=\"1\" class=\"dataframe\">\n",
       "  <thead>\n",
       "    <tr style=\"text-align: right;\">\n",
       "      <th></th>\n",
       "      <th>Price</th>\n",
       "      <th>Size</th>\n",
       "      <th>Bath</th>\n",
       "      <th>Bed</th>\n",
       "      <th>City_Lisboa</th>\n",
       "      <th>City_Oeiras</th>\n",
       "      <th>City_Other</th>\n",
       "      <th>City_Sintra</th>\n",
       "    </tr>\n",
       "  </thead>\n",
       "  <tbody>\n",
       "    <tr>\n",
       "      <th>count</th>\n",
       "      <td>587.000000</td>\n",
       "      <td>587.000000</td>\n",
       "      <td>587.000000</td>\n",
       "      <td>587.000000</td>\n",
       "      <td>587.000000</td>\n",
       "      <td>587.000000</td>\n",
       "      <td>587.000000</td>\n",
       "      <td>587.000000</td>\n",
       "    </tr>\n",
       "    <tr>\n",
       "      <th>mean</th>\n",
       "      <td>1189.735945</td>\n",
       "      <td>90.410562</td>\n",
       "      <td>1.540034</td>\n",
       "      <td>2.177172</td>\n",
       "      <td>0.560477</td>\n",
       "      <td>0.080068</td>\n",
       "      <td>0.209540</td>\n",
       "      <td>0.057922</td>\n",
       "    </tr>\n",
       "    <tr>\n",
       "      <th>std</th>\n",
       "      <td>431.642102</td>\n",
       "      <td>29.806717</td>\n",
       "      <td>0.665853</td>\n",
       "      <td>0.858181</td>\n",
       "      <td>0.496752</td>\n",
       "      <td>0.271630</td>\n",
       "      <td>0.407327</td>\n",
       "      <td>0.233794</td>\n",
       "    </tr>\n",
       "    <tr>\n",
       "      <th>min</th>\n",
       "      <td>400.000000</td>\n",
       "      <td>28.000000</td>\n",
       "      <td>1.000000</td>\n",
       "      <td>1.000000</td>\n",
       "      <td>0.000000</td>\n",
       "      <td>0.000000</td>\n",
       "      <td>0.000000</td>\n",
       "      <td>0.000000</td>\n",
       "    </tr>\n",
       "    <tr>\n",
       "      <th>25%</th>\n",
       "      <td>890.000000</td>\n",
       "      <td>70.000000</td>\n",
       "      <td>1.000000</td>\n",
       "      <td>2.000000</td>\n",
       "      <td>0.000000</td>\n",
       "      <td>0.000000</td>\n",
       "      <td>0.000000</td>\n",
       "      <td>0.000000</td>\n",
       "    </tr>\n",
       "    <tr>\n",
       "      <th>50%</th>\n",
       "      <td>1100.000000</td>\n",
       "      <td>85.000000</td>\n",
       "      <td>1.000000</td>\n",
       "      <td>2.000000</td>\n",
       "      <td>1.000000</td>\n",
       "      <td>0.000000</td>\n",
       "      <td>0.000000</td>\n",
       "      <td>0.000000</td>\n",
       "    </tr>\n",
       "    <tr>\n",
       "      <th>75%</th>\n",
       "      <td>1400.000000</td>\n",
       "      <td>108.000000</td>\n",
       "      <td>2.000000</td>\n",
       "      <td>3.000000</td>\n",
       "      <td>1.000000</td>\n",
       "      <td>0.000000</td>\n",
       "      <td>0.000000</td>\n",
       "      <td>0.000000</td>\n",
       "    </tr>\n",
       "    <tr>\n",
       "      <th>max</th>\n",
       "      <td>2650.000000</td>\n",
       "      <td>175.000000</td>\n",
       "      <td>4.000000</td>\n",
       "      <td>7.000000</td>\n",
       "      <td>1.000000</td>\n",
       "      <td>1.000000</td>\n",
       "      <td>1.000000</td>\n",
       "      <td>1.000000</td>\n",
       "    </tr>\n",
       "  </tbody>\n",
       "</table>\n",
       "</div>"
      ],
      "text/plain": [
       "             Price        Size        Bath         Bed  City_Lisboa  \\\n",
       "count   587.000000  587.000000  587.000000  587.000000   587.000000   \n",
       "mean   1189.735945   90.410562    1.540034    2.177172     0.560477   \n",
       "std     431.642102   29.806717    0.665853    0.858181     0.496752   \n",
       "min     400.000000   28.000000    1.000000    1.000000     0.000000   \n",
       "25%     890.000000   70.000000    1.000000    2.000000     0.000000   \n",
       "50%    1100.000000   85.000000    1.000000    2.000000     1.000000   \n",
       "75%    1400.000000  108.000000    2.000000    3.000000     1.000000   \n",
       "max    2650.000000  175.000000    4.000000    7.000000     1.000000   \n",
       "\n",
       "       City_Oeiras  City_Other  City_Sintra  \n",
       "count   587.000000  587.000000   587.000000  \n",
       "mean      0.080068    0.209540     0.057922  \n",
       "std       0.271630    0.407327     0.233794  \n",
       "min       0.000000    0.000000     0.000000  \n",
       "25%       0.000000    0.000000     0.000000  \n",
       "50%       0.000000    0.000000     0.000000  \n",
       "75%       0.000000    0.000000     0.000000  \n",
       "max       1.000000    1.000000     1.000000  "
      ]
     },
     "execution_count": 1148,
     "metadata": {},
     "output_type": "execute_result"
    }
   ],
   "source": [
    "df2.describe()"
   ]
  },
  {
   "cell_type": "code",
   "execution_count": 1149,
   "id": "d9891eb0",
   "metadata": {},
   "outputs": [
    {
     "data": {
      "image/png": "[encoded data removed]",
      "text/plain": [
       "<Figure size 1080x360 with 3 Axes>"
      ]
     },
     "metadata": {
      "needs_background": "light"
     },
     "output_type": "display_data"
    }
   ],
   "source": [
    "# histogram and heat map\n",
    "rent_corr = df2.corr()\n",
    "fig, axs = plt.subplots(1,2, figsize=[15,5])\n",
    "sns.distplot(df2['Price'], ax=axs[0])\n",
    "sns.heatmap(rent_corr, ax=axs[1], annot=True)\n",
    "fig.tight_layout()"
   ]
  },
  {
   "cell_type": "code",
   "execution_count": null,
   "id": "36a4a36b",
   "metadata": {},
   "outputs": [],
   "source": []
  },
  {
   "cell_type": "code",
   "execution_count": 1196,
   "id": "ef817596",
   "metadata": {},
   "outputs": [],
   "source": [
    "# Train/test split\n",
    "X = df2.drop(columns = ['Price'])\n",
    "y = df2['Price']\n",
    "\n",
    "X_train, X_test, y_train, y_test = train_test_split(X,y, test_size=0.2)\n",
    "\n",
    "col = ['Size', 'Bath', 'Bed']\n",
    "scaler = RobustScaler().fit(X_train[col])\n",
    "X_train[col] = scaler.transform(X_train[col])"
   ]
  },
  {
   "cell_type": "code",
   "execution_count": 1197,
   "id": "4b275433",
   "metadata": {},
   "outputs": [
    {
     "data": {
      "text/html": [
       "<div>\n",
       "<style scoped>\n",
       "    .dataframe tbody tr th:only-of-type {\n",
       "        vertical-align: middle;\n",
       "    }\n",
       "\n",
       "    .dataframe tbody tr th {\n",
       "        vertical-align: top;\n",
       "    }\n",
       "\n",
       "    .dataframe thead th {\n",
       "        text-align: right;\n",
       "    }\n",
       "</style>\n",
       "<table border=\"1\" class=\"dataframe\">\n",
       "  <thead>\n",
       "    <tr style=\"text-align: right;\">\n",
       "      <th></th>\n",
       "      <th>Size</th>\n",
       "      <th>Bath</th>\n",
       "      <th>Bed</th>\n",
       "      <th>City_Lisboa</th>\n",
       "      <th>City_Oeiras</th>\n",
       "      <th>City_Other</th>\n",
       "      <th>City_Sintra</th>\n",
       "    </tr>\n",
       "  </thead>\n",
       "  <tbody>\n",
       "    <tr>\n",
       "      <th>501</th>\n",
       "      <td>0.315789</td>\n",
       "      <td>1.0</td>\n",
       "      <td>1.0</td>\n",
       "      <td>1</td>\n",
       "      <td>0</td>\n",
       "      <td>0</td>\n",
       "      <td>0</td>\n",
       "    </tr>\n",
       "    <tr>\n",
       "      <th>486</th>\n",
       "      <td>-0.447368</td>\n",
       "      <td>0.0</td>\n",
       "      <td>0.0</td>\n",
       "      <td>1</td>\n",
       "      <td>0</td>\n",
       "      <td>0</td>\n",
       "      <td>0</td>\n",
       "    </tr>\n",
       "    <tr>\n",
       "      <th>406</th>\n",
       "      <td>0.447368</td>\n",
       "      <td>1.0</td>\n",
       "      <td>1.0</td>\n",
       "      <td>0</td>\n",
       "      <td>1</td>\n",
       "      <td>0</td>\n",
       "      <td>0</td>\n",
       "    </tr>\n",
       "    <tr>\n",
       "      <th>541</th>\n",
       "      <td>-0.184211</td>\n",
       "      <td>1.0</td>\n",
       "      <td>-1.0</td>\n",
       "      <td>1</td>\n",
       "      <td>0</td>\n",
       "      <td>0</td>\n",
       "      <td>0</td>\n",
       "    </tr>\n",
       "    <tr>\n",
       "      <th>402</th>\n",
       "      <td>0.842105</td>\n",
       "      <td>0.0</td>\n",
       "      <td>0.0</td>\n",
       "      <td>1</td>\n",
       "      <td>0</td>\n",
       "      <td>0</td>\n",
       "      <td>0</td>\n",
       "    </tr>\n",
       "  </tbody>\n",
       "</table>\n",
       "</div>"
      ],
      "text/plain": [
       "         Size  Bath  Bed  City_Lisboa  City_Oeiras  City_Other  City_Sintra\n",
       "501  0.315789   1.0  1.0            1            0           0            0\n",
       "486 -0.447368   0.0  0.0            1            0           0            0\n",
       "406  0.447368   1.0  1.0            0            1           0            0\n",
       "541 -0.184211   1.0 -1.0            1            0           0            0\n",
       "402  0.842105   0.0  0.0            1            0           0            0"
      ]
     },
     "execution_count": 1197,
     "metadata": {},
     "output_type": "execute_result"
    }
   ],
   "source": [
    "X_train.head()"
   ]
  },
  {
   "cell_type": "code",
   "execution_count": 1198,
   "id": "6a2fd673",
   "metadata": {},
   "outputs": [],
   "source": [
    "scaler = RobustScaler().fit(X_test[col])\n",
    "X_test[col] = scaler.transform(X_test[col])"
   ]
  },
  {
   "cell_type": "code",
   "execution_count": 1199,
   "id": "6ba9b018",
   "metadata": {},
   "outputs": [
    {
     "data": {
      "text/plain": [
       "LinearRegression()"
      ]
     },
     "execution_count": 1199,
     "metadata": {},
     "output_type": "execute_result"
    }
   ],
   "source": [
    "lm_scaled = LinearRegression()\n",
    "lm_scaled.fit(X_train, y_train)"
   ]
  },
  {
   "cell_type": "code",
   "execution_count": 1200,
   "id": "001266f9",
   "metadata": {},
   "outputs": [
    {
     "data": {
      "text/html": [
       "<div>\n",
       "<style scoped>\n",
       "    .dataframe tbody tr th:only-of-type {\n",
       "        vertical-align: middle;\n",
       "    }\n",
       "\n",
       "    .dataframe tbody tr th {\n",
       "        vertical-align: top;\n",
       "    }\n",
       "\n",
       "    .dataframe thead th {\n",
       "        text-align: right;\n",
       "    }\n",
       "</style>\n",
       "<table border=\"1\" class=\"dataframe\">\n",
       "  <thead>\n",
       "    <tr style=\"text-align: right;\">\n",
       "      <th></th>\n",
       "      <th>coefficients</th>\n",
       "    </tr>\n",
       "  </thead>\n",
       "  <tbody>\n",
       "    <tr>\n",
       "      <th>Size</th>\n",
       "      <td>214.226544</td>\n",
       "    </tr>\n",
       "    <tr>\n",
       "      <th>Bath</th>\n",
       "      <td>169.040152</td>\n",
       "    </tr>\n",
       "    <tr>\n",
       "      <th>Bed</th>\n",
       "      <td>28.341278</td>\n",
       "    </tr>\n",
       "    <tr>\n",
       "      <th>City_Lisboa</th>\n",
       "      <td>-8.727759</td>\n",
       "    </tr>\n",
       "    <tr>\n",
       "      <th>City_Oeiras</th>\n",
       "      <td>-203.614536</td>\n",
       "    </tr>\n",
       "    <tr>\n",
       "      <th>City_Other</th>\n",
       "      <td>-411.243153</td>\n",
       "    </tr>\n",
       "    <tr>\n",
       "      <th>City_Sintra</th>\n",
       "      <td>-355.094341</td>\n",
       "    </tr>\n",
       "  </tbody>\n",
       "</table>\n",
       "</div>"
      ],
      "text/plain": [
       "             coefficients\n",
       "Size           214.226544\n",
       "Bath           169.040152\n",
       "Bed             28.341278\n",
       "City_Lisboa     -8.727759\n",
       "City_Oeiras   -203.614536\n",
       "City_Other    -411.243153\n",
       "City_Sintra   -355.094341"
      ]
     },
     "execution_count": 1200,
     "metadata": {},
     "output_type": "execute_result"
    }
   ],
   "source": [
    "cdf_scaled = pd.DataFrame(lm_scaled.coef_, index=X_train.columns, columns = ['coefficients'])\n",
    "cdf_scaled"
   ]
  },
  {
   "cell_type": "code",
   "execution_count": 1201,
   "id": "722602ba",
   "metadata": {},
   "outputs": [
    {
     "name": "stdout",
     "output_type": "stream",
     "text": [
      "0.5835249202380657\n",
      "0.6006570812926049\n"
     ]
    }
   ],
   "source": [
    "# checking R2 for train/test\n",
    "print(lm_scaled.score(X_train, y_train))\n",
    "print(lm_scaled.score(X_test, y_test))"
   ]
  },
  {
   "cell_type": "code",
   "execution_count": null,
   "id": "0ab02c6e",
   "metadata": {},
   "outputs": [],
   "source": []
  },
  {
   "cell_type": "code",
   "execution_count": 1202,
   "id": "ac7a3605",
   "metadata": {},
   "outputs": [],
   "source": [
    "y_pred = lm_scaled.predict(X_test)"
   ]
  },
  {
   "cell_type": "code",
   "execution_count": 1203,
   "id": "6f0a8086",
   "metadata": {},
   "outputs": [
    {
     "name": "stdout",
     "output_type": "stream",
     "text": [
      "Mean Absolute Error: 193.8688162560208\n",
      "Mean Squared Error: 64401.8760495235\n",
      "Root Mean Squared Error: 253.77524711745136\n"
     ]
    }
   ],
   "source": [
    "print('Mean Absolute Error:', metrics.mean_absolute_error(y_test, y_pred))\n",
    "print('Mean Squared Error:', metrics.mean_squared_error(y_test, y_pred))\n",
    "print('Root Mean Squared Error:', np.sqrt(metrics.mean_squared_error(y_test, y_pred)))"
   ]
  },
  {
   "cell_type": "code",
   "execution_count": 1204,
   "id": "ee2e5fc6",
   "metadata": {},
   "outputs": [
    {
     "data": {
      "text/plain": [
       "<matplotlib.collections.PathCollection at 0x7f9cf001ca60>"
      ]
     },
     "execution_count": 1204,
     "metadata": {},
     "output_type": "execute_result"
    },
    {
     "data": {
      "image/png": "[encoded data removed]",
      "text/plain": [
       "<Figure size 432x288 with 1 Axes>"
      ]
     },
     "metadata": {
      "needs_background": "light"
     },
     "output_type": "display_data"
    }
   ],
   "source": [
    "# actual vs predicted\n",
    "plt.scatter(y_test, y_pred)  "
   ]
  },
  {
   "cell_type": "code",
   "execution_count": 1205,
   "id": "9e59e3da",
   "metadata": {},
   "outputs": [],
   "source": [
    "# combining the predicted value with input\n",
    "X_test['predicted_rent'] = y_pred\n",
    "# prediction for all data\n",
    "scaler = RobustScaler().fit(X[col])\n",
    "X[col] = scaler.transform(X[col])\n",
    "y_pred_all = lm_scaled.predict(X)\n",
    "residuals_all = y - y_pred_all"
   ]
  },
  {
   "cell_type": "code",
   "execution_count": 1206,
   "id": "6300f6fa",
   "metadata": {},
   "outputs": [
    {
     "data": {
      "image/png": "[encoded data removed]",
      "text/plain": [
       "<Figure size 720x720 with 4 Axes>"
      ]
     },
     "metadata": {
      "needs_background": "light"
     },
     "output_type": "display_data"
    }
   ],
   "source": [
    "# Evaluate model using charts for all data\n",
    "fig, axs = plt.subplots(2,2, figsize=(10,10))\n",
    "\n",
    "plt1 = axs[0][0].scatter(x=y, y=y_pred_all)\n",
    "axs[0][0].set_title('Fitted vs Predicted')\n",
    "axs[0][0].set_xlabel('Price')\n",
    "axs[0][0].set_ylabel('Price - predicted')\n",
    "\n",
    "plt2 = axs[0][1].scatter(x=y, y=residuals_all)\n",
    "axs[0][1].hlines(0, xmin=0, xmax=2500)\n",
    "axs[0][1].set_title('Fitted vs Residuals')\n",
    "axs[0][1].set_xlabel('Price - fitted')\n",
    "axs[0][1].set_ylabel('Residuals')\n",
    "\n",
    "plt3 = axs[1][0].scatter(x=sorted(random.randn(len(residuals_all))), y=sorted(residuals_all))\n",
    "axs[1][0].set_title('QQ plot')\n",
    "axs[1][0].set_xlabel('Std. normal z scores')\n",
    "axs[1][0].set_ylabel('Residuals')\n",
    "\n",
    "plt4 = sns.distplot(residuals_all, ax=axs[1][1])\n",
    "axs[1][1].set_title('Residuals')\n",
    "plt.tight_layout()"
   ]
  },
  {
   "cell_type": "code",
   "execution_count": 1207,
   "id": "c1e2a464",
   "metadata": {},
   "outputs": [
    {
     "data": {
      "text/html": [
       "<table class=\"simpletable\">\n",
       "<caption>OLS Regression Results</caption>\n",
       "<tr>\n",
       "  <th>Dep. Variable:</th>          <td>Price</td>      <th>  R-squared:         </th> <td>   0.584</td>\n",
       "</tr>\n",
       "<tr>\n",
       "  <th>Model:</th>                   <td>OLS</td>       <th>  Adj. R-squared:    </th> <td>   0.577</td>\n",
       "</tr>\n",
       "<tr>\n",
       "  <th>Method:</th>             <td>Least Squares</td>  <th>  F-statistic:       </th> <td>   92.27</td>\n",
       "</tr>\n",
       "<tr>\n",
       "  <th>Date:</th>             <td>Fri, 03 Jun 2022</td> <th>  Prob (F-statistic):</th> <td>1.34e-83</td>\n",
       "</tr>\n",
       "<tr>\n",
       "  <th>Time:</th>                 <td>20:44:40</td>     <th>  Log-Likelihood:    </th> <td> -3313.1</td>\n",
       "</tr>\n",
       "<tr>\n",
       "  <th>No. Observations:</th>      <td>   469</td>      <th>  AIC:               </th> <td>   6642.</td>\n",
       "</tr>\n",
       "<tr>\n",
       "  <th>Df Residuals:</th>          <td>   461</td>      <th>  BIC:               </th> <td>   6675.</td>\n",
       "</tr>\n",
       "<tr>\n",
       "  <th>Df Model:</th>              <td>     7</td>      <th>                     </th>     <td> </td>   \n",
       "</tr>\n",
       "<tr>\n",
       "  <th>Covariance Type:</th>      <td>nonrobust</td>    <th>                     </th>     <td> </td>   \n",
       "</tr>\n",
       "</table>\n",
       "<table class=\"simpletable\">\n",
       "<tr>\n",
       "       <td></td>          <th>coef</th>     <th>std err</th>      <th>t</th>      <th>P>|t|</th>  <th>[0.025</th>    <th>0.975]</th>  \n",
       "</tr>\n",
       "<tr>\n",
       "  <th>const</th>       <td> 1198.4372</td> <td>   50.129</td> <td>   23.907</td> <td> 0.000</td> <td> 1099.927</td> <td> 1296.947</td>\n",
       "</tr>\n",
       "<tr>\n",
       "  <th>Size</th>        <td>  214.2265</td> <td>   26.347</td> <td>    8.131</td> <td> 0.000</td> <td>  162.452</td> <td>  266.001</td>\n",
       "</tr>\n",
       "<tr>\n",
       "  <th>Bath</th>        <td>  169.0402</td> <td>   27.171</td> <td>    6.221</td> <td> 0.000</td> <td>  115.647</td> <td>  222.434</td>\n",
       "</tr>\n",
       "<tr>\n",
       "  <th>Bed</th>         <td>   28.3413</td> <td>   20.790</td> <td>    1.363</td> <td> 0.173</td> <td>  -12.513</td> <td>   69.196</td>\n",
       "</tr>\n",
       "<tr>\n",
       "  <th>City_Lisboa</th> <td>   -8.7278</td> <td>   49.762</td> <td>   -0.175</td> <td> 0.861</td> <td> -106.517</td> <td>   89.061</td>\n",
       "</tr>\n",
       "<tr>\n",
       "  <th>City_Oeiras</th> <td> -203.6145</td> <td>   67.029</td> <td>   -3.038</td> <td> 0.003</td> <td> -335.335</td> <td>  -71.894</td>\n",
       "</tr>\n",
       "<tr>\n",
       "  <th>City_Other</th>  <td> -411.2432</td> <td>   54.611</td> <td>   -7.530</td> <td> 0.000</td> <td> -518.561</td> <td> -303.926</td>\n",
       "</tr>\n",
       "<tr>\n",
       "  <th>City_Sintra</th> <td> -355.0943</td> <td>   71.476</td> <td>   -4.968</td> <td> 0.000</td> <td> -495.553</td> <td> -214.636</td>\n",
       "</tr>\n",
       "</table>\n",
       "<table class=\"simpletable\">\n",
       "<tr>\n",
       "  <th>Omnibus:</th>       <td>118.600</td> <th>  Durbin-Watson:     </th> <td>   1.890</td>\n",
       "</tr>\n",
       "<tr>\n",
       "  <th>Prob(Omnibus):</th> <td> 0.000</td>  <th>  Jarque-Bera (JB):  </th> <td> 292.097</td>\n",
       "</tr>\n",
       "<tr>\n",
       "  <th>Skew:</th>          <td> 1.264</td>  <th>  Prob(JB):          </th> <td>3.73e-64</td>\n",
       "</tr>\n",
       "<tr>\n",
       "  <th>Kurtosis:</th>      <td> 5.925</td>  <th>  Cond. No.          </th> <td>    12.4</td>\n",
       "</tr>\n",
       "</table><br/><br/>Notes:<br/>[1] Standard Errors assume that the covariance matrix of the errors is correctly specified."
      ],
      "text/plain": [
       "<class 'statsmodels.iolib.summary.Summary'>\n",
       "\"\"\"\n",
       "                            OLS Regression Results                            \n",
       "==============================================================================\n",
       "Dep. Variable:                  Price   R-squared:                       0.584\n",
       "Model:                            OLS   Adj. R-squared:                  0.577\n",
       "Method:                 Least Squares   F-statistic:                     92.27\n",
       "Date:                Fri, 03 Jun 2022   Prob (F-statistic):           1.34e-83\n",
       "Time:                        20:44:40   Log-Likelihood:                -3313.1\n",
       "No. Observations:                 469   AIC:                             6642.\n",
       "Df Residuals:                     461   BIC:                             6675.\n",
       "Df Model:                           7                                         \n",
       "Covariance Type:            nonrobust                                         \n",
       "===============================================================================\n",
       "                  coef    std err          t      P>|t|      [0.025      0.975]\n",
       "-------------------------------------------------------------------------------\n",
       "const        1198.4372     50.129     23.907      0.000    1099.927    1296.947\n",
       "Size          214.2265     26.347      8.131      0.000     162.452     266.001\n",
       "Bath          169.0402     27.171      6.221      0.000     115.647     222.434\n",
       "Bed            28.3413     20.790      1.363      0.173     -12.513      69.196\n",
       "City_Lisboa    -8.7278     49.762     -0.175      0.861    -106.517      89.061\n",
       "City_Oeiras  -203.6145     67.029     -3.038      0.003    -335.335     -71.894\n",
       "City_Other   -411.2432     54.611     -7.530      0.000    -518.561    -303.926\n",
       "City_Sintra  -355.0943     71.476     -4.968      0.000    -495.553    -214.636\n",
       "==============================================================================\n",
       "Omnibus:                      118.600   Durbin-Watson:                   1.890\n",
       "Prob(Omnibus):                  0.000   Jarque-Bera (JB):              292.097\n",
       "Skew:                           1.264   Prob(JB):                     3.73e-64\n",
       "Kurtosis:                       5.925   Cond. No.                         12.4\n",
       "==============================================================================\n",
       "\n",
       "Notes:\n",
       "[1] Standard Errors assume that the covariance matrix of the errors is correctly specified.\n",
       "\"\"\""
      ]
     },
     "execution_count": 1207,
     "metadata": {},
     "output_type": "execute_result"
    }
   ],
   "source": [
    "# Using statsmodels\n",
    "X_train = sm.add_constant(X_train)\n",
    "model = sm.OLS(y_train, X_train).fit()\n",
    "pred = model.predict(X_train)\n",
    "model.summary()"
   ]
  },
  {
   "cell_type": "code",
   "execution_count": null,
   "id": "b56d7099",
   "metadata": {},
   "outputs": [],
   "source": []
  },
  {
   "cell_type": "code",
   "execution_count": 1208,
   "id": "ebb25dc6",
   "metadata": {},
   "outputs": [],
   "source": [
    "# Regression Equation Formula\n",
    "# Rent = 1156.77 + 206.16'size' + 158.27'bath' + 35.11'bed' +41.61'if in_lisbon' - 190.03 'if in Oeiras' - 351.46 'if in City other than Cascais'"
   ]
  },
  {
   "cell_type": "code",
   "execution_count": null,
   "id": "a5c38204",
   "metadata": {},
   "outputs": [],
   "source": []
  },
  {
   "cell_type": "code",
   "execution_count": 1209,
   "id": "fb48084c",
   "metadata": {},
   "outputs": [],
   "source": [
    "# model without zscoring\n",
    "\n",
    "# Train/test split\n",
    "X = df2.drop(columns = ['Price'])\n",
    "y = df2['Price']\n",
    "\n",
    "X_train, X_test, y_train, y_test = train_test_split(X,y, test_size=0.2)"
   ]
  },
  {
   "cell_type": "code",
   "execution_count": 1210,
   "id": "e9698945",
   "metadata": {},
   "outputs": [
    {
     "data": {
      "text/plain": [
       "LinearRegression()"
      ]
     },
     "execution_count": 1210,
     "metadata": {},
     "output_type": "execute_result"
    }
   ],
   "source": [
    "lm = LinearRegression()\n",
    "lm.fit(X_train, y_train)"
   ]
  },
  {
   "cell_type": "code",
   "execution_count": 1211,
   "id": "45389905",
   "metadata": {},
   "outputs": [
    {
     "name": "stdout",
     "output_type": "stream",
     "text": [
      "0.5784258159174824\n",
      "0.6092924670942104\n"
     ]
    }
   ],
   "source": [
    "# checking R2 for train/test\n",
    "print(lm.score(X_train, y_train))\n",
    "print(lm.score(X_test, y_test))"
   ]
  },
  {
   "cell_type": "code",
   "execution_count": 1212,
   "id": "eec36f54",
   "metadata": {},
   "outputs": [],
   "source": [
    "y_pred = lm.predict(X_test)"
   ]
  },
  {
   "cell_type": "code",
   "execution_count": 1213,
   "id": "f6deff92",
   "metadata": {},
   "outputs": [
    {
     "name": "stdout",
     "output_type": "stream",
     "text": [
      "Mean Absolute Error: 187.25911000325445\n",
      "Mean Squared Error: 64626.49766694314\n",
      "Root Mean Squared Error: 254.2174220366164\n"
     ]
    }
   ],
   "source": [
    "print('Mean Absolute Error:', metrics.mean_absolute_error(y_test, y_pred))\n",
    "print('Mean Squared Error:', metrics.mean_squared_error(y_test, y_pred))\n",
    "print('Root Mean Squared Error:', np.sqrt(metrics.mean_squared_error(y_test, y_pred)))"
   ]
  },
  {
   "cell_type": "code",
   "execution_count": 1214,
   "id": "9ecdf8aa",
   "metadata": {},
   "outputs": [
    {
     "data": {
      "text/plain": [
       "<matplotlib.collections.PathCollection at 0x7f9cf0073160>"
      ]
     },
     "execution_count": 1214,
     "metadata": {},
     "output_type": "execute_result"
    },
    {
     "data": {
      "image/png": "[encoded data removed]",
      "text/plain": [
       "<Figure size 432x288 with 1 Axes>"
      ]
     },
     "metadata": {
      "needs_background": "light"
     },
     "output_type": "display_data"
    }
   ],
   "source": [
    "# actual vs predicted\n",
    "plt.scatter(y_test, y_pred)  "
   ]
  },
  {
   "cell_type": "code",
   "execution_count": 1215,
   "id": "53db9e91",
   "metadata": {},
   "outputs": [],
   "source": [
    "# combining the predicted value with input\n",
    "X_test['predicted_rent'] = y_pred\n",
    "# prediction for all data\n",
    "y_pred_all = lm.predict(X)\n",
    "residuals_all = y - y_pred_all"
   ]
  },
  {
   "cell_type": "code",
   "execution_count": 1216,
   "id": "5f30cbe2",
   "metadata": {},
   "outputs": [
    {
     "data": {
      "image/png": "[encoded data removed]",
      "text/plain": [
       "<Figure size 720x720 with 4 Axes>"
      ]
     },
     "metadata": {
      "needs_background": "light"
     },
     "output_type": "display_data"
    }
   ],
   "source": [
    "# Evaluate model using charts for all data\n",
    "fig, axs = plt.subplots(2,2, figsize=(10,10))\n",
    "\n",
    "plt1 = axs[0][0].scatter(x=y, y=y_pred_all)\n",
    "axs[0][0].set_title('Fitted vs Predicted')\n",
    "axs[0][0].set_xlabel('Price')\n",
    "axs[0][0].set_ylabel('Price - predicted')\n",
    "\n",
    "plt2 = axs[0][1].scatter(x=y, y=residuals_all)\n",
    "axs[0][1].hlines(0, xmin=0, xmax=2500)\n",
    "axs[0][1].set_title('Fitted vs Residuals')\n",
    "axs[0][1].set_xlabel('Price - fitted')\n",
    "axs[0][1].set_ylabel('Residuals')\n",
    "\n",
    "plt3 = axs[1][0].scatter(x=sorted(random.randn(len(residuals_all))), y=sorted(residuals_all))\n",
    "axs[1][0].set_title('QQ plot')\n",
    "axs[1][0].set_xlabel('Std. normal z scores')\n",
    "axs[1][0].set_ylabel('Residuals')\n",
    "\n",
    "plt4 = sns.distplot(residuals_all, ax=axs[1][1])\n",
    "axs[1][1].set_title('Residuals')\n",
    "plt.tight_layout()"
   ]
  },
  {
   "cell_type": "code",
   "execution_count": 1217,
   "id": "76a7cf37",
   "metadata": {},
   "outputs": [
    {
     "data": {
      "text/html": [
       "<table class=\"simpletable\">\n",
       "<caption>OLS Regression Results</caption>\n",
       "<tr>\n",
       "  <th>Dep. Variable:</th>          <td>Price</td>      <th>  R-squared:         </th> <td>   0.578</td>\n",
       "</tr>\n",
       "<tr>\n",
       "  <th>Model:</th>                   <td>OLS</td>       <th>  Adj. R-squared:    </th> <td>   0.572</td>\n",
       "</tr>\n",
       "<tr>\n",
       "  <th>Method:</th>             <td>Least Squares</td>  <th>  F-statistic:       </th> <td>   90.36</td>\n",
       "</tr>\n",
       "<tr>\n",
       "  <th>Date:</th>             <td>Fri, 03 Jun 2022</td> <th>  Prob (F-statistic):</th> <td>2.17e-82</td>\n",
       "</tr>\n",
       "<tr>\n",
       "  <th>Time:</th>                 <td>20:44:57</td>     <th>  Log-Likelihood:    </th> <td> -3314.5</td>\n",
       "</tr>\n",
       "<tr>\n",
       "  <th>No. Observations:</th>      <td>   469</td>      <th>  AIC:               </th> <td>   6645.</td>\n",
       "</tr>\n",
       "<tr>\n",
       "  <th>Df Residuals:</th>          <td>   461</td>      <th>  BIC:               </th> <td>   6678.</td>\n",
       "</tr>\n",
       "<tr>\n",
       "  <th>Df Model:</th>              <td>     7</td>      <th>                     </th>     <td> </td>   \n",
       "</tr>\n",
       "<tr>\n",
       "  <th>Covariance Type:</th>      <td>nonrobust</td>    <th>                     </th>     <td> </td>   \n",
       "</tr>\n",
       "</table>\n",
       "<table class=\"simpletable\">\n",
       "<tr>\n",
       "       <td></td>          <th>coef</th>     <th>std err</th>      <th>t</th>      <th>P>|t|</th>  <th>[0.025</th>    <th>0.975]</th>  \n",
       "</tr>\n",
       "<tr>\n",
       "  <th>const</th>       <td>  451.2415</td> <td>   60.986</td> <td>    7.399</td> <td> 0.000</td> <td>  331.396</td> <td>  571.087</td>\n",
       "</tr>\n",
       "<tr>\n",
       "  <th>Size</th>        <td>    5.5098</td> <td>    0.681</td> <td>    8.092</td> <td> 0.000</td> <td>    4.172</td> <td>    6.848</td>\n",
       "</tr>\n",
       "<tr>\n",
       "  <th>Bath</th>        <td>  169.3440</td> <td>   27.173</td> <td>    6.232</td> <td> 0.000</td> <td>  115.945</td> <td>  222.743</td>\n",
       "</tr>\n",
       "<tr>\n",
       "  <th>Bed</th>         <td>   29.1164</td> <td>   20.839</td> <td>    1.397</td> <td> 0.163</td> <td>  -11.834</td> <td>   70.067</td>\n",
       "</tr>\n",
       "<tr>\n",
       "  <th>City_Lisboa</th> <td>   47.2381</td> <td>   47.100</td> <td>    1.003</td> <td> 0.316</td> <td>  -45.318</td> <td>  139.794</td>\n",
       "</tr>\n",
       "<tr>\n",
       "  <th>City_Oeiras</th> <td> -191.3757</td> <td>   63.334</td> <td>   -3.022</td> <td> 0.003</td> <td> -315.834</td> <td>  -66.917</td>\n",
       "</tr>\n",
       "<tr>\n",
       "  <th>City_Other</th>  <td> -369.6619</td> <td>   52.575</td> <td>   -7.031</td> <td> 0.000</td> <td> -472.979</td> <td> -266.345</td>\n",
       "</tr>\n",
       "<tr>\n",
       "  <th>City_Sintra</th> <td> -315.5607</td> <td>   70.228</td> <td>   -4.493</td> <td> 0.000</td> <td> -453.568</td> <td> -177.553</td>\n",
       "</tr>\n",
       "</table>\n",
       "<table class=\"simpletable\">\n",
       "<tr>\n",
       "  <th>Omnibus:</th>       <td>117.794</td> <th>  Durbin-Watson:     </th> <td>   1.908</td>\n",
       "</tr>\n",
       "<tr>\n",
       "  <th>Prob(Omnibus):</th> <td> 0.000</td>  <th>  Jarque-Bera (JB):  </th> <td> 283.058</td>\n",
       "</tr>\n",
       "<tr>\n",
       "  <th>Skew:</th>          <td> 1.267</td>  <th>  Prob(JB):          </th> <td>3.43e-62</td>\n",
       "</tr>\n",
       "<tr>\n",
       "  <th>Kurtosis:</th>      <td> 5.840</td>  <th>  Cond. No.          </th> <td>    769.</td>\n",
       "</tr>\n",
       "</table><br/><br/>Notes:<br/>[1] Standard Errors assume that the covariance matrix of the errors is correctly specified."
      ],
      "text/plain": [
       "<class 'statsmodels.iolib.summary.Summary'>\n",
       "\"\"\"\n",
       "                            OLS Regression Results                            \n",
       "==============================================================================\n",
       "Dep. Variable:                  Price   R-squared:                       0.578\n",
       "Model:                            OLS   Adj. R-squared:                  0.572\n",
       "Method:                 Least Squares   F-statistic:                     90.36\n",
       "Date:                Fri, 03 Jun 2022   Prob (F-statistic):           2.17e-82\n",
       "Time:                        20:44:57   Log-Likelihood:                -3314.5\n",
       "No. Observations:                 469   AIC:                             6645.\n",
       "Df Residuals:                     461   BIC:                             6678.\n",
       "Df Model:                           7                                         \n",
       "Covariance Type:            nonrobust                                         \n",
       "===============================================================================\n",
       "                  coef    std err          t      P>|t|      [0.025      0.975]\n",
       "-------------------------------------------------------------------------------\n",
       "const         451.2415     60.986      7.399      0.000     331.396     571.087\n",
       "Size            5.5098      0.681      8.092      0.000       4.172       6.848\n",
       "Bath          169.3440     27.173      6.232      0.000     115.945     222.743\n",
       "Bed            29.1164     20.839      1.397      0.163     -11.834      70.067\n",
       "City_Lisboa    47.2381     47.100      1.003      0.316     -45.318     139.794\n",
       "City_Oeiras  -191.3757     63.334     -3.022      0.003    -315.834     -66.917\n",
       "City_Other   -369.6619     52.575     -7.031      0.000    -472.979    -266.345\n",
       "City_Sintra  -315.5607     70.228     -4.493      0.000    -453.568    -177.553\n",
       "==============================================================================\n",
       "Omnibus:                      117.794   Durbin-Watson:                   1.908\n",
       "Prob(Omnibus):                  0.000   Jarque-Bera (JB):              283.058\n",
       "Skew:                           1.267   Prob(JB):                     3.43e-62\n",
       "Kurtosis:                       5.840   Cond. No.                         769.\n",
       "==============================================================================\n",
       "\n",
       "Notes:\n",
       "[1] Standard Errors assume that the covariance matrix of the errors is correctly specified.\n",
       "\"\"\""
      ]
     },
     "execution_count": 1217,
     "metadata": {},
     "output_type": "execute_result"
    }
   ],
   "source": [
    "# Using statsmodels\n",
    "X_train = sm.add_constant(X_train)\n",
    "model = sm.OLS(y_train, X_train).fit()\n",
    "pred = model.predict(X_train)\n",
    "model.summary()"
   ]
  },
  {
   "cell_type": "code",
   "execution_count": 1218,
   "id": "ccccfcd0",
   "metadata": {},
   "outputs": [],
   "source": [
    "# Regression Equation Formula\n",
    "# Rent = 451.24 + 5.51'size' + 169.34'bath' + 29.12'bed' -47.24'if in_lisbon' - 191.38 'if in Oeiras' \n",
    "# - 315.56 'if in Sintra' - 369.66 'if in City other than Cascais'"
   ]
  },
  {
   "cell_type": "code",
   "execution_count": null,
   "id": "b334fd4b",
   "metadata": {},
   "outputs": [],
   "source": []
  },
  {
   "cell_type": "code",
   "execution_count": 1221,
   "id": "5249aa31",
   "metadata": {},
   "outputs": [],
   "source": [
    "df_buy = pd.read_csv('lisbon_buy_6302_052922_final.csv')"
   ]
  },
  {
   "cell_type": "code",
   "execution_count": 1222,
   "id": "511e7c64",
   "metadata": {},
   "outputs": [
    {
     "data": {
      "text/html": [
       "<div>\n",
       "<style scoped>\n",
       "    .dataframe tbody tr th:only-of-type {\n",
       "        vertical-align: middle;\n",
       "    }\n",
       "\n",
       "    .dataframe tbody tr th {\n",
       "        vertical-align: top;\n",
       "    }\n",
       "\n",
       "    .dataframe thead th {\n",
       "        text-align: right;\n",
       "    }\n",
       "</style>\n",
       "<table border=\"1\" class=\"dataframe\">\n",
       "  <thead>\n",
       "    <tr style=\"text-align: right;\">\n",
       "      <th></th>\n",
       "      <th>Price</th>\n",
       "      <th>Prop_type</th>\n",
       "      <th>Size</th>\n",
       "      <th>Bath</th>\n",
       "      <th>Bed</th>\n",
       "      <th>City</th>\n",
       "      <th>Division</th>\n",
       "    </tr>\n",
       "  </thead>\n",
       "  <tbody>\n",
       "    <tr>\n",
       "      <th>0</th>\n",
       "      <td>25000</td>\n",
       "      <td>House</td>\n",
       "      <td>80</td>\n",
       "      <td>1.0</td>\n",
       "      <td>3</td>\n",
       "      <td>Cadaval</td>\n",
       "      <td>Vilar</td>\n",
       "    </tr>\n",
       "    <tr>\n",
       "      <th>1</th>\n",
       "      <td>399900</td>\n",
       "      <td>House</td>\n",
       "      <td>250</td>\n",
       "      <td>2.0</td>\n",
       "      <td>5</td>\n",
       "      <td>Sintra</td>\n",
       "      <td>Almargem do Bispo</td>\n",
       "    </tr>\n",
       "    <tr>\n",
       "      <th>2</th>\n",
       "      <td>318000</td>\n",
       "      <td>House</td>\n",
       "      <td>123</td>\n",
       "      <td>4.0</td>\n",
       "      <td>4</td>\n",
       "      <td>Sintra</td>\n",
       "      <td>Almargem do Bispo</td>\n",
       "    </tr>\n",
       "    <tr>\n",
       "      <th>3</th>\n",
       "      <td>280000</td>\n",
       "      <td>House</td>\n",
       "      <td>101</td>\n",
       "      <td>1.0</td>\n",
       "      <td>2</td>\n",
       "      <td>Loures</td>\n",
       "      <td>Santa Iria de Azoia</td>\n",
       "    </tr>\n",
       "    <tr>\n",
       "      <th>4</th>\n",
       "      <td>425000</td>\n",
       "      <td>House</td>\n",
       "      <td>402</td>\n",
       "      <td>3.0</td>\n",
       "      <td>4</td>\n",
       "      <td>Alenquer</td>\n",
       "      <td>Carregado e Cadafais</td>\n",
       "    </tr>\n",
       "  </tbody>\n",
       "</table>\n",
       "</div>"
      ],
      "text/plain": [
       "    Price Prop_type  Size  Bath  Bed      City              Division\n",
       "0   25000     House    80   1.0    3   Cadaval                 Vilar\n",
       "1  399900     House   250   2.0    5    Sintra     Almargem do Bispo\n",
       "2  318000     House   123   4.0    4    Sintra     Almargem do Bispo\n",
       "3  280000     House   101   1.0    2    Loures   Santa Iria de Azoia\n",
       "4  425000     House   402   3.0    4  Alenquer  Carregado e Cadafais"
      ]
     },
     "execution_count": 1222,
     "metadata": {},
     "output_type": "execute_result"
    }
   ],
   "source": [
    "df_buy.head()"
   ]
  },
  {
   "cell_type": "code",
   "execution_count": 1223,
   "id": "bb6aeb4f",
   "metadata": {},
   "outputs": [],
   "source": [
    "# dropping prop_type\n",
    "df_buy.drop(['Prop_type', 'Division'],1, inplace=True) "
   ]
  },
  {
   "cell_type": "code",
   "execution_count": 1224,
   "id": "aa6b8149",
   "metadata": {},
   "outputs": [
    {
     "data": {
      "text/plain": [
       "Lisboa                 2513\n",
       "Sintra                  750\n",
       "Cascais                 668\n",
       "Oeiras                  459\n",
       "Loures                  331\n",
       "Amadora                 310\n",
       "Vila Franca de Xira     259\n",
       "Odivelas                250\n",
       "Mafra                   190\n",
       "Torres Vedras           175\n",
       "Name: City, dtype: int64"
      ]
     },
     "execution_count": 1224,
     "metadata": {},
     "output_type": "execute_result"
    }
   ],
   "source": [
    "city_count = df_buy['City'].value_counts()\n",
    "city_count.head(10)"
   ]
  },
  {
   "cell_type": "code",
   "execution_count": 1225,
   "id": "b5448236",
   "metadata": {},
   "outputs": [
    {
     "data": {
      "text/plain": [
       "Lisboa     2513\n",
       "Other      1889\n",
       "Sintra      750\n",
       "Cascais     668\n",
       "Oeiras      459\n",
       "Name: City, dtype: int64"
      ]
     },
     "execution_count": 1225,
     "metadata": {},
     "output_type": "execute_result"
    }
   ],
   "source": [
    "# categorize minor divisions as 'other'\n",
    "minor_city = list(city_count[city_count <= 400].index)\n",
    "df_buy['City'] = df_buy['City'].replace(minor_city, 'Other')\n",
    "df_buy['City'].value_counts()"
   ]
  },
  {
   "cell_type": "code",
   "execution_count": 1227,
   "id": "b08685ac",
   "metadata": {},
   "outputs": [],
   "source": [
    "# creating dummy variables for Division\n",
    "df_buy = pd.get_dummies(df_buy, drop_first = True)"
   ]
  },
  {
   "cell_type": "code",
   "execution_count": 1228,
   "id": "803a06d8",
   "metadata": {},
   "outputs": [
    {
     "data": {
      "text/html": [
       "<div>\n",
       "<style scoped>\n",
       "    .dataframe tbody tr th:only-of-type {\n",
       "        vertical-align: middle;\n",
       "    }\n",
       "\n",
       "    .dataframe tbody tr th {\n",
       "        vertical-align: top;\n",
       "    }\n",
       "\n",
       "    .dataframe thead th {\n",
       "        text-align: right;\n",
       "    }\n",
       "</style>\n",
       "<table border=\"1\" class=\"dataframe\">\n",
       "  <thead>\n",
       "    <tr style=\"text-align: right;\">\n",
       "      <th></th>\n",
       "      <th>Price</th>\n",
       "      <th>Size</th>\n",
       "      <th>Bath</th>\n",
       "      <th>Bed</th>\n",
       "      <th>City_Lisboa</th>\n",
       "      <th>City_Oeiras</th>\n",
       "      <th>City_Other</th>\n",
       "      <th>City_Sintra</th>\n",
       "    </tr>\n",
       "  </thead>\n",
       "  <tbody>\n",
       "    <tr>\n",
       "      <th>0</th>\n",
       "      <td>25000</td>\n",
       "      <td>80</td>\n",
       "      <td>1.0</td>\n",
       "      <td>3</td>\n",
       "      <td>0</td>\n",
       "      <td>0</td>\n",
       "      <td>1</td>\n",
       "      <td>0</td>\n",
       "    </tr>\n",
       "    <tr>\n",
       "      <th>1</th>\n",
       "      <td>399900</td>\n",
       "      <td>250</td>\n",
       "      <td>2.0</td>\n",
       "      <td>5</td>\n",
       "      <td>0</td>\n",
       "      <td>0</td>\n",
       "      <td>0</td>\n",
       "      <td>1</td>\n",
       "    </tr>\n",
       "    <tr>\n",
       "      <th>2</th>\n",
       "      <td>318000</td>\n",
       "      <td>123</td>\n",
       "      <td>4.0</td>\n",
       "      <td>4</td>\n",
       "      <td>0</td>\n",
       "      <td>0</td>\n",
       "      <td>0</td>\n",
       "      <td>1</td>\n",
       "    </tr>\n",
       "    <tr>\n",
       "      <th>3</th>\n",
       "      <td>280000</td>\n",
       "      <td>101</td>\n",
       "      <td>1.0</td>\n",
       "      <td>2</td>\n",
       "      <td>0</td>\n",
       "      <td>0</td>\n",
       "      <td>1</td>\n",
       "      <td>0</td>\n",
       "    </tr>\n",
       "    <tr>\n",
       "      <th>4</th>\n",
       "      <td>425000</td>\n",
       "      <td>402</td>\n",
       "      <td>3.0</td>\n",
       "      <td>4</td>\n",
       "      <td>0</td>\n",
       "      <td>0</td>\n",
       "      <td>1</td>\n",
       "      <td>0</td>\n",
       "    </tr>\n",
       "  </tbody>\n",
       "</table>\n",
       "</div>"
      ],
      "text/plain": [
       "    Price  Size  Bath  Bed  City_Lisboa  City_Oeiras  City_Other  City_Sintra\n",
       "0   25000    80   1.0    3            0            0           1            0\n",
       "1  399900   250   2.0    5            0            0           0            1\n",
       "2  318000   123   4.0    4            0            0           0            1\n",
       "3  280000   101   1.0    2            0            0           1            0\n",
       "4  425000   402   3.0    4            0            0           1            0"
      ]
     },
     "execution_count": 1228,
     "metadata": {},
     "output_type": "execute_result"
    }
   ],
   "source": [
    "df_buy.head()"
   ]
  },
  {
   "cell_type": "code",
   "execution_count": 1231,
   "id": "1fc880f8",
   "metadata": {},
   "outputs": [
    {
     "name": "stdout",
     "output_type": "stream",
     "text": [
      "<class 'pandas.core.frame.DataFrame'>\n",
      "RangeIndex: 6279 entries, 0 to 6278\n",
      "Data columns (total 8 columns):\n",
      " #   Column       Non-Null Count  Dtype  \n",
      "---  ------       --------------  -----  \n",
      " 0   Price        6279 non-null   int64  \n",
      " 1   Size         6279 non-null   int64  \n",
      " 2   Bath         6278 non-null   float64\n",
      " 3   Bed          6279 non-null   int64  \n",
      " 4   City_Lisboa  6279 non-null   uint8  \n",
      " 5   City_Oeiras  6279 non-null   uint8  \n",
      " 6   City_Other   6279 non-null   uint8  \n",
      " 7   City_Sintra  6279 non-null   uint8  \n",
      "dtypes: float64(1), int64(3), uint8(4)\n",
      "memory usage: 220.9 KB\n"
     ]
    }
   ],
   "source": [
    "df_buy.info()"
   ]
  },
  {
   "cell_type": "code",
   "execution_count": 1237,
   "id": "37a66917",
   "metadata": {},
   "outputs": [
    {
     "name": "stdout",
     "output_type": "stream",
     "text": [
      "<class 'pandas.core.frame.DataFrame'>\n",
      "Int64Index: 6278 entries, 0 to 6278\n",
      "Data columns (total 8 columns):\n",
      " #   Column       Non-Null Count  Dtype  \n",
      "---  ------       --------------  -----  \n",
      " 0   Price        6278 non-null   int64  \n",
      " 1   Size         6278 non-null   int64  \n",
      " 2   Bath         6278 non-null   float64\n",
      " 3   Bed          6278 non-null   int64  \n",
      " 4   City_Lisboa  6278 non-null   uint8  \n",
      " 5   City_Oeiras  6278 non-null   uint8  \n",
      " 6   City_Other   6278 non-null   uint8  \n",
      " 7   City_Sintra  6278 non-null   uint8  \n",
      "dtypes: float64(1), int64(3), uint8(4)\n",
      "memory usage: 269.8 KB\n"
     ]
    }
   ],
   "source": [
    "# 1 null value in Bath column => remove\n",
    "df_buy = df_buy.dropna(subset = ['Bath'])\n",
    "df_buy.info()"
   ]
  },
  {
   "cell_type": "code",
   "execution_count": null,
   "id": "f99fed64",
   "metadata": {},
   "outputs": [],
   "source": []
  },
  {
   "cell_type": "code",
   "execution_count": 1238,
   "id": "60fac6ec",
   "metadata": {},
   "outputs": [],
   "source": [
    "X = df_buy.drop(columns = ['Price'])\n",
    "df_buy['predicted_rent'] = lm.predict(X)"
   ]
  },
  {
   "cell_type": "code",
   "execution_count": 1239,
   "id": "0ffbb808",
   "metadata": {},
   "outputs": [
    {
     "data": {
      "text/html": [
       "<div>\n",
       "<style scoped>\n",
       "    .dataframe tbody tr th:only-of-type {\n",
       "        vertical-align: middle;\n",
       "    }\n",
       "\n",
       "    .dataframe tbody tr th {\n",
       "        vertical-align: top;\n",
       "    }\n",
       "\n",
       "    .dataframe thead th {\n",
       "        text-align: right;\n",
       "    }\n",
       "</style>\n",
       "<table border=\"1\" class=\"dataframe\">\n",
       "  <thead>\n",
       "    <tr style=\"text-align: right;\">\n",
       "      <th></th>\n",
       "      <th>Price</th>\n",
       "      <th>Size</th>\n",
       "      <th>Bath</th>\n",
       "      <th>Bed</th>\n",
       "      <th>City_Lisboa</th>\n",
       "      <th>City_Oeiras</th>\n",
       "      <th>City_Other</th>\n",
       "      <th>City_Sintra</th>\n",
       "      <th>predicted_rent</th>\n",
       "    </tr>\n",
       "  </thead>\n",
       "  <tbody>\n",
       "    <tr>\n",
       "      <th>0</th>\n",
       "      <td>25000</td>\n",
       "      <td>80</td>\n",
       "      <td>1.0</td>\n",
       "      <td>3</td>\n",
       "      <td>0</td>\n",
       "      <td>0</td>\n",
       "      <td>1</td>\n",
       "      <td>0</td>\n",
       "      <td>779.056862</td>\n",
       "    </tr>\n",
       "    <tr>\n",
       "      <th>1</th>\n",
       "      <td>399900</td>\n",
       "      <td>250</td>\n",
       "      <td>2.0</td>\n",
       "      <td>5</td>\n",
       "      <td>0</td>\n",
       "      <td>0</td>\n",
       "      <td>0</td>\n",
       "      <td>1</td>\n",
       "      <td>1997.401104</td>\n",
       "    </tr>\n",
       "    <tr>\n",
       "      <th>2</th>\n",
       "      <td>318000</td>\n",
       "      <td>123</td>\n",
       "      <td>4.0</td>\n",
       "      <td>4</td>\n",
       "      <td>0</td>\n",
       "      <td>0</td>\n",
       "      <td>0</td>\n",
       "      <td>1</td>\n",
       "      <td>1607.228041</td>\n",
       "    </tr>\n",
       "    <tr>\n",
       "      <th>3</th>\n",
       "      <td>280000</td>\n",
       "      <td>101</td>\n",
       "      <td>1.0</td>\n",
       "      <td>2</td>\n",
       "      <td>0</td>\n",
       "      <td>0</td>\n",
       "      <td>1</td>\n",
       "      <td>0</td>\n",
       "      <td>865.646308</td>\n",
       "    </tr>\n",
       "    <tr>\n",
       "      <th>4</th>\n",
       "      <td>425000</td>\n",
       "      <td>402</td>\n",
       "      <td>3.0</td>\n",
       "      <td>4</td>\n",
       "      <td>0</td>\n",
       "      <td>0</td>\n",
       "      <td>1</td>\n",
       "      <td>0</td>\n",
       "      <td>2921.017294</td>\n",
       "    </tr>\n",
       "  </tbody>\n",
       "</table>\n",
       "</div>"
      ],
      "text/plain": [
       "    Price  Size  Bath  Bed  City_Lisboa  City_Oeiras  City_Other  City_Sintra  \\\n",
       "0   25000    80   1.0    3            0            0           1            0   \n",
       "1  399900   250   2.0    5            0            0           0            1   \n",
       "2  318000   123   4.0    4            0            0           0            1   \n",
       "3  280000   101   1.0    2            0            0           1            0   \n",
       "4  425000   402   3.0    4            0            0           1            0   \n",
       "\n",
       "   predicted_rent  \n",
       "0      779.056862  \n",
       "1     1997.401104  \n",
       "2     1607.228041  \n",
       "3      865.646308  \n",
       "4     2921.017294  "
      ]
     },
     "execution_count": 1239,
     "metadata": {},
     "output_type": "execute_result"
    }
   ],
   "source": [
    "df_buy.head() # rent value added"
   ]
  },
  {
   "cell_type": "code",
   "execution_count": 1240,
   "id": "2f1727fa",
   "metadata": {},
   "outputs": [],
   "source": [
    "df_buy.to_csv(r'lisbon_buy_with_rent.csv', index = False, header=True)"
   ]
  },
  {
   "cell_type": "code",
   "execution_count": null,
   "id": "c72a0812",
   "metadata": {},
   "outputs": [],
   "source": []
  }
 ],
 "metadata": {
  "kernelspec": {
   "display_name": "Python 3",
   "language": "python",
   "name": "python3"
  },
  "language_info": {
   "codemirror_mode": {
    "name": "ipython",
    "version": 3
   },
   "file_extension": ".py",
   "mimetype": "text/x-python",
   "name": "python",
   "nbconvert_exporter": "python",
   "pygments_lexer": "ipython3",
   "version": "3.8.5"
  }
 },
 "nbformat": 4,
 "nbformat_minor": 5
}
