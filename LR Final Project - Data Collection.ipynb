{
 "cells": [
  {
   "cell_type": "markdown",
   "id": "51e0a748",
   "metadata": {},
   "source": [
    "### Data Aquisition \n",
    "\n",
    "Scraping Re/MAX Portugul site for Rent and Buy listings in Lisbon <br>\n",
    "Saving Rent data as \"lisbon_rent.csv\", Buy data as \"lisbon_buy.csv\""
   ]
  },
  {
   "cell_type": "code",
   "execution_count": 1,
   "id": "a3580008",
   "metadata": {},
   "outputs": [],
   "source": [
    "from selenium import webdriver\n",
    "import requests\n",
    "from bs4 import BeautifulSoup\n",
    "from selenium.webdriver.common.by import By\n",
    "from webdriver_manager.chrome import ChromeDriverManager\n",
    "import pandas as pd\n",
    "from selenium.webdriver.common.keys import Keys\n",
    "from selenium.webdriver.support.ui import WebDriverWait\n",
    "from selenium.webdriver.support import expected_conditions as EC\n",
    "import time"
   ]
  },
  {
   "cell_type": "code",
   "execution_count": 2,
   "id": "809da090",
   "metadata": {},
   "outputs": [
    {
     "name": "stderr",
     "output_type": "stream",
     "text": [
      "\n",
      "\n",
      "====== WebDriver manager ======\n",
      "Current google-chrome version is 102.0.5005\n",
      "Get LATEST chromedriver version for 102.0.5005 google-chrome\n",
      "Trying to download new driver from https://chromedriver.storage.googleapis.com/102.0.5005.61/chromedriver_mac64.zip\n",
      "Driver has been saved in cache [/Users/mihohunter/.wdm/drivers/chromedriver/mac64/102.0.5005.61]\n",
      "<ipython-input-2-5030ecbf0418>:3: DeprecationWarning: executable_path has been deprecated, please pass in a Service object\n",
      "  driver = webdriver.Chrome(ChromeDriverManager().install())\n"
     ]
    }
   ],
   "source": [
    "# getting \"RENT\" listings in Lisbon from Re/MAX Portogul (https://www.remax.pt/en/)\n",
    "\n",
    "driver = webdriver.Chrome(ChromeDriverManager().install())\n",
    "property_list = []\n",
    "\n",
    "last_page = 64 #1270 houses for rent, last page is 64 (1270/20 = 63.5)\n",
    "pages = list(range(1, last_page+1))\n",
    "\n",
    "url = \"https://www.remax.pt/en/rent?searchQueryState={{%22regionName%22:%22Lisboa%22,%22businessType%22:2,\\\n",
    "%22page%22:{},%22regionID%22:%2276%22,%22regionType%22:%22Region1ID%22,%22sort%22:{{%22fieldToSort%22:\\\n",
    "%22ContractDate%22,%22order%22:1}},%22mapIsOpen%22:false,%22regionCoordinates%22\\\n",
    ":{{%22latitude%22:38.8404598668955,%22longitude%22:-9.2186952991834}},%22regionZoom%22:9,%22prn%22:%22Lisboa%22}}\"\n",
    "\n",
    "for page in pages:\n",
    "    url_page = url.format(page)\n",
    "    driver.get(url_page)\n",
    "    time.sleep(15)\n",
    "    content = driver.page_source\n",
    "    soup = BeautifulSoup(content, features='html.parser')\n",
    "\n",
    "    for element in soup.findAll('div', attrs={'class': 'col-12 col-sm-6 col-md-6 col-lg-4 col-xl-3 result'}):\n",
    "        prop_item ={}\n",
    "        prop_item['Price'] = element.find('p', attrs={'class': 'listing-price'}).text     \n",
    "        prop_item['Address'] = element.find('h2', attrs={'class': 'listing-address'}).text    \n",
    "        try:\n",
    "            prop_item['Prop_type'] = element.find('li', attrs={'class': 'listing-type'}).text\n",
    "        except AttributeError: prop_item['Prop_type'] =\"\"    \n",
    "        prop_item['Size'] = element.find('li', attrs={'class': 'listing-area'}).text\n",
    "        prop_item['Bath'] = element.find('li', attrs={'class': 'listing-bathroom'}).text\n",
    "        prop_item['Bed'] = element.find('li', attrs={'class': 'listing-bedroom'}).text\n",
    "\n",
    "        property_list.append(prop_item)\n",
    "    \n",
    "driver.quit()\n",
    "\n",
    "df_rent = pd.DataFrame(property_list)\n",
    "df_rent.to_csv(r'lisbon_rent.csv', index = False, header=True) # saving as csv"
   ]
  },
  {
   "cell_type": "code",
   "execution_count": 3,
   "id": "59cdf117",
   "metadata": {},
   "outputs": [
    {
     "name": "stdout",
     "output_type": "stream",
     "text": [
      "<class 'pandas.core.frame.DataFrame'>\n",
      "RangeIndex: 1273 entries, 0 to 1272\n",
      "Data columns (total 6 columns):\n",
      " #   Column     Non-Null Count  Dtype \n",
      "---  ------     --------------  ----- \n",
      " 0   Price      1273 non-null   object\n",
      " 1   Address    1273 non-null   object\n",
      " 2   Prop_type  1273 non-null   object\n",
      " 3   Size       1273 non-null   object\n",
      " 4   Bath       1273 non-null   object\n",
      " 5   Bed        1273 non-null   object\n",
      "dtypes: object(6)\n",
      "memory usage: 59.8+ KB\n"
     ]
    }
   ],
   "source": [
    "df_rent.info()"
   ]
  },
  {
   "cell_type": "code",
   "execution_count": 4,
   "id": "63a23bde",
   "metadata": {},
   "outputs": [
    {
     "name": "stderr",
     "output_type": "stream",
     "text": [
      "\n",
      "\n",
      "====== WebDriver manager ======\n",
      "Current google-chrome version is 102.0.5005\n",
      "Get LATEST chromedriver version for 102.0.5005 google-chrome\n",
      "Driver [/Users/mihohunter/.wdm/drivers/chromedriver/mac64/102.0.5005.61/chromedriver] found in cache\n",
      "<ipython-input-4-5057d774d446>:4: DeprecationWarning: executable_path has been deprecated, please pass in a Service object\n",
      "  driver = webdriver.Chrome(ChromeDriverManager().install())\n"
     ]
    }
   ],
   "source": [
    "# code for getting \"BUY\" listings - HOUSES\n",
    "# found out page only goes to 100, so cannot scrap all at once => HOUSES only\n",
    "\n",
    "driver = webdriver.Chrome(ChromeDriverManager().install())\n",
    "property_list = []\n",
    "\n",
    "last_page = 73 #1448 houses for rent, last page is 73 (1448/20 = 72.4)\n",
    "pages = list(range(1, last_page+1))\n",
    "\n",
    "url = 'https://www.remax.pt/en/buy?searchQueryState={{%22regionName%22:%22Lisboa%22,%22businessType%22:1,%22page%22:{}\\\n",
    ",%22regionID%22:%2276%22,%22regionType%22:%22Region1ID%22,%22sort%22:{{%22fieldToSort%22:%22ContractDate%22,%22order%22\\\n",
    ":1}},%22mapIsOpen%22:false,%22regionCoordinates%22:{{%22latitude%22:38.8404598668955,%22longitude%22:-9.2186952991834}},\\\n",
    "%22regionZoom%22:9,%22prn%22:%22Lisboa%22,%22mapScroll%22:false,%22listingClass%22:1,%22listingTypes%22:[%2211%22]}}'\n",
    "\n",
    "for page in pages:\n",
    "    url_page = url.format(page)\n",
    "    driver.get(url_page)\n",
    "    time.sleep(15)\n",
    "    content = driver.page_source\n",
    "    soup = BeautifulSoup(content, features='html.parser')\n",
    "\n",
    "    for element in soup.findAll('div', attrs={'class': 'col-12 col-sm-6 col-md-6 col-lg-4 col-xl-3 result'}):\n",
    "        prop_item ={}\n",
    "        prop_item['Price'] = element.find('p', attrs={'class': 'listing-price'}).text     \n",
    "        prop_item['Address'] = element.find('h2', attrs={'class': 'listing-address'}).text    \n",
    "        try:\n",
    "            prop_item['Prop_type'] = element.find('li', attrs={'class': 'listing-type'}).text\n",
    "        except AttributeError: prop_item['Prop_type'] =\"\"    \n",
    "        prop_item['Size'] = element.find('li', attrs={'class': 'listing-area'}).text\n",
    "        prop_item['Bath'] = element.find('li', attrs={'class': 'listing-bathroom'}).text\n",
    "        prop_item['Bed'] = element.find('li', attrs={'class': 'listing-bedroom'}).text\n",
    "\n",
    "        property_list.append(prop_item)\n",
    "    \n",
    "driver.quit()\n",
    "\n",
    "df_buy_house = pd.DataFrame(property_list)"
   ]
  },
  {
   "cell_type": "code",
   "execution_count": 6,
   "id": "85a6e586",
   "metadata": {},
   "outputs": [
    {
     "name": "stdout",
     "output_type": "stream",
     "text": [
      "<class 'pandas.core.frame.DataFrame'>\n",
      "RangeIndex: 1460 entries, 0 to 1459\n",
      "Data columns (total 6 columns):\n",
      " #   Column     Non-Null Count  Dtype \n",
      "---  ------     --------------  ----- \n",
      " 0   Price      1460 non-null   object\n",
      " 1   Address    1460 non-null   object\n",
      " 2   Prop_type  1460 non-null   object\n",
      " 3   Size       1460 non-null   object\n",
      " 4   Bath       1460 non-null   object\n",
      " 5   Bed        1460 non-null   object\n",
      "dtypes: object(6)\n",
      "memory usage: 68.6+ KB\n"
     ]
    }
   ],
   "source": [
    "df_buy_house.info()"
   ]
  },
  {
   "cell_type": "code",
   "execution_count": 7,
   "id": "eed42374",
   "metadata": {},
   "outputs": [
    {
     "name": "stderr",
     "output_type": "stream",
     "text": [
      "\n",
      "\n",
      "====== WebDriver manager ======\n",
      "Current google-chrome version is 102.0.5005\n",
      "Get LATEST chromedriver version for 102.0.5005 google-chrome\n",
      "Driver [/Users/mihohunter/.wdm/drivers/chromedriver/mac64/102.0.5005.61/chromedriver] found in cache\n",
      "<ipython-input-7-90f41dfce4b0>:5: DeprecationWarning: executable_path has been deprecated, please pass in a Service object\n",
      "  driver = webdriver.Chrome(ChromeDriverManager().install())\n"
     ]
    },
    {
     "name": "stdout",
     "output_type": "stream",
     "text": [
      "<class 'pandas.core.frame.DataFrame'>\n",
      "RangeIndex: 1660 entries, 0 to 1659\n",
      "Data columns (total 6 columns):\n",
      " #   Column     Non-Null Count  Dtype \n",
      "---  ------     --------------  ----- \n",
      " 0   Price      1660 non-null   object\n",
      " 1   Address    1660 non-null   object\n",
      " 2   Prop_type  1660 non-null   object\n",
      " 3   Size       1660 non-null   object\n",
      " 4   Bath       1660 non-null   object\n",
      " 5   Bed        1660 non-null   object\n",
      "dtypes: object(6)\n",
      "memory usage: 77.9+ KB\n"
     ]
    }
   ],
   "source": [
    "# code for getting \"BUY\" listings - CONDOS/APTS part 1\n",
    "# page only goes to 100, so cannot scrap all at once\n",
    "# 0 < price < 250,000 - 1658 properties\n",
    "\n",
    "driver = webdriver.Chrome(ChromeDriverManager().install())\n",
    "property_list = []\n",
    "\n",
    "last_page = 83 #1658 houses for rent, last page is 83 (1658/20 = 82.9)\n",
    "pages = list(range(1, last_page+1))\n",
    "\n",
    "url = 'https://www.remax.pt/en/buy?searchQueryState={{%22regionName%22:%22Lisboa%22,%22businessType%22:1,\\\n",
    "%22page%22:{},%22regionID%22:%2276%22,%22regionType%22:%22Region1ID%22,%22sort%22:{{%22fieldToSort%22:\\\n",
    "%22ContractDate%22,%22order%22:1}},%22mapIsOpen%22:false,%22regionCoordinates%22:{{%22latitude%22:38.8404598668955,\\\n",
    "%22longitude%22:-9.2186952991834}},%22regionZoom%22:9,%22prn%22:%22Lisboa%22,%22mapScroll%22:false,\\\n",
    "%22listingClass%22:1,%22listingTypes%22:[%221%22],%22rooms%22:-1,%22price%22:{{%22min%22:0,%22max%22:250000}}}}'\n",
    "\n",
    "for page in pages:\n",
    "    url_page = url.format(page)\n",
    "    driver.get(url_page)\n",
    "    time.sleep(15)\n",
    "    content = driver.page_source\n",
    "    soup = BeautifulSoup(content, features='html.parser')\n",
    "\n",
    "    for element in soup.findAll('div', attrs={'class': 'col-12 col-sm-6 col-md-6 col-lg-4 col-xl-3 result'}):\n",
    "        prop_item ={}\n",
    "        prop_item['Price'] = element.find('p', attrs={'class': 'listing-price'}).text     \n",
    "        prop_item['Address'] = element.find('h2', attrs={'class': 'listing-address'}).text    \n",
    "        try:\n",
    "            prop_item['Prop_type'] = element.find('li', attrs={'class': 'listing-type'}).text\n",
    "        except AttributeError: prop_item['Prop_type'] =\"\"    \n",
    "        prop_item['Size'] = element.find('li', attrs={'class': 'listing-area'}).text\n",
    "        prop_item['Bath'] = element.find('li', attrs={'class': 'listing-bathroom'}).text\n",
    "        prop_item['Bed'] = element.find('li', attrs={'class': 'listing-bedroom'}).text\n",
    "\n",
    "        property_list.append(prop_item)\n",
    "    \n",
    "driver.quit()\n",
    "\n",
    "df_buy_apt_lessthan250 = pd.DataFrame(property_list)\n",
    "df_buy_apt_lessthan250.info()"
   ]
  },
  {
   "cell_type": "code",
   "execution_count": 8,
   "id": "e2c1be1a",
   "metadata": {},
   "outputs": [
    {
     "name": "stderr",
     "output_type": "stream",
     "text": [
      "\n",
      "\n",
      "====== WebDriver manager ======\n",
      "Current google-chrome version is 102.0.5005\n",
      "Get LATEST chromedriver version for 102.0.5005 google-chrome\n",
      "Driver [/Users/mihohunter/.wdm/drivers/chromedriver/mac64/102.0.5005.61/chromedriver] found in cache\n",
      "<ipython-input-8-cfe0bb1ceee1>:5: DeprecationWarning: executable_path has been deprecated, please pass in a Service object\n",
      "  driver = webdriver.Chrome(ChromeDriverManager().install())\n"
     ]
    },
    {
     "name": "stdout",
     "output_type": "stream",
     "text": [
      "<class 'pandas.core.frame.DataFrame'>\n",
      "RangeIndex: 1680 entries, 0 to 1679\n",
      "Data columns (total 6 columns):\n",
      " #   Column     Non-Null Count  Dtype \n",
      "---  ------     --------------  ----- \n",
      " 0   Price      1680 non-null   object\n",
      " 1   Address    1680 non-null   object\n",
      " 2   Prop_type  1680 non-null   object\n",
      " 3   Size       1680 non-null   object\n",
      " 4   Bath       1680 non-null   object\n",
      " 5   Bed        1680 non-null   object\n",
      "dtypes: object(6)\n",
      "memory usage: 78.9+ KB\n"
     ]
    }
   ],
   "source": [
    "# code for getting for buy listings - CONDOS/APTS part 2\n",
    "# page only goes to 100, so cannot scrap all at once\n",
    "# 250,000 < price < 500,000 - 1663 properties\n",
    "\n",
    "driver = webdriver.Chrome(ChromeDriverManager().install())\n",
    "property_list = []\n",
    "\n",
    "last_page = 84 #1663 houses for rent, last page is 84 (1663/20 = 83.15)\n",
    "pages = list(range(1, last_page+1))\n",
    "\n",
    "url = 'https://www.remax.pt/en/buy?searchQueryState={{%22regionName%22:%22Lisboa%22,%22businessType%22:1,%22page%22:{},%22regionID%22:%2276%22\\\n",
    ",%22regionType%22:%22Region1ID%22,%22sort%22:{{%22fieldToSort%22:%22ContractDate%22,%22order%22:1}},%22mapIsOpen\\\n",
    "%22:false,%22regionCoordinates%22:{{%22latitude%22:38.8404598668955,%22longitude%22:-9.2186952991834}},\\\n",
    "%22regionZoom%22:9,%22prn%22:%22Lisboa%22,%22mapScroll%22:false,%22listingClass%22:1,%22listingTypes%22:\\\n",
    "[%221%22],%22rooms%22:-1,%22price%22:{{%22min%22:250000,%22max%22:500000}}}}'\n",
    "\n",
    "for page in pages:\n",
    "    url_page = url.format(page)\n",
    "    driver.get(url_page)\n",
    "    time.sleep(15)\n",
    "    content = driver.page_source\n",
    "    soup = BeautifulSoup(content, features='html.parser')\n",
    "\n",
    "    for element in soup.findAll('div', attrs={'class': 'col-12 col-sm-6 col-md-6 col-lg-4 col-xl-3 result'}):\n",
    "        prop_item ={}\n",
    "        prop_item['Price'] = element.find('p', attrs={'class': 'listing-price'}).text     \n",
    "        prop_item['Address'] = element.find('h2', attrs={'class': 'listing-address'}).text    \n",
    "        try:\n",
    "            prop_item['Prop_type'] = element.find('li', attrs={'class': 'listing-type'}).text\n",
    "        except AttributeError: prop_item['Prop_type'] =\"\"    \n",
    "        prop_item['Size'] = element.find('li', attrs={'class': 'listing-area'}).text\n",
    "        prop_item['Bath'] = element.find('li', attrs={'class': 'listing-bathroom'}).text\n",
    "        prop_item['Bed'] = element.find('li', attrs={'class': 'listing-bedroom'}).text\n",
    "\n",
    "        property_list.append(prop_item)\n",
    "    \n",
    "driver.quit()\n",
    "\n",
    "df_buy_apt_250_500 = pd.DataFrame(property_list)\n",
    "df_buy_apt_250_500.info()"
   ]
  },
  {
   "cell_type": "code",
   "execution_count": 9,
   "id": "46687515",
   "metadata": {},
   "outputs": [
    {
     "name": "stderr",
     "output_type": "stream",
     "text": [
      "\n",
      "\n",
      "====== WebDriver manager ======\n",
      "Current google-chrome version is 102.0.5005\n",
      "Get LATEST chromedriver version for 102.0.5005 google-chrome\n",
      "Driver [/Users/mihohunter/.wdm/drivers/chromedriver/mac64/102.0.5005.61/chromedriver] found in cache\n",
      "<ipython-input-9-54e6bef0730d>:5: DeprecationWarning: executable_path has been deprecated, please pass in a Service object\n",
      "  driver = webdriver.Chrome(ChromeDriverManager().install())\n"
     ]
    },
    {
     "name": "stdout",
     "output_type": "stream",
     "text": [
      "<class 'pandas.core.frame.DataFrame'>\n",
      "RangeIndex: 1540 entries, 0 to 1539\n",
      "Data columns (total 6 columns):\n",
      " #   Column     Non-Null Count  Dtype \n",
      "---  ------     --------------  ----- \n",
      " 0   Price      1540 non-null   object\n",
      " 1   Address    1540 non-null   object\n",
      " 2   Prop_type  1540 non-null   object\n",
      " 3   Size       1540 non-null   object\n",
      " 4   Bath       1540 non-null   object\n",
      " 5   Bed        1540 non-null   object\n",
      "dtypes: object(6)\n",
      "memory usage: 72.3+ KB\n"
     ]
    }
   ],
   "source": [
    "# code for getting for buy listings - CONDS/APTS part 3\n",
    "# page only goes to 100, so cannot scrap all at once\n",
    "# price > 500,000 - 1533 properties\n",
    "\n",
    "driver = webdriver.Chrome(ChromeDriverManager().install())\n",
    "property_list = []\n",
    "\n",
    "last_page = 77 #1533 houses for rent, last page is 77 (11533/20 = 76.65)\n",
    "pages = list(range(1, last_page+1))\n",
    "\n",
    "url = 'https://www.remax.pt/en/buy?searchQueryState={{%22regionName%22:%22Lisboa%22,%22businessType%22:1\\\n",
    ",%22page%22:{},%22regionID%22:%2276%22,%22regionType%22:%22Region1ID%22,%22sort%22:{{%22fieldToSort%22:\\\n",
    "%22ContractDate%22,%22order%22:1}},%22mapIsOpen%22:false,%22regionCoordinates%22:{{%22latitude%22:38.8404598668955,\\\n",
    "%22longitude%22:-9.2186952991834}},%22regionZoom%22:9,%22prn%22:%22Lisboa%22,%22mapScroll%22:false,%22listingClass\\\n",
    "%22:1,%22listingTypes%22:[%221%22],%22rooms%22:-1,%22price%22:{{%22min%22:500000,%22max%22:null}}}}'\n",
    "\n",
    "for page in pages:\n",
    "    url_page = url.format(page)\n",
    "    driver.get(url_page)\n",
    "    time.sleep(15)\n",
    "    content = driver.page_source\n",
    "    soup = BeautifulSoup(content, features='html.parser')\n",
    "\n",
    "    for element in soup.findAll('div', attrs={'class': 'col-12 col-sm-6 col-md-6 col-lg-4 col-xl-3 result'}):\n",
    "        prop_item ={}\n",
    "        prop_item['Price'] = element.find('p', attrs={'class': 'listing-price'}).text     \n",
    "        prop_item['Address'] = element.find('h2', attrs={'class': 'listing-address'}).text    \n",
    "        try:\n",
    "            prop_item['Prop_type'] = element.find('li', attrs={'class': 'listing-type'}).text\n",
    "        except AttributeError: prop_item['Prop_type'] =\"\"    \n",
    "        prop_item['Size'] = element.find('li', attrs={'class': 'listing-area'}).text\n",
    "        prop_item['Bath'] = element.find('li', attrs={'class': 'listing-bathroom'}).text\n",
    "        prop_item['Bed'] = element.find('li', attrs={'class': 'listing-bedroom'}).text\n",
    "\n",
    "        property_list.append(prop_item)\n",
    "    \n",
    "driver.quit()\n",
    "\n",
    "df_buy_apt_500 = pd.DataFrame(property_list)\n",
    "df_buy_apt_500.info()"
   ]
  },
  {
   "cell_type": "code",
   "execution_count": 10,
   "id": "55405b41",
   "metadata": {},
   "outputs": [],
   "source": [
    "frames = [df_buy_house, df_buy_apt_lessthan250,df_buy_apt_250_500, df_buy_apt_500 ]\n",
    "df_buy = pd.concat(frames)\n",
    "df_buy.to_csv(r'lisbon_buy.csv', index = False, header=True) #saving as csv"
   ]
  },
  {
   "cell_type": "code",
   "execution_count": 11,
   "id": "30cef709",
   "metadata": {},
   "outputs": [
    {
     "name": "stdout",
     "output_type": "stream",
     "text": [
      "<class 'pandas.core.frame.DataFrame'>\n",
      "Int64Index: 6340 entries, 0 to 1539\n",
      "Data columns (total 6 columns):\n",
      " #   Column     Non-Null Count  Dtype \n",
      "---  ------     --------------  ----- \n",
      " 0   Price      6340 non-null   object\n",
      " 1   Address    6340 non-null   object\n",
      " 2   Prop_type  6340 non-null   object\n",
      " 3   Size       6340 non-null   object\n",
      " 4   Bath       6340 non-null   object\n",
      " 5   Bed        6340 non-null   object\n",
      "dtypes: object(6)\n",
      "memory usage: 346.7+ KB\n"
     ]
    }
   ],
   "source": [
    "df_buy.info()"
   ]
  },
  {
   "cell_type": "code",
   "execution_count": null,
   "id": "5bfc82bb",
   "metadata": {},
   "outputs": [],
   "source": []
  }
 ],
 "metadata": {
  "kernelspec": {
   "display_name": "Python 3",
   "language": "python",
   "name": "python3"
  },
  "language_info": {
   "codemirror_mode": {
    "name": "ipython",
    "version": 3
   },
   "file_extension": ".py",
   "mimetype": "text/x-python",
   "name": "python",
   "nbconvert_exporter": "python",
   "pygments_lexer": "ipython3",
   "version": "3.8.5"
  }
 },
 "nbformat": 4,
 "nbformat_minor": 5
}
