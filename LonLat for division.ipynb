{
 "cells": [
  {
   "cell_type": "code",
   "execution_count": 4,
   "id": "8aad4139",
   "metadata": {},
   "outputs": [],
   "source": [
    "import warnings\n",
    "warnings.filterwarnings('ignore')\n",
    "\n",
    "import pandas as pd\n",
    "import numpy as np\n",
    "from numpy import random\n",
    "import seaborn as sns\n",
    "import matplotlib.pyplot as plt\n",
    "import plotly.express as px # data visualization\n",
    "\n",
    "\n",
    "import requests\n",
    "from bs4 import BeautifulSoup as bs"
   ]
  },
  {
   "cell_type": "code",
   "execution_count": 2,
   "id": "1a884cdc",
   "metadata": {},
   "outputs": [
    {
     "name": "stdout",
     "output_type": "stream",
     "text": [
      "51°02′45″N 114°03′27″W\n"
     ]
    }
   ],
   "source": [
    "req = requests.get(\"https://en.wikipedia.org/wiki/Calgary\").text\n",
    "soup = bs(req, 'lxml')\n",
    "latitude = soup.find(\"span\", {\"class\": \"latitude\"})\n",
    "longitude = soup.find(\"span\", {\"class\": \"longitude\"})\n",
    "print(latitude.text, longitude.text)"
   ]
  },
  {
   "cell_type": "code",
   "execution_count": 5,
   "id": "e9ee91bb",
   "metadata": {},
   "outputs": [],
   "source": [
    "df = pd.read_csv('lisbon_buy_6302_052922_final.csv')"
   ]
  },
  {
   "cell_type": "code",
   "execution_count": 6,
   "id": "c0efb52d",
   "metadata": {},
   "outputs": [
    {
     "data": {
      "text/html": [
       "<div>\n",
       "<style scoped>\n",
       "    .dataframe tbody tr th:only-of-type {\n",
       "        vertical-align: middle;\n",
       "    }\n",
       "\n",
       "    .dataframe tbody tr th {\n",
       "        vertical-align: top;\n",
       "    }\n",
       "\n",
       "    .dataframe thead th {\n",
       "        text-align: right;\n",
       "    }\n",
       "</style>\n",
       "<table border=\"1\" class=\"dataframe\">\n",
       "  <thead>\n",
       "    <tr style=\"text-align: right;\">\n",
       "      <th></th>\n",
       "      <th>Price</th>\n",
       "      <th>Prop_type</th>\n",
       "      <th>Size</th>\n",
       "      <th>Bath</th>\n",
       "      <th>Bed</th>\n",
       "      <th>City</th>\n",
       "      <th>Division</th>\n",
       "    </tr>\n",
       "  </thead>\n",
       "  <tbody>\n",
       "    <tr>\n",
       "      <th>0</th>\n",
       "      <td>25000</td>\n",
       "      <td>House</td>\n",
       "      <td>80</td>\n",
       "      <td>1.0</td>\n",
       "      <td>3</td>\n",
       "      <td>Cadaval</td>\n",
       "      <td>Vilar</td>\n",
       "    </tr>\n",
       "    <tr>\n",
       "      <th>1</th>\n",
       "      <td>399900</td>\n",
       "      <td>House</td>\n",
       "      <td>250</td>\n",
       "      <td>2.0</td>\n",
       "      <td>5</td>\n",
       "      <td>Sintra</td>\n",
       "      <td>Almargem do Bispo</td>\n",
       "    </tr>\n",
       "    <tr>\n",
       "      <th>2</th>\n",
       "      <td>318000</td>\n",
       "      <td>House</td>\n",
       "      <td>123</td>\n",
       "      <td>4.0</td>\n",
       "      <td>4</td>\n",
       "      <td>Sintra</td>\n",
       "      <td>Almargem do Bispo</td>\n",
       "    </tr>\n",
       "    <tr>\n",
       "      <th>3</th>\n",
       "      <td>280000</td>\n",
       "      <td>House</td>\n",
       "      <td>101</td>\n",
       "      <td>1.0</td>\n",
       "      <td>2</td>\n",
       "      <td>Loures</td>\n",
       "      <td>Santa Iria de Azoia</td>\n",
       "    </tr>\n",
       "    <tr>\n",
       "      <th>4</th>\n",
       "      <td>425000</td>\n",
       "      <td>House</td>\n",
       "      <td>402</td>\n",
       "      <td>3.0</td>\n",
       "      <td>4</td>\n",
       "      <td>Alenquer</td>\n",
       "      <td>Carregado e Cadafais</td>\n",
       "    </tr>\n",
       "  </tbody>\n",
       "</table>\n",
       "</div>"
      ],
      "text/plain": [
       "    Price Prop_type  Size  Bath  Bed      City              Division\n",
       "0   25000     House    80   1.0    3   Cadaval                 Vilar\n",
       "1  399900     House   250   2.0    5    Sintra     Almargem do Bispo\n",
       "2  318000     House   123   4.0    4    Sintra     Almargem do Bispo\n",
       "3  280000     House   101   1.0    2    Loures   Santa Iria de Azoia\n",
       "4  425000     House   402   3.0    4  Alenquer  Carregado e Cadafais"
      ]
     },
     "execution_count": 6,
     "metadata": {},
     "output_type": "execute_result"
    }
   ],
   "source": [
    "df.head()"
   ]
  },
  {
   "cell_type": "code",
   "execution_count": 7,
   "id": "bdf25466",
   "metadata": {},
   "outputs": [
    {
     "data": {
      "text/plain": [
       "Cascais e Estoril         301\n",
       "Avenidas Novas            263\n",
       "Arroios                   200\n",
       "Santo António             188\n",
       "Santa Maria Maior         187\n",
       "                         ... \n",
       "Santa Bárbara               2\n",
       "Peral                       2\n",
       "Vimeiro                     2\n",
       "Ota                         1\n",
       "Vila Verde dos Francos      1\n",
       "Name: Division, Length: 131, dtype: int64"
      ]
     },
     "execution_count": 7,
     "metadata": {},
     "output_type": "execute_result"
    }
   ],
   "source": [
    "division_count = df['Division'].value_counts()\n",
    "division_count"
   ]
  },
  {
   "cell_type": "code",
   "execution_count": 27,
   "id": "3d5d3902",
   "metadata": {},
   "outputs": [],
   "source": [
    "divisions = df['Division'].unique()"
   ]
  },
  {
   "cell_type": "code",
   "execution_count": 30,
   "id": "51de836e",
   "metadata": {},
   "outputs": [],
   "source": [
    "divisions_list = divisions.tolist() "
   ]
  },
  {
   "cell_type": "code",
   "execution_count": 32,
   "id": "05d8be5b",
   "metadata": {},
   "outputs": [
    {
     "data": {
      "text/plain": [
       "['Vilar',\n",
       " 'Almargem do Bispo',\n",
       " 'Santa Iria de Azoia',\n",
       " 'Carregado e Cadafais',\n",
       " 'Alhandra',\n",
       " 'São Domingos de Rana',\n",
       " 'Sintra (Santa Maria e São Miguel',\n",
       " 'AlgueirãoMem Martins',\n",
       " 'Rio de Mouro',\n",
       " 'Alvalade',\n",
       " 'Ribafria e Pereiro de Palhacana',\n",
       " 'Vila Franca de Xira',\n",
       " 'Carnide',\n",
       " 'Azambuja',\n",
       " 'Alcabideche',\n",
       " 'Dois Portos e Runa',\n",
       " 'Vialonga',\n",
       " 'Abrigada e Cabanas de Torres',\n",
       " 'Benfica',\n",
       " 'Alcoentre',\n",
       " 'Ramalhal',\n",
       " 'Turcifal',\n",
       " 'Avenidas Novas',\n",
       " 'Venteira',\n",
       " 'Colares',\n",
       " 'Cascais e Estoril',\n",
       " 'Ventosa',\n",
       " 'Carcavelos e Parede',\n",
       " 'Lourinhã e Atalaia',\n",
       " 'Ajuda',\n",
       " 'Lousa',\n",
       " 'Agualva e MiraSintra',\n",
       " 'Torres Vedras (São Pedro',\n",
       " 'Alenquer (Santo Estêvão e Triana)',\n",
       " 'Alverca do Ribatejo e Sobralinho',\n",
       " 'Cardosas',\n",
       " 'Queluz e Belas',\n",
       " 'Odivelas',\n",
       " 'Oeiras e São Julião da Barra',\n",
       " 'Carvoeira',\n",
       " 'São João das Lampas e Terrugem',\n",
       " 'Milharado',\n",
       " 'Pontinha e Famões',\n",
       " 'Loures',\n",
       " 'Cadaval e Pêro Moniz',\n",
       " 'Silveira',\n",
       " 'Cacém e São Marcos',\n",
       " 'Estrela',\n",
       " 'Santiago dos Velhos',\n",
       " 'Fanhões',\n",
       " 'São Pedro da Cadeira',\n",
       " 'Campolide',\n",
       " 'Miragaia e Marteleira',\n",
       " 'Campelos e Outeiro da Cabeça',\n",
       " 'Ponte do Rol',\n",
       " 'Camarate',\n",
       " 'Póvoa de Santa Iria e Forte da Casa',\n",
       " 'Enxara do Bispo',\n",
       " 'Santo Antão e São Julião do Tojal',\n",
       " 'Ribamar',\n",
       " 'Aldeia Galega da Merceana e Aldeia Gavinha',\n",
       " 'Moita dos Ferreiros',\n",
       " 'Olivais',\n",
       " 'Ericeira',\n",
       " 'Carnota',\n",
       " 'São Quintino',\n",
       " 'Maxial e Monte Redondo',\n",
       " 'Ramada e Caneças',\n",
       " 'Painho e Figueiros',\n",
       " 'Santo Isidoro',\n",
       " 'Sobral de Monte Agraço',\n",
       " 'Azueira e Sobral da Abelheira',\n",
       " 'Vermelha',\n",
       " 'Aveiras de Baixo',\n",
       " 'Águas Livres',\n",
       " 'Freiria',\n",
       " 'Porto Salvo',\n",
       " 'Vale do Paraíso',\n",
       " 'Lamas e Cercal',\n",
       " 'Bucelas',\n",
       " 'São Bartolomeu dos Galegos e Moledo',\n",
       " 'Carnaxide e Queijas',\n",
       " 'Carvoeira e Carmões',\n",
       " 'Mafra',\n",
       " 'Belém',\n",
       " 'Algés',\n",
       " 'Encarnação',\n",
       " 'Meca',\n",
       " 'A dos Cunhados e Maceira',\n",
       " 'Alfragide',\n",
       " 'Venda do Pinheiro e Santo Estêvão das Galés',\n",
       " 'Mina de Água',\n",
       " 'Vila Verde dos Francos',\n",
       " 'Malveira e São Miguel de Alcainça',\n",
       " 'Ota',\n",
       " 'Marvila',\n",
       " 'Manique do Intendente',\n",
       " 'Arranhó',\n",
       " 'Vila Nova da Rainha',\n",
       " 'Aveiras de Cima',\n",
       " 'Arruda dos Vinhos',\n",
       " 'Castanheira do Ribatejo e Cachoeiras',\n",
       " 'Beato',\n",
       " 'Misericórdia',\n",
       " 'Penha de França',\n",
       " 'Campo de Ourique',\n",
       " 'Barcarena',\n",
       " 'Massamá e Monte Abraão',\n",
       " 'Igreja Nova e Cheleiros',\n",
       " 'Olhalvo',\n",
       " 'Sapataria',\n",
       " 'Casal de Cambra',\n",
       " 'Vimeiro',\n",
       " 'Peral',\n",
       " 'Santo António',\n",
       " 'Santa Clara',\n",
       " 'Alcântara',\n",
       " 'São Vicente',\n",
       " 'Areeiro',\n",
       " 'Santa Bárbara',\n",
       " 'Santo António dos Cavaleiros e Frielas',\n",
       " 'Sacavém e Prior Velho',\n",
       " 'Arroios',\n",
       " 'Lumiar',\n",
       " 'Santa Maria Maior',\n",
       " 'Póvoa de Santo Adrião e Olival Basto',\n",
       " 'Falagueira  Venda Nova',\n",
       " 'São Domingos de Benfica',\n",
       " 'Encosta do Sol',\n",
       " 'Moscavide e Portela',\n",
       " 'Parque das Nações']"
      ]
     },
     "execution_count": 32,
     "metadata": {},
     "output_type": "execute_result"
    }
   ],
   "source": [
    "divisions_list"
   ]
  },
  {
   "cell_type": "code",
   "execution_count": 18,
   "id": "0e953b0b",
   "metadata": {},
   "outputs": [],
   "source": [
    "divisions = ['calgary', 'tokyo', 'shanghai']"
   ]
  },
  {
   "cell_type": "code",
   "execution_count": 14,
   "id": "ae3a3bb6",
   "metadata": {},
   "outputs": [
    {
     "name": "stdout",
     "output_type": "stream",
     "text": [
      "51°02′45″N 114°03′27″W\n"
     ]
    }
   ],
   "source": [
    "req = requests.get(\"https://en.wikipedia.org/wiki/Calgary\").text\n",
    "soup = bs(req, 'lxml')\n",
    "latitude = soup.find(\"span\", {\"class\": \"latitude\"})\n",
    "longitude = soup.find(\"span\", {\"class\": \"longitude\"})\n",
    "print(latitude.text, longitude.text)"
   ]
  },
  {
   "cell_type": "code",
   "execution_count": 45,
   "id": "f11a2ede",
   "metadata": {},
   "outputs": [],
   "source": [
    "latlon_list=[]\n",
    "\n",
    "for division in divisions_list:\n",
    "    url = \"https://en.wikipedia.org/wiki/{}\"\n",
    "    latlon = {}\n",
    "    latlon['division'] = division\n",
    "    url_division = url.format(division)\n",
    "    req = requests.get(url_division).text\n",
    "    soup = bs(req, 'lxml')    \n",
    "    latitude = soup.find(\"span\", {\"class\": \"latitude\"})\n",
    "    longitude = soup.find(\"span\", {\"class\": \"longitude\"})\n",
    "    \n",
    "    if latitude and longitude:\n",
    "        latlon['latitude'] = latitude.text\n",
    "        latlon['longitude'] = longitude.text\n",
    "        \n",
    "    else:\n",
    "        url = \"https://en.wikipedia.org/wiki/{}_(Lisbon)\"\n",
    "        latlon = {}\n",
    "        latlon['division'] = division\n",
    "        url_division = url.format(division)\n",
    "        req = requests.get(url_division).text\n",
    "        soup = bs(req, 'lxml')    \n",
    "        latitude = soup.find(\"span\", {\"class\": \"latitude\"})\n",
    "        longitude = soup.find(\"span\", {\"class\": \"longitude\"})\n",
    "\n",
    "        if latitude and longitude:\n",
    "            latlon['latitude'] = latitude.text\n",
    "            latlon['longitude'] = longitude.text      \n",
    "\n",
    "    latlon_list.append(latlon)\n",
    "\n",
    "df_loc = pd.DataFrame(latlon_list)    "
   ]
  },
  {
   "cell_type": "code",
   "execution_count": 46,
   "id": "8d2c2ab1",
   "metadata": {},
   "outputs": [
    {
     "name": "stdout",
     "output_type": "stream",
     "text": [
      "<class 'pandas.core.frame.DataFrame'>\n",
      "RangeIndex: 131 entries, 0 to 130\n",
      "Data columns (total 3 columns):\n",
      " #   Column     Non-Null Count  Dtype \n",
      "---  ------     --------------  ----- \n",
      " 0   division   131 non-null    object\n",
      " 1   latitude   73 non-null     object\n",
      " 2   longitude  73 non-null     object\n",
      "dtypes: object(3)\n",
      "memory usage: 3.2+ KB\n"
     ]
    }
   ],
   "source": [
    "df_loc.info()"
   ]
  },
  {
   "cell_type": "code",
   "execution_count": 49,
   "id": "1c43f93f",
   "metadata": {},
   "outputs": [
    {
     "data": {
      "text/html": [
       "<div>\n",
       "<style scoped>\n",
       "    .dataframe tbody tr th:only-of-type {\n",
       "        vertical-align: middle;\n",
       "    }\n",
       "\n",
       "    .dataframe tbody tr th {\n",
       "        vertical-align: top;\n",
       "    }\n",
       "\n",
       "    .dataframe thead th {\n",
       "        text-align: right;\n",
       "    }\n",
       "</style>\n",
       "<table border=\"1\" class=\"dataframe\">\n",
       "  <thead>\n",
       "    <tr style=\"text-align: right;\">\n",
       "      <th></th>\n",
       "      <th>division</th>\n",
       "      <th>latitude</th>\n",
       "      <th>longitude</th>\n",
       "    </tr>\n",
       "  </thead>\n",
       "  <tbody>\n",
       "    <tr>\n",
       "      <th>0</th>\n",
       "      <td>Vilar</td>\n",
       "      <td>NaN</td>\n",
       "      <td>NaN</td>\n",
       "    </tr>\n",
       "    <tr>\n",
       "      <th>1</th>\n",
       "      <td>Almargem do Bispo</td>\n",
       "      <td>NaN</td>\n",
       "      <td>NaN</td>\n",
       "    </tr>\n",
       "    <tr>\n",
       "      <th>2</th>\n",
       "      <td>Santa Iria de Azoia</td>\n",
       "      <td>NaN</td>\n",
       "      <td>NaN</td>\n",
       "    </tr>\n",
       "    <tr>\n",
       "      <th>3</th>\n",
       "      <td>Carregado e Cadafais</td>\n",
       "      <td>39°01′23″N</td>\n",
       "      <td>8°58′48″W</td>\n",
       "    </tr>\n",
       "    <tr>\n",
       "      <th>4</th>\n",
       "      <td>Alhandra</td>\n",
       "      <td>NaN</td>\n",
       "      <td>NaN</td>\n",
       "    </tr>\n",
       "  </tbody>\n",
       "</table>\n",
       "</div>"
      ],
      "text/plain": [
       "               division    latitude  longitude\n",
       "0                 Vilar         NaN        NaN\n",
       "1     Almargem do Bispo         NaN        NaN\n",
       "2   Santa Iria de Azoia         NaN        NaN\n",
       "3  Carregado e Cadafais  39°01′23″N  8°58′48″W\n",
       "4              Alhandra         NaN        NaN"
      ]
     },
     "execution_count": 49,
     "metadata": {},
     "output_type": "execute_result"
    }
   ],
   "source": [
    "df_loc.head()"
   ]
  },
  {
   "cell_type": "code",
   "execution_count": 51,
   "id": "e72c7d3d",
   "metadata": {},
   "outputs": [],
   "source": [
    "df_loc.to_csv(r'division_loc1.csv', index = False, header=True)"
   ]
  },
  {
   "cell_type": "code",
   "execution_count": null,
   "id": "a8cfbaac",
   "metadata": {},
   "outputs": [],
   "source": []
  }
 ],
 "metadata": {
  "kernelspec": {
   "display_name": "Python 3",
   "language": "python",
   "name": "python3"
  },
  "language_info": {
   "codemirror_mode": {
    "name": "ipython",
    "version": 3
   },
   "file_extension": ".py",
   "mimetype": "text/x-python",
   "name": "python",
   "nbconvert_exporter": "python",
   "pygments_lexer": "ipython3",
   "version": "3.8.5"
  }
 },
 "nbformat": 4,
 "nbformat_minor": 5
}
